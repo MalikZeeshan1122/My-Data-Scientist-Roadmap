{
 "cells": [
  {
   "cell_type": "markdown",
   "metadata": {},
   "source": [
    "# Agenda\n",
    "# 1. Operators \n",
    "- Arithmetic Operators\n",
    "- Comparison Operators\n",
    "- Logical Operators\n",
    "- Assignment Operators \n",
    "- Bitwise Operators\n",
    "- Identity Operators\n",
    "- Membership Operators\n",
    "- Ternary Operator\n",
    "# 2. String methods \n",
    "- capitalize() \n",
    "- casefold()   - center() - count() - encode() - endswith() - expandtabs() - find() - format() - format_map() - index() - isalnum() - isalpha() - isascii() - isdecimal() - isdigit() - isidentifier() - islower() - isnumeric() - isprintable() - isspace() - istitle() - isupper() - join() - ljust() - lower() - lstrip() - maketrans() - partition() - replace() - rfind() - rindex() - rjust() - rpartition() - rsplit() - rstrip() - split() - splitlines() - startswith() - strip() - swapcase() - title() - translate() - upper() - zfill() - format_map() - isidentifier() - isprintable() - join() - ljust() - lower() - lstrip() - maketrans() - partition() - replace() - rfind() - rindex() - rjust() - rpartition() - rsplit() - rstrip() - split() - splitlines() - startswith() - strip() - swapcase() - title() - translate() - upper() - zfill() \n",
    "\n",
    "# 3. List methods\n",
    "- append() - clear() - copy() - count() - extend() - index() - insert() - pop() - remove() - reverse() - sort()\n",
    "\n",
    "# 4. Tuple methods\n",
    "- count() - index()\n",
    "\n",
    "# 5. Dictionary methods\n",
    "- clear() - copy() - fromkeys() - get() - items() - keys() - pop() - popitem() - setdefault() - update() - values()\n",
    "\n",
    "# 6. Set methods\n",
    "- add() - clear() - copy() - difference() - difference_update() - discard() - intersection() - intersection_update() - isdisjoint() - issubset() - issuperset() - pop() - remove() - symmetric_difference() - symmetric_difference_update() - union() - update()\n",
    "\n",
    "# 7. Control flow statements\n",
    "- if-elif-else - for loop - while loop - break - continue - pass - return - range() - enumerate() - zip() - sorted() - reversed() - filter() - map() - lambda - list comprehension - dictionary comprehension - set comprehension - generator expression - recursion - decorators - generator - iterator - closure - context manager - with statement - assert - del - global - nonlocal\n",
    "\n",
    "# 8. Functions\n",
    "- function definition - function call - function arguments - function return - function recursion - function scope - function lambda - function closure - function decorator - function generator - function iterator - function generator - function context manager - function with statement - function assert - function del - function global - function nonlocal\n",
    "\n",
    "# 9. Classes and Objects\n",
    "- class definition - class object - class inheritance - class method - class instance - class instance method - class static method - class property - class attribute - class destructor - class super() - class __init__() - class __str__() - class __repr__() - class __len__() - class __del__() -\n",
    "\n",
    "# 10. Modules and Packages\n",
    "- module definition - module import - module alias - module dir() - module __name__ - module __file__ - module __package__ - module __path__ - module __all__ - module __init__.py - module __main__.py - module __pycache__ - module sys.path - module sys.modules - module sys.meta_path - module sys.path_hooks - module sys.path_importer_cache - module sys.modules - module sys.builtin_module_names - module sys.getsizeof() - module sys.getrefcount() - module sys.getrecursionlimit() - module sys.setrecursionlimit() - module sys.getprofile() - module sys.setprofile() - module sys.gettrace() - module\n",
    "\n",
    "# 11. File I/O\n",
    "- file open() - file close() - file read() - file write() - file readline() - file readlines() - file seek() - file tell() - file truncate() - file flush() - file write() - file writelines() - file mode - file name - file closed - file readable - file writable - file seekable - file encoding - file errors - file newlines - file line_buffering - file write_through - file binary - file text - file raw - file buffered - file line_buffering - file flush() - file detach() - file fileno() - file isatty() - file readinto() - file readinto1() - file read1() - file readall() - file readall\n",
    "\n",
    "# 12. Exception Handling\n",
    "- try-except - try-except-else - try-except-finally - try-except-else-finally - try-finally - try-else - raise\n",
    "\n",
    "# 13. Regular Expressions\n",
    "- re.compile() - re.search() - re.match() - re.fullmatch() - re.split() - re.findall() - re.finditer() - re.sub() - re.subn() - re.escape() - re.pattern - re.flags - re.groups - re.groupdict - re.group - re.start - re.end - re.span - re.string - re.pos - re.endpos - re.lastindex - re.lastgroup - re.re - re.match - re.fullmatch - re.search - re.findall - re.finditer - re.sub - re.subn - re.split - re.escape - re.purge - re.template - re.__all__ - re.__version__ - re.__file__ - re.__name__ - re.__package__ - re.__doc__ - re.__spec__ - re.__loader__ - re.__path__ - re.__file__ - re.__cached__ - re.__builtins__ - re.__dict__ - re.__getattr__ - re.__setattr__ - re.__delattr__ - re.__dir__ - re.__class__ - re.__bases__ - re.__subclasses__ - re.__mro__ - re.__instancecheck__ - re.__subclasscheck__ - re.__init__ - re.__new__ - re.__prepare__ - re.__class_getitem__ - re.__init_subclass__ - re.__classcell__ - re.__doc__ - re.__module__ - re.__annotations__ - re.__dict__ - re.__name__ - re.__qualname__ - re.__str__ - re.__repr__ - re.__hash__ - re.__bool__ - re.__format__ - re.__sizeof__ - re.__dir__ - re.__class__ - re.__subclasshook__ - re.__init__ - re.__new__ - re.__del__ - re.__lt__ - re.__le__ - re.__eq__ - re.__ne__ - re.__gt__ - re.__ge__ - re.__add__ - re.__radd__ - re.__sub__ - re.__rsub__ - re.__mul__ - re.__rmul__ - re.__mod__ - re.__rmod__ - re.__divmod__ - re.__rdivmod__ - re.__pow__ - re.__rpow__ - re.__neg__ - re.__pos__ - re.__abs__ - re.__bool__ - re.__invert__ - re\n",
    "\n",
    "# 14. Date and Time\n",
    "- date - time - datetime - timedelta - tzinfo - timezone - date.today() - date.fromisoformat() - date.fromordinal() - date.fromtimestamp() - date.min - date.max - date.resolution - date.year - date.month - date.day - date.weekday() - date.isoweekday() - date.isocalendar() - date.isoformat() - date.ctime() - date.strftime() - date.__str__() - date.__repr__() - date.__hash__() - date.__eq__() - date.__ne__() - date.__lt__() - date.__le__() - date.__gt__() - date.__ge__() - date.__add__() - date.__sub__() - date.__format__() - date.__new__() - date.__reduce__() - date.__reduce_ex__() - date.__getnewargs__() - date.__getstate__() - date.__setstate__() - date.__copy__() - date.__deepcopy__() - date.__reduce__() - date.__reduce_ex__() - date.__sizeof__() - date.__dir__() - date.__class__ - date.__doc__ - date.__module__ - date.__name__ - date.__qualname__ - date.__str__ - date.__repr__ - date.__hash__ - date.__eq__ - date.__ne__ - date.__lt__ - date.__le__ - date.__gt__ - date.__ge__ - date.__add__ - date.__sub__ - date.__format__ - date.__new__ - date.__reduce__ - date.__reduce_ex__ - date.__getnewargs__ - date.__getstate__ - date.__setstate__ - date.__copy__ - date.__deepcopy__ - date.__reduce__ - date.__reduce_ex__ - date.__sizeof__ - date.__dir__ - date.__class__ - date.__\n",
    "\n",
    "# 15. Math\n",
    "- math.ceil() - math.floor() - math.trunc() - math.copysign() - math.fabs() - math.factorial() - math.fmod() - math.frexp() - math.fsum() - math.isfinite() - math.isinf() - math.isnan() - math.modf() - math.copysign() - math.fabs() - math.factorial() - math.fmod() - math.frexp() - math.fsum() - math.isfinite() - math.isinf() - math.isnan() - math.modf() - math.copysign() - math.fabs() - math.factorial() - math.fmod() - math.frexp() - math.fsum() - math.isfinite() - math.isinf() - math.isnan() - math.modf() - math.copysign() - math.fabs() - math.factorial() - math.fmod() - math.frexp() - math.fsum() - math.isfinite() - math.isinf() - math.isnan() - math.modf() - math.copysign() - math.fabs() - math.factorial() - math.fmod() - math.frexp() - math.fsum() - math.isfinite() - math.isinf() - math.isnan() - math.modf() - math.copysign() - math.fabs() - math.factorial() - math.fmod() - math.frexp() - math.fsum() - math.isfinite() - math.isinf() - math.isnan() - math.modf() - math.copysign() - math.fabs() - math.factorial() - math.fmod() - math.frexp() - math.fsum() - math.isfinite() - math.isinf() - math.isnan() - math.modf() - math.copysign() - math.fabs() - math.factorial() - math.fmod() - math.frexp() - math.fsum() - math.isfinite() - math.isinf() - math.isnan() - math.modf() - math.copysign() - math.fabs() - math.factorial() - math.fmod() - math.frexp() - math.fsum() - math.isfinite() - math.isinf() - math.isnan() - math.modf() - math.copysign() - math.fabs() - math.factorial() - math.fmod() - math.frexp()\n",
    "\n",
    "# 16. Random\n",
    "- random.seed() - random.getstate() - random.setstate() - random.getrandbits() - random.randrange() - random.randint() - random.choice() - random.choices() - random.shuffle() - random.sample() - random.random() - random.uniform() - random.triangular() - random.betavariate() - random.expovariate() - random.gammavariate() - random.gauss() - random.lognormvariate() - random.normalvariate() - random.paretovariate() - random.weibullvariate() - random.seed() - random.getstate() - random.setstate() - random.getrandbits() - random.randrange() - random.randint() - random.choice() - random.choices() - random.shuffle() - random.sample() - random.random() - random.uniform() - random.triangular() - random.betavariate() - random.expovariate() - random.gammavariate() - random.gauss() - random.lognormvariate() - random.normalvariate() - random.paretovariate() - random.weibullvariate() - random.seed() - random.getstate() - random.setstate() - random.getrandbits() - random.randrange() - random.randint() - random.choice() - random.choices() - random.shuffle() - random.sample() - random.random() - random.uniform() - random.triangular() - random.betavariate() - random.expovariate() - random.gammavariate() - random.gauss() - random.lognormvariate() - random.normalvariate() - random.paretovariate() - random.weibullvariate() - random.seed() - random.getstate() - random.setstate() - random.getrandbits() - random.randrange() - random.randint() - random.choice() - random.choices() - random.shuffle() - random.sample() - random.random() - random.uniform() - random.triangular() - random.betavariate() - random.expovariate() - random.gammavariate() - random.gauss() - random.lognormvariate() - random.normalvariate() - random.paretovariate() - random.weibullvariate() - random.seed() - random.getstate() - random.setstate() - random.getrandbits() - random.randrange() - random.randint() - random.choice() - random.choices() - random.shuffle() - random.sample() - random.random() - random.uniform() - random.tr\n",
    "\n",
    "# 17. JSON\n",
    "- json.dumps() - json.loads() - json.load() - json.dump() - json.JSONEncoder() - json.JSONDecoder()\n",
    "\n",
    "# 18. OS\n",
    "\n",
    "# 19. System\n",
    "\n",
    "# 20. Threading\n",
    "\n",
    "# 21. Multiprocessing\n",
    "\n"
   ]
  },
  {
   "cell_type": "markdown",
   "metadata": {},
   "source": [
    "# Operators\n",
    "`Logical Operators`\n",
    "- not | unary negative\n",
    "- and | conditional AND\n",
    "- or  | conditional OR"
   ]
  },
  {
   "cell_type": "code",
   "execution_count": 2,
   "metadata": {},
   "outputs": [
    {
     "name": "stdout",
     "output_type": "stream",
     "text": [
      "True\n"
     ]
    }
   ],
   "source": [
    "START = True\n",
    "print(START)"
   ]
  },
  {
   "cell_type": "code",
   "execution_count": 3,
   "metadata": {},
   "outputs": [
    {
     "name": "stdout",
     "output_type": "stream",
     "text": [
      "False\n"
     ]
    }
   ],
   "source": [
    "START = True\n",
    "print(not START)"
   ]
  },
  {
   "cell_type": "code",
   "execution_count": 6,
   "metadata": {},
   "outputs": [
    {
     "name": "stdout",
     "output_type": "stream",
     "text": [
      "Lets concentrate\n"
     ]
    }
   ],
   "source": [
    "class_started = True\n",
    "\n",
    "if class_started:\n",
    "    print(\"Lets concentrate\")\n",
    "    "
   ]
  },
  {
   "cell_type": "code",
   "execution_count": 9,
   "metadata": {},
   "outputs": [],
   "source": [
    "class_started = True\n",
    "\n",
    "if not class_started:\n",
    "    print(\"Lets concentrate\")"
   ]
  },
  {
   "cell_type": "code",
   "execution_count": 10,
   "metadata": {},
   "outputs": [
    {
     "name": "stdout",
     "output_type": "stream",
     "text": [
      "Lets concentrate\n"
     ]
    }
   ],
   "source": [
    "class_started = False\n",
    "if not class_started:\n",
    "    print(\"Lets concentrate\")"
   ]
  },
  {
   "cell_type": "markdown",
   "metadata": {},
   "source": [
    "# if else Conditional Statement "
   ]
  },
  {
   "cell_type": "code",
   "execution_count": 11,
   "metadata": {},
   "outputs": [
    {
     "name": "stdout",
     "output_type": "stream",
     "text": [
      "Lets revise previous class\n"
     ]
    }
   ],
   "source": [
    "class_started = False\n",
    "\n",
    "if class_started:\n",
    "    print(\"Lets concentrate\")\n",
    "else:\n",
    "    print(\"Lets revise previous class\")"
   ]
  },
  {
   "cell_type": "code",
   "execution_count": 12,
   "metadata": {},
   "outputs": [
    {
     "name": "stdout",
     "output_type": "stream",
     "text": [
      "Revise Topics\n"
     ]
    }
   ],
   "source": [
    "class_started = False\n",
    "\n",
    "if class_started:\n",
    "    print(\"Lets concentrate\")\n",
    "else:\n",
    "    print(\"Revise Topics\")"
   ]
  },
  {
   "cell_type": "code",
   "execution_count": 16,
   "metadata": {},
   "outputs": [
    {
     "name": "stdout",
     "output_type": "stream",
     "text": [
      "execute this statement\n"
     ]
    }
   ],
   "source": [
    "condition = True\n",
    "\n",
    "if condition:\n",
    "    print(\"execute this statement\")\n",
    "else:\n",
    "    print(\"Lets revise previous class\") "
   ]
  },
  {
   "cell_type": "markdown",
   "metadata": {},
   "source": [
    "`if its is raining then lets work from home else lets go to office`"
   ]
  },
  {
   "cell_type": "code",
   "execution_count": 17,
   "metadata": {},
   "outputs": [
    {
     "name": "stdout",
     "output_type": "stream",
     "text": [
      "Lets do work from home\n"
     ]
    }
   ],
   "source": [
    "raining = True\n",
    "\n",
    "if raining:  # TRUE CONDITION\n",
    "    print(\"Lets do work from home\")   # This statement is executed \n",
    "else:    \n",
    "    print(\"Lets go to office\")"
   ]
  },
  {
   "cell_type": "code",
   "execution_count": 7,
   "metadata": {},
   "outputs": [
    {
     "name": "stdout",
     "output_type": "stream",
     "text": [
      "Since its not raining ...\n",
      "Lets go to office\n"
     ]
    }
   ],
   "source": [
    "raining = True\n",
    "\n",
    "if raining:  # TRUE CONDITION\n",
    "    print(\"Since its not raining ...\")\n",
    "    print(\"Lets go to office\")   # This statement is executed \n",
    "else:\n",
    "    print(\"Since its raining...\")  \n",
    "    print(\"Lets do work from home\")"
   ]
  },
  {
   "cell_type": "code",
   "execution_count": 8,
   "metadata": {},
   "outputs": [
    {
     "name": "stdout",
     "output_type": "stream",
     "text": [
      "Since its not raining ...\n",
      "Lets go to office\n"
     ]
    }
   ],
   "source": [
    "raining = True\n",
    "\n",
    "if raining:  # TRUE CONDITION\n",
    "    print(\"Since its not raining ...\")\n",
    "    print(\"Lets go to office\")   # This statement is executed \n",
    "else:\n",
    "    print(\"Since its raining...\")  \n",
    "    print(\"Lets do work from home\")"
   ]
  },
  {
   "cell_type": "code",
   "execution_count": 9,
   "metadata": {},
   "outputs": [
    {
     "name": "stdout",
     "output_type": "stream",
     "text": [
      "Since its not raining ...\n",
      "Lets go to office\n"
     ]
    }
   ],
   "source": [
    "raining = False\n",
    "\n",
    "if not raining:  # TRUE CONDITION\n",
    "    print(\"Since its not raining ...\")\n",
    "    print(\"Lets go to office\")   # This statement is executed \n",
    "else:\n",
    "    print(\"Since its raining...\") \n",
    "    print(\"Lets do work from home\")"
   ]
  },
  {
   "cell_type": "markdown",
   "metadata": {},
   "source": [
    "# C++ Language code \n",
    "```c \n",
    "bool raining = True;\n",
    "\n",
    "if raining{\n",
    "    print(\"Since its raining...\");\n",
    "    print(\"Lets do work from home\");\n",
    "}```"
   ]
  },
  {
   "cell_type": "code",
   "execution_count": null,
   "metadata": {},
   "outputs": [],
   "source": []
  },
  {
   "cell_type": "code",
   "execution_count": 10,
   "metadata": {},
   "outputs": [
    {
     "name": "stdout",
     "output_type": "stream",
     "text": [
      "Lets go to office\n"
     ]
    }
   ],
   "source": [
    "raining = False\n",
    "\n",
    "if raining:  # FALSE CONDITION \n",
    "    print(\"Lets do work from home\")\n",
    "else:\n",
    "    print(\"Lets go to office\") # THIS STATEMENT IS EXECUTED  "
   ]
  },
  {
   "cell_type": "code",
   "execution_count": 11,
   "metadata": {},
   "outputs": [
    {
     "name": "stdout",
     "output_type": "stream",
     "text": [
      "Since class is started...\n",
      "Lets concentrate\n"
     ]
    }
   ],
   "source": [
    "class_started = True\n",
    "\n",
    "if class_started:\n",
    "    print(\"Since class is started...\")\n",
    "    print(\"Lets concentrate\")\n",
    "    \n",
    "else:\n",
    "    print(\"Since class is not started...\")\n",
    "    print(\"Lets revise your topics\")\n",
    "    "
   ]
  },
  {
   "cell_type": "markdown",
   "metadata": {},
   "source": [
    "`if class Not started then let's revise else let's concentrate class\"`"
   ]
  },
  {
   "cell_type": "code",
   "execution_count": 13,
   "metadata": {},
   "outputs": [
    {
     "name": "stdout",
     "output_type": "stream",
     "text": [
      "Since class is not started...\n",
      "Lets revise your topics\n"
     ]
    }
   ],
   "source": [
    "class_started = False\n",
    "\n",
    "if class_started:\n",
    "    print(\"Since class is started...\")\n",
    "    print(\"Lets concentrate\")\n",
    "    \n",
    "else:\n",
    "    print(\"Since class is not started...\")\n",
    "    print(\"Lets revise your topics\")\n",
    "    "
   ]
  },
  {
   "cell_type": "markdown",
   "metadata": {},
   "source": [
    "# and - conditional AND \n",
    " Vegetable | Salt | Dish \n",
    "- True | True | True\n",
    "- True | False| False\n",
    "- False| True | False\n",
    "- False| False| False\n",
    "\n"
   ]
  },
  {
   "cell_type": "code",
   "execution_count": 23,
   "metadata": {},
   "outputs": [
    {
     "name": "stdout",
     "output_type": "stream",
     "text": [
      "Its a good dish\n"
     ]
    }
   ],
   "source": [
    "vegetable_present = True\n",
    "salt_present = True\n",
    "\n",
    "if vegetable_present and salt_present:\n",
    "    print(\"Its a good dish\")\n",
    "else:\n",
    "    print(\"its a bad dish\")\n",
    "    print(f\"because vegetable present: {vegetable_present}\")\n",
    "    print(f\"and salt present: {salt_present}\")"
   ]
  },
  {
   "cell_type": "code",
   "execution_count": 24,
   "metadata": {},
   "outputs": [
    {
     "name": "stdout",
     "output_type": "stream",
     "text": [
      "its a bad dish\n",
      "because vegetable present: True \n",
      "and salt present: False\n"
     ]
    }
   ],
   "source": [
    "vegetable_present = True\n",
    "salt_present = False\n",
    "\n",
    "if vegetable_present and salt_present:\n",
    "    print(\"its a good dish\")\n",
    "else:\n",
    "    print(\"its a bad dish\")\n",
    "    print(f\"because vegetable present: {vegetable_present} \")\n",
    "    print(f\"and salt present: {salt_present}\")\n",
    "    "
   ]
  },
  {
   "cell_type": "code",
   "execution_count": 25,
   "metadata": {},
   "outputs": [
    {
     "name": "stdout",
     "output_type": "stream",
     "text": [
      "its a bad dish\n",
      "because vegetable present: False\n",
      "and salt present: True\n"
     ]
    }
   ],
   "source": [
    "vegetable_present = False\n",
    "salt_present = True\n",
    "\n",
    "if vegetable_present and salt_present:\n",
    "    print(\"its a good dish\")\n",
    "else:\n",
    "    print(\"its a bad dish\")\n",
    "    print(f\"because vegetable present: {vegetable_present}\")\n",
    "    print(f\"and salt present: {salt_present}\")"
   ]
  },
  {
   "cell_type": "code",
   "execution_count": 28,
   "metadata": {},
   "outputs": [
    {
     "name": "stdout",
     "output_type": "stream",
     "text": [
      "its a bad dish\n",
      "because vegetable present : False\n",
      "and salt present: False\n"
     ]
    }
   ],
   "source": [
    "vegetable_present = False\n",
    "salt_present = False\n",
    "\n",
    "if vegetable_present and salt_present:\n",
    "    print(\"its a good dish\")\n",
    "else:\n",
    "    print(\"its a bad dish\")\n",
    "    print(f\"because vegetable present : {vegetable_present}\")\n",
    "    print(f\"and salt present: {salt_present}\")"
   ]
  },
  {
   "cell_type": "markdown",
   "metadata": {},
   "source": [
    "# or - conditional OR\n",
    "if I have a car or bike then I can travel 100kms in day\n",
    "\n",
    " Car | Bike | Travel_100_kms\n",
    "- True | True | True\n",
    "- True | False| True\n",
    "- False| True | True\n",
    "- False| False| False\n",
    "\n"
   ]
  },
  {
   "cell_type": "code",
   "execution_count": 2,
   "metadata": {},
   "outputs": [
    {
     "name": "stdout",
     "output_type": "stream",
     "text": [
      "I can travel 100 kms in a day!\n"
     ]
    }
   ],
   "source": [
    "i_own_car = True\n",
    "i_own_bike = True\n",
    "  \n",
    "if i_own_car or i_own_bike:\n",
    "    print(\"I can travel 100 kms in a day!\")\n",
    "else:\n",
    "    print(\"I am stuck as I don't have car or bike\")"
   ]
  },
  {
   "cell_type": "code",
   "execution_count": 1,
   "metadata": {},
   "outputs": [
    {
     "name": "stdout",
     "output_type": "stream",
     "text": [
      "I can travel 100 kms in a day!\n"
     ]
    }
   ],
   "source": [
    "i_own_car = True\n",
    "i_own_bike = False\n",
    "\n",
    "if i_own_car or i_own_bike:\n",
    "    print(\"I can travel 100 kms in a day!\")\n",
    "else:\n",
    "    print(\"I am stuck as I don't have car or bike\")"
   ]
  },
  {
   "cell_type": "code",
   "execution_count": 3,
   "metadata": {},
   "outputs": [
    {
     "name": "stdout",
     "output_type": "stream",
     "text": [
      "I can travel 100 kms in a day!\n"
     ]
    }
   ],
   "source": [
    "i_own_car = False\n",
    "i_own_bike = True \n",
    "\n",
    "if i_own_car or i_own_bike:\n",
    "    print(\"I can travel 100 kms in a day!\")\n",
    "else:\n",
    "    print(\"I am stuck as I don't have car or bike\")\n",
    "    "
   ]
  },
  {
   "cell_type": "code",
   "execution_count": 4,
   "metadata": {},
   "outputs": [
    {
     "name": "stdout",
     "output_type": "stream",
     "text": [
      "I am stuck as I don't have car or bike\n"
     ]
    }
   ],
   "source": [
    "i_own_car = False\n",
    "i_own_bike = False\n",
    "\n",
    "if i_own_car or i_own_bike:\n",
    "    print(\"I can travel 100 kms in a day!\")\n",
    "else:\n",
    "    print(\"I am stuck as I don't have car or bike\")"
   ]
  },
  {
   "cell_type": "markdown",
   "metadata": {},
   "source": [
    " ### and example\n",
    " attendance | assignment | eligible_for_exam\n",
    "- True | True | True        > 75% | 70% | True\n",
    "- True | False| False         \n",
    "- False| True | False\n",
    "- False| False| False"
   ]
  },
  {
   "cell_type": "markdown",
   "metadata": {},
   "source": [
    "# AND Truth Table\n",
    "- True and True = True\n",
    "- True and False = False\n",
    "- False and True = False\n",
    "- False and False = False\n",
    "\n",
    "# OR Truth Table\n",
    "- True or True = True\n",
    "- True or False = True\n",
    "- False or True = True\n",
    "- False or False = False\n",
    "\n",
    "# NOT Truth Table\n",
    "- not True = False\n",
    "- not False = True"
   ]
  },
  {
   "cell_type": "code",
   "execution_count": 5,
   "metadata": {},
   "outputs": [
    {
     "name": "stdout",
     "output_type": "stream",
     "text": [
      "The student is not eligible to appear in final exam\n",
      "attendance: 70\n",
      "assignment submitted: 40\n"
     ]
    }
   ],
   "source": [
    "attendance = 70\n",
    "assignment_submitted = 40 \n",
    "\n",
    "if attendance >= 75 and assignment_submitted >= 70:\n",
    "    print(\"The student is eligible to appear in final exam\")\n",
    "else:\n",
    "    print(\"The student is not eligible to appear in final exam\")\n",
    "    print(f\"attendance: {attendance}\")\n",
    "    print(f\"assignment submitted: {assignment_submitted}\")"
   ]
  },
  {
   "cell_type": "code",
   "execution_count": 16,
   "metadata": {},
   "outputs": [
    {
     "name": "stdout",
     "output_type": "stream",
     "text": [
      "attendence criteria met? : True\n",
      "assignment criteria met? : True\n",
      "True\n",
      "The student is eligible to appear in final exam\n"
     ]
    }
   ],
   "source": [
    "attendance = 75\n",
    "assignment_submitted = 80\n",
    "\n",
    "print(f\"attendence criteria met? : {attendance >= 75}\")\n",
    "print(f\"assignment criteria met? : {assignment_submitted >= 70}\")\n",
    "\n",
    "print(attendance >= 75 and assignment_submitted >= 70)\n",
    "\n",
    "if attendance >= 75 and assignment_submitted >= 70:\n",
    "    print(\"The student is eligible to appear in final exam\")\n",
    "else:\n",
    "    print(\"The student is not eligible to appear in final exam\")\n",
    "    print(f\"attendance: {attendance}\")\n",
    "    print(f\"assignment submitted: {assignment_submitted}\")"
   ]
  },
  {
   "cell_type": "code",
   "execution_count": 15,
   "metadata": {},
   "outputs": [
    {
     "name": "stdout",
     "output_type": "stream",
     "text": [
      "attendence criteria met? : True\n",
      "assignment criteria met? : False\n",
      "False\n",
      "The student is not eligible to appear in final exam\n",
      "attendance: 75\n",
      "assignment submitted: 40\n"
     ]
    }
   ],
   "source": [
    "attendance = 75\n",
    "assignment_submitted = 40\n",
    "\n",
    "print(f\"attendence criteria met? : {attendance >= 75}\")\n",
    "print(f\"assignment criteria met? : {assignment_submitted >= 70}\")\n",
    "\n",
    "print(attendance >= 75 and assignment_submitted >= 70)\n",
    "\n",
    "if attendance >= 75 and assignment_submitted >= 70:\n",
    "    print(\"The student is eligible to appear in final exam\")\n",
    "else:\n",
    "    print(\"The student is not eligible to appear in final exam\")\n",
    "    print(f\"attendance: {attendance}\")\n",
    "    print(f\"assignment submitted: {assignment_submitted}\")"
   ]
  },
  {
   "cell_type": "markdown",
   "metadata": {},
   "source": [
    "# OR Operator"
   ]
  },
  {
   "cell_type": "code",
   "execution_count": 17,
   "metadata": {},
   "outputs": [
    {
     "name": "stdout",
     "output_type": "stream",
     "text": [
      "attendence criteria met? : True\n",
      "assignment criteria met? : True\n",
      "True\n",
      "The student is eligible to appear in final exam\n"
     ]
    }
   ],
   "source": [
    "attendance = 75\n",
    "assignment_submitted = 80\n",
    "\n",
    "print(f\"attendence criteria met? : {attendance >= 75}\")\n",
    "print(f\"assignment criteria met? : {assignment_submitted >= 70}\")\n",
    "\n",
    "print(attendance >= 75 or assignment_submitted >= 70)\n",
    "\n",
    "if attendance >= 75 or assignment_submitted >= 70:\n",
    "    print(\"The student is eligible to appear in final exam\")\n",
    "else:\n",
    "    print(\"The student is not eligible to appear in final exam\")\n",
    "    print(f\"attendance: {attendance}\")\n",
    "    print(f\"assignment submitted: {assignment_submitted}\")"
   ]
  },
  {
   "cell_type": "code",
   "execution_count": 19,
   "metadata": {},
   "outputs": [
    {
     "name": "stdout",
     "output_type": "stream",
     "text": [
      "attendence criteria met? : True\n",
      "assignment criteria met? : False\n",
      "True\n",
      "The student is eligible to appear in final exam\n"
     ]
    }
   ],
   "source": [
    "attendance = 75\n",
    "assignment_submitted = 40\n",
    "\n",
    "print(f\"attendence criteria met? : {attendance >= 75}\")\n",
    "print(f\"assignment criteria met? : {assignment_submitted >= 70}\")\n",
    "\n",
    "print(attendance >= 75 or assignment_submitted >= 70)\n",
    "\n",
    "if attendance >= 75 or assignment_submitted >= 70:\n",
    "    print(\"The student is eligible to appear in final exam\")\n",
    "else:\n",
    "    print(\"The student is not eligible to appear in final exam\")\n",
    "    print(f\"attendance: {attendance}\")\n",
    "    print(f\"assignment submitted: {assignment_submitted}\")"
   ]
  },
  {
   "cell_type": "markdown",
   "metadata": {},
   "source": [
    "# Or Operator\n",
    "credit_card | debit_card | cash | payment   \n",
    "- True | True | True | True\n",
    "- True | True | False| True\n",
    "- True | False| True | True\n",
    "- True | False| False| True\n",
    "- False| True | True | True\n",
    "- False| True | False| True\n",
    "- False| False| True | True\n",
    "- False| False| False| False\n",
    "\n",
    "# AND Operator\n",
    "\n",
    "credit_card | debit_card | cash | payment\n",
    "- True | True | True | True\n",
    "- True | True | False| False\n",
    "- True | False| True | False\n",
    "- True | False| False| False\n",
    "- False| True | True | False\n",
    "- False| True | False| False\n",
    "- False| False| True | False\n",
    "- False| False| False| False\n",
    "\n",
    "# NOT Operator\n",
    "\n",
    "credit_card | debit_card | cash | payment\n",
    "- True | True | True | False\n",
    "- True | True | False| False\n",
    "- True | False| True | False\n",
    "- True | False| False| False\n",
    "- False| True | True | False\n",
    "- False| True | False| False\n",
    "- False| False| True | False\n",
    "- False| False| False| True\n",
    "\n"
   ]
  },
  {
   "cell_type": "markdown",
   "metadata": {},
   "source": [
    "# AND Operator\n",
    "credit_card | debit_card | purchase_book_from_amazon\n",
    "- True | True | True\n",
    "- True | False| False\n",
    "- False| True | False\n",
    "- False| False| False\n"
   ]
  },
  {
   "cell_type": "code",
   "execution_count": 24,
   "metadata": {},
   "outputs": [
    {
     "name": "stdout",
     "output_type": "stream",
     "text": [
      "proceed further for payment\n"
     ]
    }
   ],
   "source": [
    "own_credit_card = True\n",
    "own_debit_card =  True\n",
    "\n",
    "if own_credit_card and own_debit_card:\n",
    "    print(\"proceed further for payment\")\n",
    "else:\n",
    "    print(\"Ask from a dad for debit or credit card?\")\n",
    "    print(\"cash on delivery \")\n"
   ]
  },
  {
   "cell_type": "code",
   "execution_count": 21,
   "metadata": {},
   "outputs": [
    {
     "name": "stdout",
     "output_type": "stream",
     "text": [
      "Ask from a friend for debit or credit card?\n"
     ]
    }
   ],
   "source": [
    "own_credit_card = True\n",
    "own_debit_card =  False\n",
    "\n",
    "if own_credit_card and own_debit_card:\n",
    "    print(\"proceed further for payment\")\n",
    "else:\n",
    "    print(\"Ask from a dad for debit or credit card?\")\n",
    "    print(\"cash on delivery\")"
   ]
  },
  {
   "cell_type": "code",
   "execution_count": 22,
   "metadata": {},
   "outputs": [
    {
     "name": "stdout",
     "output_type": "stream",
     "text": [
      "Ask from a friend for debit or credit card?\n"
     ]
    }
   ],
   "source": [
    "own_credit_card = False\n",
    "own_debit_card =  True\n",
    "\n",
    "if own_credit_card and own_debit_card:\n",
    "    print(\"proceed further for payment\")\n",
    "else:\n",
    "    print(\"Ask from a dad for debit or credit card?\")\n",
    "    print(\"cash on delivery\")"
   ]
  },
  {
   "cell_type": "code",
   "execution_count": 25,
   "metadata": {},
   "outputs": [
    {
     "name": "stdout",
     "output_type": "stream",
     "text": [
      "Ask from a dad for debit or credit card?\n",
      "cash on delivery\n"
     ]
    }
   ],
   "source": [
    "own_credit_card = False\n",
    "own_debit_card =  False\n",
    "online = True\n",
    "\n",
    "if own_credit_card and own_debit_card and online:\n",
    "    print(\"proceed further for payment\")\n",
    "else:\n",
    "    print(\"Ask from a dad for debit or credit card?\")\n",
    "    print(\"cash on delivery\")"
   ]
  },
  {
   "cell_type": "code",
   "execution_count": 26,
   "metadata": {},
   "outputs": [
    {
     "name": "stdout",
     "output_type": "stream",
     "text": [
      "proceed further for payment\n"
     ]
    }
   ],
   "source": [
    "own_credit_card = False\n",
    "own_debit_card =  False\n",
    "online = True\n",
    "\n",
    "if own_credit_card or own_debit_card or online:\n",
    "    print(\"proceed further for payment\")\n",
    "else:\n",
    "    print(\"Ask from a dad for debit or credit card?\")\n",
    "    print(\"cash on delivery\")"
   ]
  },
  {
   "cell_type": "markdown",
   "metadata": {},
   "source": [
    "attendance | assignment | support_player | eligible_for_exam\n",
    "-   >=75% | >=70% | True | True\n",
    "-   >=75% | <70% | True | False\n",
    "-   <75% | >=70% | True | False\n",
    "-   <75% | <70% | True | False\n",
    "\n"
   ]
  },
  {
   "cell_type": "code",
   "execution_count": 29,
   "metadata": {},
   "outputs": [
    {
     "name": "stdout",
     "output_type": "stream",
     "text": [
      "attendence criteria met? : True\n",
      "assignment criteria met? : False\n",
      "supports criteria met?: True\n",
      "True\n",
      "The student is eligible to appear in final exam\n"
     ]
    }
   ],
   "source": [
    "attendance = 75\n",
    "assignment_submitted = 40\n",
    "sports_player = True\n",
    "\n",
    "print(f\"attendence criteria met? : {attendance >= 75}\")\n",
    "print(f\"assignment criteria met? : {assignment_submitted >= 70}\")\n",
    "print(f\"supports criteria met?: {sports_player}\")\n",
    "\n",
    "print(attendance >= 75 or assignment_submitted >= 70)\n",
    "\n",
    "if attendance >= 75 or assignment_submitted >= 70 or sports_player:\n",
    "    if sports_player:\n",
    "        print(\"The student is eligible to appear in final exam\")\n",
    "    else:\n",
    "        print(\"The student is eligible to appear in final exam\")\n",
    "else:\n",
    "    print(\"The student is not eligible to appear in final exam\")\n",
    "    print(f\"attendance: {attendance}\")\n",
    "    print(f\"assignment submitted: {assignment_submitted}\")"
   ]
  },
  {
   "cell_type": "code",
   "execution_count": 30,
   "metadata": {},
   "outputs": [
    {
     "name": "stdout",
     "output_type": "stream",
     "text": [
      "attendence criteria met? : True\n",
      "assignment criteria met? : False\n",
      "supports criteria met?: False\n",
      "True\n",
      "The student is eligible to appear in final exam\n"
     ]
    }
   ],
   "source": [
    "attendance = 75\n",
    "assignment_submitted = 40\n",
    "sports_player = False\n",
    "\n",
    "print(f\"attendence criteria met? : {attendance >= 75}\")\n",
    "print(f\"assignment criteria met? : {assignment_submitted >= 70}\")\n",
    "print(f\"supports criteria met?: {sports_player}\")\n",
    "\n",
    "print(attendance >= 75 or assignment_submitted >= 70)\n",
    "\n",
    "if attendance >= 75 or assignment_submitted >= 70 or sports_player:\n",
    "    if sports_player:\n",
    "        print(\"The student is eligible to appear in final exam\")\n",
    "    else:\n",
    "        print(\"The student is eligible to appear in final exam\")\n",
    "else:\n",
    "    print(\"The student is not eligible to appear in final exam\")\n",
    "    print(f\"attendance: {attendance}\")\n",
    "    print(f\"assignment submitted: {assignment_submitted}\")"
   ]
  },
  {
   "cell_type": "code",
   "execution_count": 31,
   "metadata": {},
   "outputs": [
    {
     "name": "stdout",
     "output_type": "stream",
     "text": [
      "attendence criteria met? : True\n",
      "assignment criteria met? : True\n",
      "supports criteria met?: True\n",
      "True\n",
      "The student is eligible to appear in final exam\n"
     ]
    }
   ],
   "source": [
    "attendance = 75\n",
    "assignment_submitted = 90\n",
    "sports_player = True\n",
    "\n",
    "print(f\"attendence criteria met? : {attendance >= 75}\")\n",
    "print(f\"assignment criteria met? : {assignment_submitted >= 70}\")\n",
    "print(f\"supports criteria met?: {sports_player}\")\n",
    "\n",
    "print(attendance >= 75 or assignment_submitted >= 70)\n",
    "\n",
    "if attendance >= 75 or assignment_submitted >= 70 or sports_player:\n",
    "    if sports_player:\n",
    "        print(\"The student is eligible to appear in final exam\")\n",
    "    else:\n",
    "        print(\"The student is eligible to appear in final exam\")\n",
    "else:\n",
    "    print(\"The student is not eligible to appear in final exam\")\n",
    "    print(f\"attendance: {attendance}\")\n",
    "    print(f\"assignment submitted: {assignment_submitted}\")"
   ]
  },
  {
   "cell_type": "code",
   "execution_count": 34,
   "metadata": {},
   "outputs": [
    {
     "name": "stdout",
     "output_type": "stream",
     "text": [
      "attendence criteria met? : False\n",
      "assignment criteria met? : False\n",
      "supports criteria met?: False\n",
      "False\n",
      "The student is not eligible to appear in final exam\n",
      "attendance: 30\n",
      "assignment submitted: 30\n"
     ]
    }
   ],
   "source": [
    "attendance = 30\n",
    "assignment_submitted = 30\n",
    "sports_player = False\n",
    "\n",
    "print(f\"attendence criteria met? : {attendance >= 75}\")\n",
    "print(f\"assignment criteria met? : {assignment_submitted >= 70}\")\n",
    "print(f\"supports criteria met?: {sports_player}\")\n",
    "\n",
    "print(attendance >= 75 or assignment_submitted >= 70)\n",
    "\n",
    "if attendance >= 75 or assignment_submitted >= 70 or sports_player:\n",
    "    if sports_player:\n",
    "        print(\"The student is eligible to appear in final exam\")\n",
    "    else:\n",
    "        print(\"The student is eligible to appear in final exam\")\n",
    "else:\n",
    "    print(\"The student is not eligible to appear in final exam\")\n",
    "    print(f\"attendance: {attendance}\")\n",
    "    print(f\"assignment submitted: {assignment_submitted}\")"
   ]
  },
  {
   "cell_type": "code",
   "execution_count": 40,
   "metadata": {},
   "outputs": [
    {
     "name": "stdout",
     "output_type": "stream",
     "text": [
      "attendence criteria met? : True\n",
      "assignment criteria met? : False\n",
      "supports criteria met?: False\n",
      "True\n",
      "The student is eligible to appear in final exam\n"
     ]
    }
   ],
   "source": [
    "attendance = 90\n",
    "assignment_submitted = 30\n",
    "sports_player = False\n",
    "\n",
    "print(f\"attendence criteria met? : {attendance >= 75}\")\n",
    "print(f\"assignment criteria met? : {assignment_submitted >= 70}\")\n",
    "print(f\"supports criteria met?: {sports_player}\")\n",
    "\n",
    "print(attendance >= 75 or assignment_submitted >= 70)\n",
    "\n",
    "if attendance >= 75 or assignment_submitted >= 70 or sports_player:\n",
    "    if sports_player:\n",
    "        print(\"The student is eligible to appear in final exam\")\n",
    "    else:\n",
    "        print(\"The student is eligible to appear in final exam\")\n",
    "else:\n",
    "    print(\"The student is not eligible to appear in final exam\")\n",
    "    print(f\"attendance: {attendance}\")\n",
    "    print(f\"assignment submitted: {assignment_submitted}\")"
   ]
  },
  {
   "cell_type": "code",
   "execution_count": 41,
   "metadata": {},
   "outputs": [
    {
     "name": "stdout",
     "output_type": "stream",
     "text": [
      "attendence criteria met? : True\n",
      "assignment criteria met? : True\n",
      "supports criteria met?: False\n",
      "True\n",
      "The student is eligible to appear in final exam and but extra grace marks\n"
     ]
    }
   ],
   "source": [
    "# complex conditional cases as mentioned above \n",
    "attendance = 90       # mendatory \n",
    "assignment_submitted = 76 # mendatory\n",
    "sports_player = False    # not mendatory\n",
    "\n",
    "print(f\"attendence criteria met? : {attendance >= 75}\")\n",
    "print(f\"assignment criteria met? : {assignment_submitted >= 70}\")\n",
    "print(f\"supports criteria met?: {sports_player}\")\n",
    "\n",
    "print(attendance >= 75 or assignment_submitted >= 70)\n",
    "\n",
    "if attendance >= 75 or assignment_submitted >= 70 or sports_player:\n",
    "    if sports_player:\n",
    "        print(\"The student is can get grace marks = +10 marks \")\n",
    "    else:\n",
    "        print(\"The student is eligible to appear in final exam and but extra grace marks\")\n",
    "else:  \n",
    "    print(\"The student is not eligible to appear in final exam\")\n",
    "    print(f\"attendance: {attendance}\")\n",
    "    print(f\"assignment submitted: {assignment_submitted}\")"
   ]
  },
  {
   "cell_type": "code",
   "execution_count": 43,
   "metadata": {},
   "outputs": [
    {
     "name": "stdout",
     "output_type": "stream",
     "text": [
      "attendence criteria met? : True\n",
      "assignment criteria met? : True\n",
      "supports criteria met?: True\n",
      "True\n",
      "The student is can get grace marks = +10 marks \n"
     ]
    }
   ],
   "source": [
    "# complex conditional cases as mentioned above \n",
    "attendance = 90       # mendatory \n",
    "assignment_submitted = 76 # mendatory\n",
    "sports_player = True  # not mendatory\n",
    "\n",
    "print(f\"attendence criteria met? : {attendance >= 75}\")\n",
    "print(f\"assignment criteria met? : {assignment_submitted >= 70}\")\n",
    "print(f\"supports criteria met?: {sports_player}\")\n",
    "\n",
    "print(attendance >= 75 or assignment_submitted >= 70)\n",
    "\n",
    "if attendance >= 75 or assignment_submitted >= 70 or sports_player:\n",
    "    if sports_player:\n",
    "        print(\"The student is can get grace marks = +10 marks \")\n",
    "    else:\n",
    "        print(\"The student is eligible to appear in final exam and but extra grace marks\")\n",
    "else:  \n",
    "    print(\"The student is not eligible to appear in final exam\")\n",
    "    print(f\"attendance: {attendance}\")\n",
    "    print(f\"assignment submitted: {assignment_submitted}\")"
   ]
  },
  {
   "cell_type": "markdown",
   "metadata": {},
   "source": [
    "# equality operator\n",
    "- == | equal to a == b True if a is equal to b\n",
    "- != | not equal to a != b True if a is not equal to b\n",
    "\n",
    "- is | identity operator a is b True if a and b are identical\n",
    "- is not | identity operator a is not b True if a and b are not identical\n",
    "\n"
   ]
  },
  {
   "cell_type": "code",
   "execution_count": 44,
   "metadata": {},
   "outputs": [
    {
     "name": "stdout",
     "output_type": "stream",
     "text": [
      "A and B are same\n"
     ]
    }
   ],
   "source": [
    "A = 1\n",
    "B = 1\n",
    "\n",
    "if A is B:\n",
    "    print(\"A and B are same\")\n",
    "else:\n",
    "    print(\"A and B is not same\")"
   ]
  },
  {
   "cell_type": "code",
   "execution_count": 47,
   "metadata": {},
   "outputs": [
    {
     "name": "stdout",
     "output_type": "stream",
     "text": [
      "A and B are not same\n"
     ]
    }
   ],
   "source": [
    "A = 1\n",
    "B = 2\n",
    "\n",
    "if A is not B:\n",
    "    print(\"A and B are not same\")\n",
    "else:\n",
    "    print(\"A and B are same\")"
   ]
  },
  {
   "cell_type": "code",
   "execution_count": 48,
   "metadata": {},
   "outputs": [
    {
     "name": "stdout",
     "output_type": "stream",
     "text": [
      "A and B are same\n"
     ]
    }
   ],
   "source": [
    "A = 1\n",
    "B = 1\n",
    "\n",
    "if A == B:   # A and B are having same value\n",
    "    print(\"A and B are same\")\n",
    "else:\n",
    "    print(\"A and B is not same\")"
   ]
  },
  {
   "cell_type": "code",
   "execution_count": 52,
   "metadata": {},
   "outputs": [
    {
     "name": "stdout",
     "output_type": "stream",
     "text": [
      "A and B are not same\n"
     ]
    }
   ],
   "source": [
    "A = 1\n",
    "B = 2\n",
    "\n",
    "if A != B:  # A and B are having not same value\n",
    "    print(\"A and B are not same\")\n",
    "else:\n",
    "    print(\"A and B is same\")"
   ]
  },
  {
   "cell_type": "code",
   "execution_count": 1,
   "metadata": {},
   "outputs": [
    {
     "data": {
      "text/plain": [
       "False"
      ]
     },
     "execution_count": 1,
     "metadata": {},
     "output_type": "execute_result"
    }
   ],
   "source": [
    "A = \"Malik \"\n",
    "B = \"Zeeshan\"\n",
    "\n",
    "A is B "
   ]
  },
  {
   "cell_type": "code",
   "execution_count": 4,
   "metadata": {},
   "outputs": [
    {
     "data": {
      "text/plain": [
       "False"
      ]
     },
     "execution_count": 4,
     "metadata": {},
     "output_type": "execute_result"
    }
   ],
   "source": [
    "# list data structure\n",
    "A = [\"Malik\", \"Zeeshan\"] # array in other language\n",
    "B = [\"Malik\", \"Zeeshan\"]\n",
    "A is B"
   ]
  },
  {
   "cell_type": "code",
   "execution_count": 5,
   "metadata": {},
   "outputs": [
    {
     "data": {
      "text/plain": [
       "2275764038080"
      ]
     },
     "execution_count": 5,
     "metadata": {},
     "output_type": "execute_result"
    }
   ],
   "source": [
    "id(A) # give there word token"
   ]
  },
  {
   "cell_type": "code",
   "execution_count": 6,
   "metadata": {},
   "outputs": [
    {
     "data": {
      "text/plain": [
       "2275764032704"
      ]
     },
     "execution_count": 6,
     "metadata": {},
     "output_type": "execute_result"
    }
   ],
   "source": [
    "id(B)"
   ]
  },
  {
   "cell_type": "code",
   "execution_count": 10,
   "metadata": {},
   "outputs": [
    {
     "data": {
      "text/plain": [
       "True"
      ]
     },
     "execution_count": 10,
     "metadata": {},
     "output_type": "execute_result"
    }
   ],
   "source": [
    "A = int(input(\"Enter the value of A: \"))\n",
    "B = int(input(\"Enter the value of B: \"))\n",
    "\n",
    "A is B "
   ]
  },
  {
   "cell_type": "code",
   "execution_count": 15,
   "metadata": {},
   "outputs": [
    {
     "data": {
      "text/plain": [
       "False"
      ]
     },
     "execution_count": 15,
     "metadata": {},
     "output_type": "execute_result"
    }
   ],
   "source": [
    "A = 1\n",
    "B = int(input(\"Enter the value of B: \"))\n",
    "A is B\n"
   ]
  },
  {
   "cell_type": "code",
   "execution_count": 16,
   "metadata": {},
   "outputs": [
    {
     "data": {
      "text/plain": [
       "True"
      ]
     },
     "execution_count": 16,
     "metadata": {},
     "output_type": "execute_result"
    }
   ],
   "source": [
    "A = 1\n",
    "B = int(input(\"Enter the value of B: \"))\n",
    "A is not B\n"
   ]
  },
  {
   "cell_type": "code",
   "execution_count": 19,
   "metadata": {},
   "outputs": [
    {
     "name": "stdout",
     "output_type": "stream",
     "text": [
      "its possible another Person \n"
     ]
    }
   ],
   "source": [
    "name = input(\"Enter your name: \")\n",
    "\n",
    "if name == \"Malik Zeeshan\":\n",
    "    print(\"Machine learning engineer\")\n",
    "else:\n",
    "    print(\"its possible another Person \")"
   ]
  },
  {
   "cell_type": "code",
   "execution_count": 21,
   "metadata": {},
   "outputs": [
    {
     "name": "stdout",
     "output_type": "stream",
     "text": [
      "Machine learning engineer\n"
     ]
    }
   ],
   "source": [
    "name = input(\"Enter your name: \")\n",
    "\n",
    "if name != \"Malik Zeeshan\":\n",
    "    print(\"Machine learning engineer\")\n",
    "else:\n",
    "    print(\"its possible another Person \")"
   ]
  },
  {
   "cell_type": "markdown",
   "metadata": {},
   "source": [
    "# Comparision Operator\n",
    "- == | equal to a == b True if a is equal to b\n",
    "- != | not equal to a != b True if a is not equal to b\n",
    "- > | greater than a > b True if a is greater than b\n",
    "- < | less than a < b True if a is less than b\n",
    "- >= | greater than or equal to a >= b True if a is greater than or equal to b\n",
    "- <= | less than or equal to a <= b True if a is less than or equal to b\n",
    " "
   ]
  },
  {
   "cell_type": "code",
   "execution_count": 24,
   "metadata": {},
   "outputs": [
    {
     "name": "stdout",
     "output_type": "stream",
     "text": [
      "Since you have scored: 50, you have passed the exams!\n"
     ]
    }
   ],
   "source": [
    "your_score = 50\n",
    "passing_marks = 33.33\n",
    "\n",
    "if your_score >= 33.33:\n",
    "    print(f\"Since you have scored: {your_score}, you have passed the exams!\")\n",
    "else:\n",
    "    print(\"Dad: You should have taken things seriously \")"
   ]
  },
  {
   "cell_type": "code",
   "execution_count": 28,
   "metadata": {},
   "outputs": [
    {
     "name": "stdout",
     "output_type": "stream",
     "text": [
      "Dad: You should have taken things seriously: your marks  20\n"
     ]
    }
   ],
   "source": [
    "your_score = 20\n",
    "passing_marks = 33.33\n",
    "\n",
    "if your_score >= 33.33:\n",
    "    print(f\"Since you have scored: {your_score}, you have passed the exams!\")\n",
    "else:\n",
    "    print(f\"Dad: You should have taken things seriously: your marks  {your_score}\")"
   ]
  },
  {
   "cell_type": "code",
   "execution_count": 31,
   "metadata": {},
   "outputs": [
    {
     "name": "stdout",
     "output_type": "stream",
     "text": [
      "Since you have scored: 80, you have passed the exams!\n",
      "Dad: I will buy you a bike! well done! \n"
     ]
    }
   ],
   "source": [
    "your_score = 80\n",
    "passing_marks = 33.33\n",
    "distinction_marks = 75\n",
    "\n",
    "if your_score >= 33.33: # strict case \n",
    "    print(f\"Since you have scored: {your_score}, you have passed the exams!\")\n",
    "    if your_score > distinction_marks:\n",
    "        print(\"Dad: I will buy you a bike! well done! \")\n",
    "else:\n",
    "    print(f\"Dad: You should have taken things seriously: your marks  {your_score}\")"
   ]
  },
  {
   "cell_type": "code",
   "execution_count": 32,
   "metadata": {},
   "outputs": [
    {
     "name": "stdout",
     "output_type": "stream",
     "text": [
      "Since you have scored: 60, you have passed the exams!\n",
      "Dad: Better luck next time! \n"
     ]
    }
   ],
   "source": [
    "your_score = 60\n",
    "passing_marks = 33.33\n",
    "distinction_marks = 75\n",
    "\n",
    "if your_score >= 33.33: # strict case \n",
    "    print(f\"Since you have scored: {your_score}, you have passed the exams!\")\n",
    "    if your_score > distinction_marks:\n",
    "        print(\"Dad: I will buy you a bike! well done! \")\n",
    "    else:\n",
    "        print(\"Dad: Better luck next time! \")\n",
    "else:\n",
    "    print(f\"Dad: You should have taken things seriously: your marks  {your_score}\")"
   ]
  },
  {
   "cell_type": "markdown",
   "metadata": {},
   "source": [
    "# Arithmetic Operator\n",
    "``` \n",
    "+ | addition a + b Sum of a and b\n",
    "- - | subtraction a - b Difference of a and b\n",
    "- * | multiplication a * b Product of a and b\n",
    "- / | division a / b Quotient of a and b\n",
    "- % | modulus a % b Remainder of a divided by b   \n",
    "- // | floor division a // b Quotient of a and b, removing fractional parts\n",
    "- ** | exponentiation a ** b a raised to the power of b\n",
    "\n",
    "# Assignment Operator\n",
    "- = | a = b Assigns the value of b to a\n",
    "- += | a += b Equivalent to a = a + b\n",
    "- -= | a -= b Equivalent to a = a - b\n",
    "- *= | a *= b Equivalent to a = a * b\n",
    "- /= | a /= b Equivalent to a = a / b\n",
    "- %= | a %= b Equivalent to a = a % b\n",
    "- //= | a //= b Equivalent to a = a // b\n",
    "- **= | a **= b Equivalent to a = a ** b\n",
    "\n",
    "# Bitwise Operator\n",
    "- & | bitwise AND a & b Bits that are set in both a and b are set\n",
    "- | | bitwise OR a | b Bits that are set in either a or b are set\n",
    "- ^ | bitwise XOR a ^ b Bits that are set in a or b but not both are set\n",
    "- ~ | bitwise NOT ~a Bits that are set in a are not set, and vice versa\n",
    "- << | bitwise left shift a << n Shifts a left by n bits\n",
    "- >> | bitwise right shift a >> n Shifts a right by n bits\n",
    "\n",
    "# Identity Operator\n",
    "- is | a is b True if a and b are identical\n",
    "- is not | a is not b True if a and b are not identical\n",
    "\n"
   ]
  },
  {
   "cell_type": "code",
   "execution_count": 37,
   "metadata": {},
   "outputs": [
    {
     "data": {
      "text/plain": [
       "45"
      ]
     },
     "execution_count": 37,
     "metadata": {},
     "output_type": "execute_result"
    }
   ],
   "source": [
    "A = 22\n",
    "B = 23\n",
    "\n",
    "A + B"
   ]
  },
  {
   "cell_type": "code",
   "execution_count": 38,
   "metadata": {},
   "outputs": [
    {
     "data": {
      "text/plain": [
       "-1"
      ]
     },
     "execution_count": 38,
     "metadata": {},
     "output_type": "execute_result"
    }
   ],
   "source": [
    "A - B"
   ]
  },
  {
   "cell_type": "code",
   "execution_count": 39,
   "metadata": {},
   "outputs": [
    {
     "data": {
      "text/plain": [
       "0.9565217391304348"
      ]
     },
     "execution_count": 39,
     "metadata": {},
     "output_type": "execute_result"
    }
   ],
   "source": [
    "A / B "
   ]
  },
  {
   "cell_type": "code",
   "execution_count": 40,
   "metadata": {},
   "outputs": [
    {
     "data": {
      "text/plain": [
       "506"
      ]
     },
     "execution_count": 40,
     "metadata": {},
     "output_type": "execute_result"
    }
   ],
   "source": [
    "A * B \n"
   ]
  },
  {
   "cell_type": "code",
   "execution_count": 44,
   "metadata": {},
   "outputs": [
    {
     "data": {
      "text/plain": [
       "22"
      ]
     },
     "execution_count": 44,
     "metadata": {},
     "output_type": "execute_result"
    }
   ],
   "source": [
    "A % B"
   ]
  },
  {
   "cell_type": "code",
   "execution_count": 42,
   "metadata": {},
   "outputs": [
    {
     "data": {
      "text/plain": [
       "0"
      ]
     },
     "execution_count": 42,
     "metadata": {},
     "output_type": "execute_result"
    }
   ],
   "source": [
    "A // B  # 22 / 23"
   ]
  },
  {
   "cell_type": "code",
   "execution_count": 45,
   "metadata": {},
   "outputs": [
    {
     "data": {
      "text/plain": [
       "7511413302012830262726227918848"
      ]
     },
     "execution_count": 45,
     "metadata": {},
     "output_type": "execute_result"
    }
   ],
   "source": [
    "A ** B\n"
   ]
  },
  {
   "cell_type": "code",
   "execution_count": 49,
   "metadata": {},
   "outputs": [
    {
     "data": {
      "text/plain": [
       "0"
      ]
     },
     "execution_count": 49,
     "metadata": {},
     "output_type": "execute_result"
    }
   ],
   "source": [
    "A = 4\n",
    "B = 2\n",
    "\n",
    "A % B "
   ]
  },
  {
   "cell_type": "code",
   "execution_count": 50,
   "metadata": {},
   "outputs": [
    {
     "data": {
      "text/plain": [
       "2.0"
      ]
     },
     "execution_count": 50,
     "metadata": {},
     "output_type": "execute_result"
    }
   ],
   "source": [
    "A / B"
   ]
  },
  {
   "cell_type": "code",
   "execution_count": 51,
   "metadata": {},
   "outputs": [
    {
     "name": "stdout",
     "output_type": "stream",
     "text": [
      "A: 54 is divisible by: 2\n"
     ]
    }
   ],
   "source": [
    "A = 54 \n",
    "B = 2\n",
    "\n",
    "if A % B == 0:\n",
    "    print(f\"A: {A} is divisible by: {B}\")\n",
    "else:\n",
    "    print(f\"A: {A} is Not divisible by B: {B}\")"
   ]
  },
  {
   "cell_type": "code",
   "execution_count": 54,
   "metadata": {},
   "outputs": [
    {
     "name": "stdout",
     "output_type": "stream",
     "text": [
      "A: 55 is Not divisible by B: 3\n"
     ]
    }
   ],
   "source": [
    "A = 55\n",
    "B = 3\n",
    "\n",
    "if A % B == 0:\n",
    "    print(f\"A: {A} is divisible by B: {B}\")\n",
    "else:\n",
    "    print(f\"A: {A} is Not divisible by B: {B}\")"
   ]
  },
  {
   "cell_type": "code",
   "execution_count": 58,
   "metadata": {},
   "outputs": [
    {
     "data": {
      "text/plain": [
       "3.0"
      ]
     },
     "execution_count": 58,
     "metadata": {},
     "output_type": "execute_result"
    }
   ],
   "source": [
    "A = 9\n",
    "\n",
    "A **(1/2) # sqrt of 9"
   ]
  },
  {
   "cell_type": "code",
   "execution_count": 60,
   "metadata": {},
   "outputs": [
    {
     "data": {
      "text/plain": [
       "4.0"
      ]
     },
     "execution_count": 60,
     "metadata": {},
     "output_type": "execute_result"
    }
   ],
   "source": [
    "B = 16 \n",
    "B **(1/2)"
   ]
  },
  {
   "cell_type": "markdown",
   "metadata": {},
   "source": [
    "# String methods\n",
    "- capitalize() | Converts the first character to upper case\n",
    "- casefold() | Converts string into lower case\n",
    "- center() | Returns a centered string\n",
    "- count() | Returns the number of times a specified value occurs in a string\n",
    "- encode() | Returns an encoded version of the string\n",
    "- endswith() | Returns true if the string ends with the specified value\n",
    "- expandtabs() | Sets the tab size of the string\n",
    "- find() | Searches the string for a specified value and returns the position of where it was found\n",
    "- format() | Formats specified values in a string\n",
    "- format_map() | Formats specified values in a string\n",
    "- index() | Searches the string for a specified value and returns the position of where it was found\n",
    "- isalnum() | Returns True if all characters in the string are alphanumeric\n",
    "- isalpha() | Returns True if all characters in the string are in the alphabet\n",
    "- isascii() | Returns True if all characters in the string are ascii characters\n",
    "- isdecimal() | Returns True if all characters in the string are decimals\n",
    "- isdigit() | Returns True if all characters in the string are digits\n",
    "- isidentifier() | Returns True if the string is an identifier\n",
    "- islower() | Returns True if all characters in the string are lower case\n",
    "- isnumeric() | Returns True if all characters in the string are numeric\n",
    "- isprintable() | Returns True if all characters in the string are printable\n",
    "- isspace() | Returns True if all characters in the string are whitespaces\n",
    "- istitle() | Returns True if the string follows the rules of a title\n",
    "- isupper() | Returns True if all characters in the string are upper case\n",
    "- join() | Joins the elements of an iterable to the end of the string\n",
    "- ljust() | Returns a left justified version of the string\n",
    "- lower() | Converts a string into lower case\n",
    "- lstrip() | Returns a left trim version of the string\n",
    "- maketrans() | Returns a translation table to be used in translations\n",
    "- partition() | Returns a tuple where the string is parted into three parts\n",
    "- replace() | Returns a string where a specified value is replaced with a specified value\n",
    "- rfind() | Searches the string for a specified value and returns the last position of where it was found\n",
    "- rindex() | Searches the string for a specified value and returns the last position of where it was found\n",
    "- rjust() | Returns a right justified version of the string\n",
    "- rpartition() | Returns a tuple where the string is parted into three parts\n",
    "- rsplit() | Splits the string at the last occurrence of the specified separator, and returns a list\n",
    "- rstrip() | Returns a right trim version of the string\n",
    "- split() | Splits the string at the specified separator, and returns a list\n",
    "- splitlines() | Splits the string at line breaks and returns a list\n",
    "- startswith() | Returns true if the string starts with the specified value\n",
    "- strip() | Returns a trimmed version of the string\n",
    "- swapcase() | Swaps cases, lower case becomes upper case and vice versa\n",
    "- title() | Converts the first character of each word to upper case\n",
    "- translate() | Returns a translated string\n",
    "- upper() | Converts a string into upper case\n",
    "- zfill() | Fills the string with a specified number of 0 values at the beginning\n",
    "\n"
   ]
  },
  {
   "cell_type": "code",
   "execution_count": 63,
   "metadata": {},
   "outputs": [
    {
     "data": {
      "text/plain": [
       "'M'"
      ]
     },
     "execution_count": 63,
     "metadata": {},
     "output_type": "execute_result"
    }
   ],
   "source": [
    "# String indexing \n",
    "# 012345\n",
    "# -5-4-3-2-1\n",
    "\n",
    "name = \"Malik\"\n",
    "\n",
    "name[0]"
   ]
  },
  {
   "cell_type": "code",
   "execution_count": 65,
   "metadata": {},
   "outputs": [
    {
     "data": {
      "text/plain": [
       "'k'"
      ]
     },
     "execution_count": 65,
     "metadata": {},
     "output_type": "execute_result"
    }
   ],
   "source": [
    "name[4]"
   ]
  },
  {
   "cell_type": "code",
   "execution_count": 64,
   "metadata": {},
   "outputs": [
    {
     "data": {
      "text/plain": [
       "'k'"
      ]
     },
     "execution_count": 64,
     "metadata": {},
     "output_type": "execute_result"
    }
   ],
   "source": [
    "name[-1]"
   ]
  },
  {
   "cell_type": "code",
   "execution_count": 66,
   "metadata": {},
   "outputs": [
    {
     "data": {
      "text/plain": [
       "'a'"
      ]
     },
     "execution_count": 66,
     "metadata": {},
     "output_type": "execute_result"
    }
   ],
   "source": [
    "name[-4]"
   ]
  },
  {
   "cell_type": "code",
   "execution_count": 67,
   "metadata": {},
   "outputs": [
    {
     "data": {
      "text/plain": [
       "'ali'"
      ]
     },
     "execution_count": 67,
     "metadata": {},
     "output_type": "execute_result"
    }
   ],
   "source": [
    "# Starting and ending point \n",
    "# string slicing \n",
    "name[1:4]"
   ]
  },
  {
   "cell_type": "code",
   "execution_count": 68,
   "metadata": {},
   "outputs": [
    {
     "data": {
      "text/plain": [
       "'Malik'"
      ]
     },
     "execution_count": 68,
     "metadata": {},
     "output_type": "execute_result"
    }
   ],
   "source": [
    "name[0:5]"
   ]
  },
  {
   "cell_type": "code",
   "execution_count": 71,
   "metadata": {},
   "outputs": [
    {
     "data": {
      "text/plain": [
       "'alik'"
      ]
     },
     "execution_count": 71,
     "metadata": {},
     "output_type": "execute_result"
    }
   ],
   "source": [
    "name[1:]"
   ]
  },
  {
   "cell_type": "code",
   "execution_count": 72,
   "metadata": {},
   "outputs": [
    {
     "data": {
      "text/plain": [
       "'Malik'"
      ]
     },
     "execution_count": 72,
     "metadata": {},
     "output_type": "execute_result"
    }
   ],
   "source": [
    "name[0:]"
   ]
  },
  {
   "cell_type": "code",
   "execution_count": 74,
   "metadata": {},
   "outputs": [
    {
     "data": {
      "text/plain": [
       "'Mali'"
      ]
     },
     "execution_count": 74,
     "metadata": {},
     "output_type": "execute_result"
    }
   ],
   "source": [
    "name[:-1] "
   ]
  },
  {
   "cell_type": "code",
   "execution_count": 75,
   "metadata": {},
   "outputs": [
    {
     "data": {
      "text/plain": [
       "'alik'"
      ]
     },
     "execution_count": 75,
     "metadata": {},
     "output_type": "execute_result"
    }
   ],
   "source": [
    "name[1:5] # 5 is not included"
   ]
  },
  {
   "cell_type": "code",
   "execution_count": 76,
   "metadata": {},
   "outputs": [
    {
     "data": {
      "text/plain": [
       "'ali'"
      ]
     },
     "execution_count": 76,
     "metadata": {},
     "output_type": "execute_result"
    }
   ],
   "source": [
    "name[-4:-1]"
   ]
  },
  {
   "cell_type": "code",
   "execution_count": 97,
   "metadata": {},
   "outputs": [
    {
     "name": "stdout",
     "output_type": "stream",
     "text": [
      "05/04/2024\n",
      "its 05th of  /04/ of the year: 2024\n"
     ]
    }
   ],
   "source": [
    "# index 0123456789 \n",
    "date = \"05/04/2024\"\n",
    "\n",
    "# today date, month and year \n",
    "today_date = date[0:2]\n",
    "month = date[2:6]\n",
    "year = date[6:]\n",
    "print(f\"{today_date}{month}{year}\")\n",
    "print(f\"its {today_date}th of  {month} of the year: {year}\")"
   ]
  },
  {
   "cell_type": "code",
   "execution_count": 101,
   "metadata": {},
   "outputs": [
    {
     "name": "stdout",
     "output_type": "stream",
     "text": [
      "19092003\n",
      "The user was born in the month of 09 in the year: 2003 on date: 19\n"
     ]
    }
   ],
   "source": [
    "# index 0123456789 \n",
    "date = input(\"enter date of birth in the format DD/MM?2022\")\n",
    "\n",
    "# today date, month and year \n",
    "today_date = date[0:2]\n",
    "month = date[3:5]\n",
    "year = date[6:]\n",
    "print(f\"{today_date}{month}{year}\")\n",
    "print(f\"The user was born in the month of {month} in the year: {year} on date: {today_date}\")"
   ]
  },
  {
   "cell_type": "code",
   "execution_count": 105,
   "metadata": {},
   "outputs": [
    {
     "data": {
      "text/plain": [
       "'Mlk'"
      ]
     },
     "execution_count": 105,
     "metadata": {},
     "output_type": "execute_result"
    }
   ],
   "source": [
    "name = \"Malik Zeeshan\"  \n",
    "\n",
    "name[0:5:2]  # start:0  ending:5  step: 2"
   ]
  },
  {
   "cell_type": "code",
   "execution_count": 2,
   "metadata": {},
   "outputs": [
    {
     "data": {
      "text/plain": [
       "'1357'"
      ]
     },
     "execution_count": 2,
     "metadata": {},
     "output_type": "execute_result"
    }
   ],
   "source": [
    "name = \"123456789\"\n",
    "name[0:7:2]"
   ]
  },
  {
   "cell_type": "code",
   "execution_count": 4,
   "metadata": {},
   "outputs": [
    {
     "data": {
      "text/plain": [
       "'13579'"
      ]
     },
     "execution_count": 4,
     "metadata": {},
     "output_type": "execute_result"
    }
   ],
   "source": [
    "name[0::2] # starting: step:2  / jump 2 "
   ]
  },
  {
   "cell_type": "code",
   "execution_count": 5,
   "metadata": {},
   "outputs": [
    {
     "data": {
      "text/plain": [
       "''"
      ]
     },
     "execution_count": 5,
     "metadata": {},
     "output_type": "execute_result"
    }
   ],
   "source": [
    "# Palindrome  sequence\n",
    "# madam # read from left or right it will be same\n",
    "# malayalam\n",
    "# nayan \n",
    "# bob\n",
    "# Radar\n",
    "\n",
    "data = input(\"input a string: \")\n",
    "data[::]    # start: end: step: "
   ]
  },
  {
   "cell_type": "code",
   "execution_count": 6,
   "metadata": {},
   "outputs": [
    {
     "data": {
      "text/plain": [
       "' cnlrneie'"
      ]
     },
     "execution_count": 6,
     "metadata": {},
     "output_type": "execute_result"
    }
   ],
   "source": [
    "name = \" Machine learning engineer\"\n",
    "name[0::3]"
   ]
  },
  {
   "cell_type": "code",
   "execution_count": 7,
   "metadata": {},
   "outputs": [
    {
     "data": {
      "text/plain": [
       "'Machine learning engineer'"
      ]
     },
     "execution_count": 7,
     "metadata": {},
     "output_type": "execute_result"
    }
   ],
   "source": [
    "name = \"Machine learning engineer\"\n",
    "name[::] "
   ]
  },
  {
   "cell_type": "code",
   "execution_count": 8,
   "metadata": {},
   "outputs": [
    {
     "data": {
      "text/plain": [
       "'Mheengnnr'"
      ]
     },
     "execution_count": 8,
     "metadata": {},
     "output_type": "execute_result"
    }
   ],
   "source": [
    "name = \"Machine learning engineer\"\n",
    "name[::3]"
   ]
  },
  {
   "cell_type": "code",
   "execution_count": 13,
   "metadata": {},
   "outputs": [
    {
     "name": "stdout",
     "output_type": "stream",
     "text": [
      "Machine learning engineer reenigne gninrael enihcaM\n"
     ]
    }
   ],
   "source": [
    "name = \"Machine learning engineer\"  # print reverse order \n",
    "reverse = name[::-1]\n",
    "print(name,reverse)"
   ]
  },
  {
   "cell_type": "code",
   "execution_count": 10,
   "metadata": {},
   "outputs": [
    {
     "data": {
      "text/plain": [
       "'rein nnaleicM'"
      ]
     },
     "execution_count": 10,
     "metadata": {},
     "output_type": "execute_result"
    }
   ],
   "source": [
    "name = \"Machine learning engineer\" # print reverse order in 2 steps \n",
    "name[::-2]"
   ]
  },
  {
   "cell_type": "code",
   "execution_count": 17,
   "metadata": {},
   "outputs": [
    {
     "name": "stdout",
     "output_type": "stream",
     "text": [
      "input string: malik zeeshan is Not a palindrome\n",
      "nahseez kilam\n"
     ]
    }
   ],
   "source": [
    "data = input(\"input a string: \")\n",
    "reverse = data[::-1] # start: end: step \n",
    "\n",
    "if data == reverse:\n",
    "    print(f\"input string: {data} is palindrome\")\n",
    "else:\n",
    "    print(f\"input string: {data} is Not a palindrome\")\n",
    "    \n",
    "print(data[::-1])"
   ]
  },
  {
   "cell_type": "markdown",
   "metadata": {},
   "source": [
    "# Mutability \n",
    "- Mutable | Changeable\n",
    "- Immutable | Unchangeable\n",
    "\n"
   ]
  },
  {
   "cell_type": "code",
   "execution_count": 5,
   "metadata": {},
   "outputs": [
    {
     "ename": "TypeError",
     "evalue": "'str' object does not support item assignment",
     "output_type": "error",
     "traceback": [
      "\u001b[1;31m---------------------------------------------------------------------------\u001b[0m",
      "\u001b[1;31mTypeError\u001b[0m                                 Traceback (most recent call last)",
      "Cell \u001b[1;32mIn[5], line 4\u001b[0m\n\u001b[0;32m      1\u001b[0m name \u001b[38;5;241m=\u001b[39m \u001b[38;5;124m\"\u001b[39m\u001b[38;5;124mMalik\u001b[39m\u001b[38;5;124m\"\u001b[39m\n\u001b[0;32m      3\u001b[0m \u001b[38;5;66;03m# Replace M with F\u001b[39;00m\n\u001b[1;32m----> 4\u001b[0m \u001b[43mname\u001b[49m\u001b[43m[\u001b[49m\u001b[38;5;241;43m0\u001b[39;49m\u001b[43m]\u001b[49m \u001b[38;5;241m=\u001b[39m \u001b[38;5;124m\"\u001b[39m\u001b[38;5;124mF\u001b[39m\u001b[38;5;124m\"\u001b[39m   \u001b[38;5;66;03m# immutable # string\u001b[39;00m\n",
      "\u001b[1;31mTypeError\u001b[0m: 'str' object does not support item assignment"
     ]
    }
   ],
   "source": [
    "name = \"Malik\"\n",
    "\n",
    "# Replace M with F\n",
    "name[0] = \"F\"   # immutable # string"
   ]
  },
  {
   "cell_type": "code",
   "execution_count": 3,
   "metadata": {},
   "outputs": [
    {
     "data": {
      "text/plain": [
       "'Falik'"
      ]
     },
     "execution_count": 3,
     "metadata": {},
     "output_type": "execute_result"
    }
   ],
   "source": [
    "\"F\" + name[1:]"
   ]
  },
  {
   "cell_type": "code",
   "execution_count": 6,
   "metadata": {},
   "outputs": [
    {
     "data": {
      "text/plain": [
       "'Zalik'"
      ]
     },
     "execution_count": 6,
     "metadata": {},
     "output_type": "execute_result"
    }
   ],
   "source": [
    "\"Z\" + name[1:]"
   ]
  },
  {
   "cell_type": "code",
   "execution_count": 15,
   "metadata": {},
   "outputs": [
    {
     "data": {
      "text/plain": [
       "'ZeeshanMalik'"
      ]
     },
     "execution_count": 15,
     "metadata": {},
     "output_type": "execute_result"
    }
   ],
   "source": [
    "\"Zeeshan\" + name[:]"
   ]
  },
  {
   "cell_type": "code",
   "execution_count": 16,
   "metadata": {},
   "outputs": [
    {
     "data": {
      "text/plain": [
       "'Malik'"
      ]
     },
     "execution_count": 16,
     "metadata": {},
     "output_type": "execute_result"
    }
   ],
   "source": [
    "name"
   ]
  },
  {
   "cell_type": "code",
   "execution_count": 17,
   "metadata": {},
   "outputs": [
    {
     "data": {
      "text/plain": [
       "'Falik'"
      ]
     },
     "execution_count": 17,
     "metadata": {},
     "output_type": "execute_result"
    }
   ],
   "source": [
    "name = \"F\" + name[1:]\n",
    "name"
   ]
  },
  {
   "cell_type": "markdown",
   "metadata": {},
   "source": [
    "# replace()\n",
    "- The replace() method replaces a specified phrase with another specified phrase.\n",
    "- Syntax: string.replace(oldvalue, newvalue, count)\n",
    "- oldvalue | Required. The string to search for\n",
    "- newvalue | Required. The string to replace the old value with\n",
    "- count | Optional. A number specifying how many occurrences of the old value you want to replace. Default is all occurrences"
   ]
  },
  {
   "cell_type": "code",
   "execution_count": 26,
   "metadata": {},
   "outputs": [
    {
     "data": {
      "text/plain": [
       "'FaliYYY'"
      ]
     },
     "execution_count": 26,
     "metadata": {},
     "output_type": "execute_result"
    }
   ],
   "source": [
    "name1 = name.replace(\"k\", \"YYY\", )  # replace(\"oldvalue\",\"newvalue\",count)\n",
    "name1"
   ]
  },
  {
   "cell_type": "code",
   "execution_count": 22,
   "metadata": {},
   "outputs": [
    {
     "data": {
      "text/plain": [
       "'Fazik'"
      ]
     },
     "execution_count": 22,
     "metadata": {},
     "output_type": "execute_result"
    }
   ],
   "source": [
    "name2 = name.replace(\"l\",\"z\")\n",
    "name2"
   ]
  },
  {
   "cell_type": "code",
   "execution_count": 28,
   "metadata": {},
   "outputs": [
    {
     "data": {
      "text/plain": [
       "'MALIK Zeeshan Arain'"
      ]
     },
     "execution_count": 28,
     "metadata": {},
     "output_type": "execute_result"
    }
   ],
   "source": [
    "name = \"Malik Zeeshan Arain\"\n",
    "\n",
    "name = name.replace(\"Malik\", \"MALIK\")\n",
    "name"
   ]
  },
  {
   "cell_type": "code",
   "execution_count": 30,
   "metadata": {},
   "outputs": [
    {
     "data": {
      "text/plain": [
       "'MZLIK ZEESHZN ZRZIN'"
      ]
     },
     "execution_count": 30,
     "metadata": {},
     "output_type": "execute_result"
    }
   ],
   "source": [
    "name = \"MALIK ZEESHAN ARAIN\"\n",
    "\n",
    "name = name.replace(\"A\", \"Z\")\n",
    "name"
   ]
  },
  {
   "cell_type": "code",
   "execution_count": 33,
   "metadata": {},
   "outputs": [
    {
     "ename": "AttributeError",
     "evalue": "'str' object has no attribute 'ascii_letters'",
     "output_type": "error",
     "traceback": [
      "\u001b[1;31m---------------------------------------------------------------------------\u001b[0m",
      "\u001b[1;31mAttributeError\u001b[0m                            Traceback (most recent call last)",
      "Cell \u001b[1;32mIn[33], line 2\u001b[0m\n\u001b[0;32m      1\u001b[0m name \u001b[38;5;241m=\u001b[39m \u001b[38;5;124m\"\u001b[39m\u001b[38;5;124mMalik Zeeshan arain\u001b[39m\u001b[38;5;124m\"\u001b[39m\n\u001b[1;32m----> 2\u001b[0m \u001b[43mname\u001b[49m\u001b[38;5;241;43m.\u001b[39;49m\u001b[43mascii_letters\u001b[49m()\n",
      "\u001b[1;31mAttributeError\u001b[0m: 'str' object has no attribute 'ascii_letters'"
     ]
    }
   ],
   "source": [
    "  "
   ]
  },
  {
   "cell_type": "code",
   "execution_count": 35,
   "metadata": {},
   "outputs": [
    {
     "data": {
      "text/plain": [
       "'Malik_Zeeshan_Arain'"
      ]
     },
     "execution_count": 35,
     "metadata": {},
     "output_type": "execute_result"
    }
   ],
   "source": [
    "name = \"Malik Zeeshan Arain\"\n",
    "\n",
    "name = name.replace(\" \", \"_\")\n",
    "name"
   ]
  },
  {
   "cell_type": "markdown",
   "metadata": {},
   "source": [
    "# length of the string "
   ]
  },
  {
   "cell_type": "code",
   "execution_count": 36,
   "metadata": {},
   "outputs": [
    {
     "data": {
      "text/plain": [
       "19"
      ]
     },
     "execution_count": 36,
     "metadata": {},
     "output_type": "execute_result"
    }
   ],
   "source": [
    "len(name)"
   ]
  },
  {
   "cell_type": "code",
   "execution_count": 37,
   "metadata": {},
   "outputs": [
    {
     "data": {
      "text/plain": [
       "5"
      ]
     },
     "execution_count": 37,
     "metadata": {},
     "output_type": "execute_result"
    }
   ],
   "source": [
    "len(\"MAliK\")"
   ]
  },
  {
   "cell_type": "code",
   "execution_count": 39,
   "metadata": {},
   "outputs": [
    {
     "data": {
      "text/plain": [
       "10"
      ]
     },
     "execution_count": 39,
     "metadata": {},
     "output_type": "execute_result"
    }
   ],
   "source": [
    "len(\"MALiK     \") # space count"
   ]
  },
  {
   "cell_type": "code",
   "execution_count": 57,
   "metadata": {},
   "outputs": [
    {
     "data": {
      "text/plain": [
       "'                    Z      E      E      S      H      A      N                    '"
      ]
     },
     "execution_count": 57,
     "metadata": {},
     "output_type": "execute_result"
    }
   ],
   "source": [
    "name = \"  ZEESHAN  \"\n",
    "\n",
    "name.replace(\"\", \"      \")"
   ]
  },
  {
   "cell_type": "code",
   "execution_count": 58,
   "metadata": {},
   "outputs": [
    {
     "data": {
      "text/plain": [
       "'MALIK'"
      ]
     },
     "execution_count": 58,
     "metadata": {},
     "output_type": "execute_result"
    }
   ],
   "source": [
    "name = \"MALIK\"\n",
    "name.replace(\" \", \"\")"
   ]
  },
  {
   "cell_type": "markdown",
   "metadata": {},
   "source": [
    "1. String slicing \n",
    "2. String indexing\n",
    "3. String skipping\n",
    "4. String reversal\n",
    "5. String replace method\n",
    "6. String length method\n",
    "7. String count method\n",
    "8. String find method\n",
    "9. String index method\n",
    "10. String split method\n",
    "11. String join method\n",
    "12. String upper method\n",
    "13. String lower method\n",
    "14. String title method\n",
    "15. String capitalize method\n",
    "16. String casefold method\n",
    "17. String center method\n",
    "18. String count method\n",
    "19. String encode method\n"
   ]
  },
  {
   "cell_type": "markdown",
   "metadata": {},
   "source": [
    "# String slicing"
   ]
  },
  {
   "cell_type": "code",
   "execution_count": 59,
   "metadata": {},
   "outputs": [
    {
     "data": {
      "text/plain": [
       "'K'"
      ]
     },
     "execution_count": 59,
     "metadata": {},
     "output_type": "execute_result"
    }
   ],
   "source": [
    "name = \"MALIK ZEESHAN ARAIN\"\n",
    "name[4]"
   ]
  },
  {
   "cell_type": "code",
   "execution_count": 60,
   "metadata": {},
   "outputs": [
    {
     "data": {
      "text/plain": [
       "'MIZSNRN'"
      ]
     },
     "execution_count": 60,
     "metadata": {},
     "output_type": "execute_result"
    }
   ],
   "source": [
    "name[::3]"
   ]
  },
  {
   "cell_type": "code",
   "execution_count": 64,
   "metadata": {},
   "outputs": [
    {
     "data": {
      "text/plain": [
       "'MALIK ZEESHAN ARAIN'"
      ]
     },
     "execution_count": 64,
     "metadata": {},
     "output_type": "execute_result"
    }
   ],
   "source": [
    "name[0:]"
   ]
  },
  {
   "cell_type": "code",
   "execution_count": 62,
   "metadata": {},
   "outputs": [
    {
     "data": {
      "text/plain": [
       "'ZEESHAN ARAIN'"
      ]
     },
     "execution_count": 62,
     "metadata": {},
     "output_type": "execute_result"
    }
   ],
   "source": [
    "name[6:19]"
   ]
  },
  {
   "cell_type": "code",
   "execution_count": 65,
   "metadata": {},
   "outputs": [
    {
     "data": {
      "text/plain": [
       "'NIARA NAHSEEZ KILAM'"
      ]
     },
     "execution_count": 65,
     "metadata": {},
     "output_type": "execute_result"
    }
   ],
   "source": [
    "name[::-1]"
   ]
  },
  {
   "cell_type": "code",
   "execution_count": 72,
   "metadata": {},
   "outputs": [
    {
     "data": {
      "text/plain": [
       "'MALIK+ZEESHAN+ARAIN'"
      ]
     },
     "execution_count": 72,
     "metadata": {},
     "output_type": "execute_result"
    }
   ],
   "source": [
    "name.replace(\" \", \"+\")"
   ]
  },
  {
   "cell_type": "code",
   "execution_count": 78,
   "metadata": {},
   "outputs": [
    {
     "data": {
      "text/plain": [
       "'MLKZEHNAAN'"
      ]
     },
     "execution_count": 78,
     "metadata": {},
     "output_type": "execute_result"
    }
   ],
   "source": [
    "name = \"MALIK ZEESHAN ARAIN\"\n",
    "name[0:19:2]   # Start # END # Step "
   ]
  },
  {
   "cell_type": "code",
   "execution_count": 79,
   "metadata": {},
   "outputs": [
    {
     "data": {
      "text/plain": [
       "''"
      ]
     },
     "execution_count": 79,
     "metadata": {},
     "output_type": "execute_result"
    }
   ],
   "source": [
    "name[-5:-5:]"
   ]
  },
  {
   "cell_type": "code",
   "execution_count": null,
   "metadata": {},
   "outputs": [],
   "source": []
  }
 ],
 "metadata": {
  "kernelspec": {
   "display_name": "Python 3",
   "language": "python",
   "name": "python3"
  },
  "language_info": {
   "codemirror_mode": {
    "name": "ipython",
    "version": 3
   },
   "file_extension": ".py",
   "mimetype": "text/x-python",
   "name": "python",
   "nbconvert_exporter": "python",
   "pygments_lexer": "ipython3",
   "version": "3.12.0"
  }
 },
 "nbformat": 4,
 "nbformat_minor": 2
}
