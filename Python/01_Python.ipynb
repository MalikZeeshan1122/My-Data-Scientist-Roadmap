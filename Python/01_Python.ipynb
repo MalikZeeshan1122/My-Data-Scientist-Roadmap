{
 "cells": [
  {
   "cell_type": "markdown",
   "metadata": {},
   "source": [
    "# Agenda for Python Programming\n",
    "# Introduction\n",
    "- Variables Case Sensitivity\n",
    "- Reserved Words\n",
    "- Multi-line Statements\n",
    "- User Input\n",
    "- type conversion\n",
    "- type casting\n",
    "- Memory Management\n",
    "- Operators\n",
    "1. Arithmetic Operators\n",
    "2. Assignment Operators\n",
    "3. Comparison Operators\n",
    "4. Logical Operators\n",
    "5. Identity Operators\n",
    "6. Membership Operators\n",
    "7. Bitwise Operators\n",
    "# Control Flow\n",
    "1. Conditional Statements\n",
    "2. Looping Statements\n",
    "3. Break and Continue Statements\n",
    "4. Pass Statement\n",
    "5. Looping Techniques\n",
    "# Functions\n",
    "1. Defining a Function\n",
    "2. Calling a Function\n",
    "3. Arguments\n",
    "4. Return Statement\n",
    "5. Scope and Lifetime of Variables\n",
    "6. Recursion\n",
    "7. Anonymous Functions\n",
    "8. Lambda Functions\n",
    "9. Higher-Order Functions\n",
    "10. Closures\n",
    "11. Decorators\n",
    "# Data Structures\n",
    "1. Lists\n",
    "2. Tuples\n",
    "3. Sets\n",
    "4. Dictionaries\n",
    "5. Arrays\n",
    "6. Strings\n",
    "7. Ranges\n",
    "8. Bytes and Byte Arrays\n",
    "9. Linked Lists\n",
    "10. Stacks\n",
    "11. Queues\n",
    "12. Trees\n",
    "13. Graphs\n",
    "14. Hash Tables\n",
    "15. Heaps\n",
    "16. Tries\n",
    "17. Vectors\n",
    "18. Matrices\n",
    "19. Sparse Matrices\n",
    "20. Multi-dimensional Arrays\n",
    "\n",
    "# Algorithms\n",
    "1. Searching\n",
    "2. Sorting\n",
    "3. Recursion\n",
    "4. Greedy Algorithms\n",
    "5. Dynamic Programming\n",
    "6. Backtracking\n",
    "7. Divide and Conquer\n",
    "8. Bit Manipulation\n",
    "9. Randomized Algorithms\n",
    "10. Branch and Bound\n",
    "11. Brute Force\n",
    "12. Graph Algorithms\n",
    "13. String Algorithms\n",
    "14. Geometric Algorithms\n",
    "15. Mathematical Algorithms\n",
    "16. Bit Algorithms\n",
    "17. Array Algorithms\n",
    "18. Matrix Algorithms\n",
    "19. Tree Algorithms\n",
    "\n",
    "# Object-Oriented Programming\n",
    "1. Classes and Objects\n",
    "2. Inheritance\n",
    "3. Polymorphism\n",
    "4. Encapsulation\n",
    "5. Abstraction\n",
    "6. Interfaces\n",
    "7. Constructors\n",
    "8. Destructors\n",
    "9. Access Modifiers\n",
    "10. Method Overloading\n",
    "11. Method Overriding\n",
    "12. Operator Overloading\n",
    "13. Operator Overriding\n",
    "14. Abstract Classes\n",
    "15. Interfaces\n",
    "16. Singleton Pattern\n",
    "17. Factory Pattern\n",
    "18. Builder Pattern\n",
    "19. Prototype Pattern\n",
    "\n"
   ]
  },
  {
   "cell_type": "markdown",
   "metadata": {},
   "source": [
    "# Variables Case Sensitivity"
   ]
  },
  {
   "cell_type": "code",
   "execution_count": 49,
   "metadata": {},
   "outputs": [
    {
     "name": "stdout",
     "output_type": "stream",
     "text": [
      "10\n",
      "20\n"
     ]
    }
   ],
   "source": [
    "TEN = 10 \n",
    "ten = 20  # different \n",
    "\n",
    "# TEN and ten both are different in terms of lowercase and uppercase letter\n",
    "print(TEN)\n",
    "print(ten)"
   ]
  },
  {
   "cell_type": "markdown",
   "metadata": {},
   "source": [
    "# Reserved Words \n",
    "Reserved words are the words that are part of the Python language syntax. They are reserved for a specific purpose and cannot be used for any other purpose.\n",
    "\n",
    "\n",
    "- False    await      else       import     pass\n",
    "- None     break      except     in         raise\n",
    "- True     class      finally    is         return\n",
    "- and      continue   for        lambda     try\n",
    "- as       def        from       nonlocal   while\n",
    "- assert   del        global     not        with\n",
    "- async    elif       if         or         yield\n"
   ]
  },
  {
   "cell_type": "code",
   "execution_count": 50,
   "metadata": {},
   "outputs": [
    {
     "name": "stdout",
     "output_type": "stream",
     "text": [
      "Hi there\n"
     ]
    }
   ],
   "source": [
    "print(\"Hi there\")"
   ]
  },
  {
   "cell_type": "code",
   "execution_count": 51,
   "metadata": {},
   "outputs": [
    {
     "data": {
      "text/plain": [
       "str"
      ]
     },
     "execution_count": 51,
     "metadata": {},
     "output_type": "execute_result"
    }
   ],
   "source": [
    "print = \"Hi there\"\n",
    "type(print)"
   ]
  },
  {
   "cell_type": "code",
   "execution_count": 52,
   "metadata": {},
   "outputs": [
    {
     "ename": "TypeError",
     "evalue": "'str' object is not callable",
     "output_type": "error",
     "traceback": [
      "\u001b[1;31m---------------------------------------------------------------------------\u001b[0m",
      "\u001b[1;31mTypeError\u001b[0m                                 Traceback (most recent call last)",
      "Cell \u001b[1;32mIn[52], line 1\u001b[0m\n\u001b[1;32m----> 1\u001b[0m \u001b[38;5;28;43mprint\u001b[39;49m\u001b[43m(\u001b[49m\u001b[38;5;124;43m\"\u001b[39;49m\u001b[38;5;124;43mHi there\u001b[39;49m\u001b[38;5;124;43m\"\u001b[39;49m\u001b[43m)\u001b[49m\n",
      "\u001b[1;31mTypeError\u001b[0m: 'str' object is not callable"
     ]
    }
   ],
   "source": [
    "print(\"Hi there\")"
   ]
  },
  {
   "cell_type": "code",
   "execution_count": 6,
   "metadata": {},
   "outputs": [],
   "source": [
    "print = 10\n",
    "# delete the variables print ===> del print "
   ]
  },
  {
   "cell_type": "markdown",
   "metadata": {},
   "source": [
    "# Multi Assignment of Variables"
   ]
  },
  {
   "cell_type": "code",
   "execution_count": null,
   "metadata": {},
   "outputs": [],
   "source": [
    "a, b, c , d, e, f = 10, 20, \"Malik Zeeshan\", 23.00, True, 2 + 3j"
   ]
  },
  {
   "cell_type": "code",
   "execution_count": null,
   "metadata": {},
   "outputs": [
    {
     "data": {
      "text/plain": [
       "(int, int, str, float, bool, complex)"
      ]
     },
     "execution_count": 39,
     "metadata": {},
     "output_type": "execute_result"
    }
   ],
   "source": [
    "type(a), type(b),type(c),type(d),type(e), type(f)"
   ]
  },
  {
   "cell_type": "code",
   "execution_count": null,
   "metadata": {},
   "outputs": [
    {
     "name": "stdout",
     "output_type": "stream",
     "text": [
      "<class 'int'>\n",
      "<class 'int'>\n",
      "<class 'str'>\n",
      "<class 'float'>\n",
      "<class 'bool'>\n",
      "<class 'complex'>\n"
     ]
    }
   ],
   "source": [
    "print(type(a))\n",
    "print(type(b))\n",
    "print(type(c))\n",
    "print(type(d))\n",
    "print(type(e)) \n",
    "print(type(f))"
   ]
  },
  {
   "cell_type": "code",
   "execution_count": null,
   "metadata": {},
   "outputs": [
    {
     "ename": "TypeError",
     "evalue": "type() takes 1 or 3 arguments",
     "output_type": "error",
     "traceback": [
      "\u001b[1;31m---------------------------------------------------------------------------\u001b[0m",
      "\u001b[1;31mTypeError\u001b[0m                                 Traceback (most recent call last)",
      "Cell \u001b[1;32mIn[41], line 1\u001b[0m\n\u001b[1;32m----> 1\u001b[0m \u001b[38;5;28;43mtype\u001b[39;49m\u001b[43m(\u001b[49m\u001b[43ma\u001b[49m\u001b[43m,\u001b[49m\u001b[43mb\u001b[49m\u001b[43m,\u001b[49m\u001b[43mc\u001b[49m\u001b[43m,\u001b[49m\u001b[43md\u001b[49m\u001b[43m,\u001b[49m\u001b[43me\u001b[49m\u001b[43m,\u001b[49m\u001b[43mf\u001b[49m\u001b[43m)\u001b[49m \n",
      "\u001b[1;31mTypeError\u001b[0m: type() takes 1 or 3 arguments"
     ]
    }
   ],
   "source": [
    "type(a,b,c,d,e,f) "
   ]
  },
  {
   "cell_type": "code",
   "execution_count": null,
   "metadata": {},
   "outputs": [
    {
     "ename": "TypeError",
     "evalue": "cannot unpack non-iterable int object",
     "output_type": "error",
     "traceback": [
      "\u001b[1;31m---------------------------------------------------------------------------\u001b[0m",
      "\u001b[1;31mTypeError\u001b[0m                                 Traceback (most recent call last)",
      "Cell \u001b[1;32mIn[42], line 1\u001b[0m\n\u001b[1;32m----> 1\u001b[0m a, b ,c \u001b[38;5;241m=\u001b[39m \u001b[38;5;241m10\u001b[39m\n",
      "\u001b[1;31mTypeError\u001b[0m: cannot unpack non-iterable int object"
     ]
    }
   ],
   "source": [
    "a, b ,c = 10"
   ]
  },
  {
   "cell_type": "code",
   "execution_count": null,
   "metadata": {},
   "outputs": [
    {
     "name": "stdout",
     "output_type": "stream",
     "text": [
      "10 10 10\n"
     ]
    }
   ],
   "source": [
    "a, b , c = 10, 10, 10\n",
    "print(a,b,c)"
   ]
  },
  {
   "cell_type": "code",
   "execution_count": null,
   "metadata": {},
   "outputs": [
    {
     "name": "stdout",
     "output_type": "stream",
     "text": [
      "10 20.3 Malik Zeeshan True\n"
     ]
    }
   ],
   "source": [
    "a,B,C,d = 10, 20.3, \"Malik Zeeshan\", True\n",
    "print(a,B,C,d)"
   ]
  },
  {
   "cell_type": "code",
   "execution_count": null,
   "metadata": {},
   "outputs": [],
   "source": [
    "a=b=c=10"
   ]
  },
  {
   "cell_type": "code",
   "execution_count": null,
   "metadata": {},
   "outputs": [
    {
     "data": {
      "text/plain": [
       "(10, 10, 10)"
      ]
     },
     "execution_count": 48,
     "metadata": {},
     "output_type": "execute_result"
    }
   ],
   "source": [
    "a,b,c"
   ]
  },
  {
   "cell_type": "code",
   "execution_count": 58,
   "metadata": {},
   "outputs": [],
   "source": [
    "firstName , middleName, sirName = \"Malik\", \"Zeeshan\", \"Arain\""
   ]
  },
  {
   "cell_type": "code",
   "execution_count": 57,
   "metadata": {},
   "outputs": [
    {
     "name": "stdout",
     "output_type": "stream",
     "text": [
      "MalikZeeshanArain@gmail.com\n"
     ]
    }
   ],
   "source": [
    "print(f\"{firstName}{middleName}{sirName}@gmail.com\")"
   ]
  },
  {
   "cell_type": "code",
   "execution_count": 59,
   "metadata": {},
   "outputs": [],
   "source": [
    "name, place, year_of_birth, weight = \"Malik Zeeshan\", \"Pakistan\", 2003, 49"
   ]
  },
  {
   "cell_type": "code",
   "execution_count": 65,
   "metadata": {},
   "outputs": [
    {
     "name": "stdout",
     "output_type": "stream",
     "text": [
      "My Name is Malik Zeeshan live in Pakistan date of birth 2003 and weight 49 kgs\n"
     ]
    }
   ],
   "source": [
    "print(f\"My Name is {name} live in {place} date of birth {year_of_birth} and weight {weight} kgs\")"
   ]
  },
  {
   "cell_type": "markdown",
   "metadata": {},
   "source": [
    "# User Input"
   ]
  },
  {
   "cell_type": "code",
   "execution_count": 2,
   "metadata": {},
   "outputs": [
    {
     "name": "stdout",
     "output_type": "stream",
     "text": [
      "You have entered: Malik Zeeshan\n"
     ]
    }
   ],
   "source": [
    "name = input(\"Enter your Name: \")\n",
    "\n",
    "print(f\"You have entered: {name}\")"
   ]
  },
  {
   "cell_type": "code",
   "execution_count": 4,
   "metadata": {},
   "outputs": [
    {
     "name": "stdout",
     "output_type": "stream",
     "text": [
      "Your age is:  21\n"
     ]
    }
   ],
   "source": [
    "age = input(\"Enter your age: \")\n",
    "print(f\"Your   age is:  {age}\")"
   ]
  },
  {
   "cell_type": "code",
   "execution_count": 5,
   "metadata": {},
   "outputs": [
    {
     "name": "stdout",
     "output_type": "stream",
     "text": [
      "Sum of A and B is: 100000200000\n"
     ]
    }
   ],
   "source": [
    "A = input(\"Enter value of A: \")\n",
    "B = input(\"Enter value of B: \")\n",
    "\n",
    "print(f\"Sum of A and B is: {A + B}\")"
   ]
  },
  {
   "cell_type": "code",
   "execution_count": 4,
   "metadata": {},
   "outputs": [
    {
     "name": "stdout",
     "output_type": "stream",
     "text": [
      "<class 'int'> <class 'int'>\n"
     ]
    }
   ],
   "source": [
    "C= int(input(\"Enter value of A: \"))\n",
    "D = int(input(\"Enter value of B: \"))\n",
    "\n",
    "print(type(C), type(D))"
   ]
  },
  {
   "cell_type": "code",
   "execution_count": 6,
   "metadata": {},
   "outputs": [
    {
     "name": "stdout",
     "output_type": "stream",
     "text": [
      "Sum of A and B is: 3405.0\n"
     ]
    }
   ],
   "source": [
    "A = float(input(\"Enter value of A: \"))\n",
    "B = float(input(\"Enter value of B: \"))\n",
    "\n",
    "print(f\"Sum of A and B is: {A + B}\")"
   ]
  },
  {
   "cell_type": "code",
   "execution_count": 7,
   "metadata": {},
   "outputs": [
    {
     "name": "stdout",
     "output_type": "stream",
     "text": [
      "Sum of A and B is: 102.0\n"
     ]
    }
   ],
   "source": [
    "A = int(input(\"Enter value of A: \"))\n",
    "B = float(input(\"Enter value of B: \"))\n",
    "\n",
    "print(f\"Sum of A and B is: {A + B}\")"
   ]
  },
  {
   "cell_type": "code",
   "execution_count": 10,
   "metadata": {},
   "outputs": [
    {
     "data": {
      "text/plain": [
       "(10.0, 10)"
      ]
     },
     "execution_count": 10,
     "metadata": {},
     "output_type": "execute_result"
    }
   ],
   "source": [
    "float(10),int(10)"
   ]
  },
  {
   "cell_type": "code",
   "execution_count": 68,
   "metadata": {},
   "outputs": [
    {
     "name": "stdout",
     "output_type": "stream",
     "text": [
      "My Name is Malik Zeeshan live in Pakistan date of birth 2003 and weight 49 kgs\n"
     ]
    }
   ],
   "source": [
    "print(f\"My Name is {name} live in {place} date of birth {year_of_birth} and weight {weight} kgs\")"
   ]
  },
  {
   "cell_type": "code",
   "execution_count": 69,
   "metadata": {},
   "outputs": [
    {
     "name": "stdout",
     "output_type": "stream",
     "text": [
      "My Name is Malik Zeeshan live in Pakistan date of birth 2003 and weight 49 kgs\n"
     ]
    }
   ],
   "source": [
    "print(f\"My Name is {name} live in {place} date of birth {year_of_birth} and weight {weight} kgs\")"
   ]
  },
  {
   "cell_type": "code",
   "execution_count": 70,
   "metadata": {},
   "outputs": [],
   "source": [
    "name = input(\"Name: \")\n",
    "place = input(\"Place: \")\n",
    "year_of_birth = input(\"year_of_birth: \")\n",
    "Job = input(\"Job: \")\n"
   ]
  },
  {
   "cell_type": "code",
   "execution_count": 71,
   "metadata": {},
   "outputs": [
    {
     "name": "stdout",
     "output_type": "stream",
     "text": [
      "\n",
      "My name is : Malik Muhammad Zeeshan\n",
      "I live in Bahawalpur, Punjab, Pakistan\n",
      "date of birth: 19-09-2003\n",
      "job: Machine learning Engineer and Data Scientist \n"
     ]
    }
   ],
   "source": [
    "print(f\"\"\"\n",
    "My name is : {name}\n",
    "I live in {place}\n",
    "date of birth: {year_of_birth}\n",
    "job: {Job} \"\"\")"
   ]
  },
  {
   "cell_type": "code",
   "execution_count": 77,
   "metadata": {},
   "outputs": [
    {
     "name": "stdout",
     "output_type": "stream",
     "text": [
      "\n",
      "My name is : MALIK Zeeshan\n",
      "I live at Pakistan\n",
      "MALIK Zeeshan is of age: 21\n",
      "job: ML Engineer \n"
     ]
    }
   ],
   "source": [
    "name = input(\"Name: \")\n",
    "place = input(\"Place: \")\n",
    "year_of_birth = int(input(\"year_of_birth: \"))\n",
    "Job = input(\"Job: \")\n",
    "\n",
    "age = 2024 - int(year_of_birth)\n",
    "\n",
    "print(f\"\"\"\n",
    "My name is : {name}\n",
    "I live at {place}\n",
    "{name} is of age: {age}\n",
    "job: {Job} \"\"\")"
   ]
  },
  {
   "cell_type": "code",
   "execution_count": 78,
   "metadata": {},
   "outputs": [
    {
     "name": "stdout",
     "output_type": "stream",
     "text": [
      "\n",
      "My name is : MALIK ZEESHAN\n",
      "I live at Bahawalpur\n",
      "MALIK ZEESHAN is of age: 21\n",
      "job: ML \n"
     ]
    }
   ],
   "source": [
    "name = input(\" Name: \") # Always gives you string values\n",
    "place = input(\"Place: \")\n",
    "year_of_birth = int(input(\"year_of_birth: \")) # convert this into integers\n",
    "current_year = input(\"current year: \")\n",
    "Job = input(\"Job: \")\n",
    "\n",
    "age = int(current_year) - int(year_of_birth)\n",
    "\n",
    "print(f\"\"\"\n",
    "My name is : {name} \n",
    "I live at {place}\n",
    "{name} is of age: {age}\n",
    "job: {Job} \"\"\")"
   ]
  },
  {
   "cell_type": "markdown",
   "metadata": {},
   "source": [
    "# Type Conversion "
   ]
  },
  {
   "cell_type": "code",
   "execution_count": 1,
   "metadata": {},
   "outputs": [
    {
     "name": "stdout",
     "output_type": "stream",
     "text": [
      "Sum of A and B: 34.9\n"
     ]
    }
   ],
   "source": [
    "# float to integer \n",
    "A = float(input(\"Enter value of A: \"))  # float number \n",
    "B = int(input(\"Enter value of B: \"))    # integer number\n",
    "\n",
    "print(f\"Sum of A and B: {A + B}\")  # give output float"
   ]
  },
  {
   "cell_type": "code",
   "execution_count": 15,
   "metadata": {},
   "outputs": [
    {
     "name": "stdout",
     "output_type": "stream",
     "text": [
      "data type before: <class 'str'>\n",
      "data type before: <class 'int'>\n"
     ]
    }
   ],
   "source": [
    "# String to integer\n",
    "Z = \"100\"\n",
    "print(f\"data type before: {type(Z)}\")  # type conversion \n",
    "Z = int(\"100\")\n",
    "print(f\"data type before: {type(Z)}\")\n"
   ]
  },
  {
   "cell_type": "code",
   "execution_count": 16,
   "metadata": {},
   "outputs": [
    {
     "name": "stdout",
     "output_type": "stream",
     "text": [
      "data type before: <class 'str'>\n",
      "data type before: <class 'str'>\n"
     ]
    }
   ],
   "source": [
    "# String to integer\n",
    "Z = \"100\"\n",
    "print(f\"data type before: {type(Z)}\")  # type conversion \n",
    "Z = str(\"100\")\n",
    "print(f\"data type before: {type(Z)}\")\n"
   ]
  },
  {
   "cell_type": "code",
   "execution_count": 17,
   "metadata": {},
   "outputs": [
    {
     "name": "stdout",
     "output_type": "stream",
     "text": [
      "data type before: <class 'str'>\n",
      "data type before: <class 'float'>\n"
     ]
    }
   ],
   "source": [
    "# String to integer\n",
    "Z = \"100\"\n",
    "print(f\"data type before: {type(Z)}\")  # type conversion \n",
    "Z = float(\"100\")\n",
    "print(f\"data type before: {type(Z)}\")\n"
   ]
  },
  {
   "cell_type": "code",
   "execution_count": 2,
   "metadata": {},
   "outputs": [
    {
     "name": "stdout",
     "output_type": "stream",
     "text": [
      "data type before: <class 'str'>\n",
      "data type before: <class 'float'>\n"
     ]
    }
   ],
   "source": [
    "# string to float\n",
    "a = \"31416\"\n",
    "print(f\"data type before: {type(a)}\")\n",
    "a = float(\"31416\")\n",
    "print(f\"data type before: {type(a)}\")"
   ]
  },
  {
   "cell_type": "code",
   "execution_count": 29,
   "metadata": {},
   "outputs": [
    {
     "name": "stdout",
     "output_type": "stream",
     "text": [
      "<class 'float'>\n",
      "<class 'int'>\n"
     ]
    }
   ],
   "source": [
    "# float to integer \n",
    "a = 234.99\n",
    "print(type(a))\n",
    "\n",
    "a = int(a) # trying to convert it into integer\n",
    "print(type(a))"
   ]
  },
  {
   "cell_type": "code",
   "execution_count": 47,
   "metadata": {},
   "outputs": [
    {
     "name": "stdout",
     "output_type": "stream",
     "text": [
      "data type before: <class 'str'>, value of A: 31416\n",
      "data type before: <class 'float'>,value of A: 31416.0\n"
     ]
    }
   ],
   "source": [
    "# integer to float \n",
    "a = \"31416\"\n",
    "print(f\"data type before: {type(a)}, value of A: {a}\")\n",
    "a = float(a)\n",
    "print(f\"data type before: {type(a)},value of A: {a}\")"
   ]
  },
  {
   "cell_type": "code",
   "execution_count": 45,
   "metadata": {},
   "outputs": [
    {
     "name": "stdout",
     "output_type": "stream",
     "text": [
      "data type before: <class 'str'>, value of A: 10\n",
      "data type before: <class 'bool'>,value of A: True\n"
     ]
    }
   ],
   "source": [
    "# integer to boolean\n",
    "a = \"10\"\n",
    "print(f\"data type before: {type(a)}, value of A: {a}\")\n",
    "a = bool(a)\n",
    "print(f\"data type before: {type(a)},value of A: {a}\")"
   ]
  },
  {
   "cell_type": "markdown",
   "metadata": {},
   "source": [
    "# True in Binary -  1\n",
    "# False in Binary - 0"
   ]
  },
  {
   "cell_type": "code",
   "execution_count": 3,
   "metadata": {},
   "outputs": [
    {
     "name": "stdout",
     "output_type": "stream",
     "text": [
      "data type before: <class 'int'>, value of A: 0\n",
      "data type before: <class 'bool'>,value of A: False\n"
     ]
    }
   ],
   "source": [
    "# integer to boolean\n",
    "a = 0             # 0/1 False/True\n",
    "print(f\"data type before: {type(a)}, value of A: {a}\")\n",
    "a = bool(a)\n",
    "print(f\"data type before: {type(a)},value of A: {a}\")"
   ]
  },
  {
   "cell_type": "code",
   "execution_count": 48,
   "metadata": {},
   "outputs": [
    {
     "name": "stdout",
     "output_type": "stream",
     "text": [
      "data type before: <class 'int'>, value of A: -5\n",
      "data type before: <class 'bool'>,value of A: True\n"
     ]
    }
   ],
   "source": [
    "# integer to boolean\n",
    "a = -5\n",
    "print(f\"data type before: {type(a)}, value of A: {a}\")\n",
    "a = bool(a)\n",
    "print(f\"data type before: {type(a)},value of A: {a}\")"
   ]
  },
  {
   "cell_type": "code",
   "execution_count": 49,
   "metadata": {},
   "outputs": [
    {
     "name": "stdout",
     "output_type": "stream",
     "text": [
      "data type before: <class 'str'>, value of A: Malik\n",
      "data type before: <class 'bool'>,value of A: True\n"
     ]
    }
   ],
   "source": [
    " # integer to boolean\n",
    "a = \"Malik\"\n",
    "print(f\"data type before: {type(a)}, value of A: {a}\")\n",
    "a = bool(a)\n",
    "print(f\"data type before: {type(a)},value of A: {a}\")"
   ]
  },
  {
   "cell_type": "code",
   "execution_count": 50,
   "metadata": {},
   "outputs": [
    {
     "name": "stdout",
     "output_type": "stream",
     "text": [
      "data type before: <class 'str'>, value of A: True\n",
      "data type before: <class 'bool'>,value of A: True\n"
     ]
    }
   ],
   "source": [
    "# integer to boolean\n",
    "a = \"True\"\n",
    "print(f\"data type before: {type(a)}, value of A: {a}\")\n",
    "a = bool(a)\n",
    "print(f\"data type before: {type(a)},value of A: {a}\")"
   ]
  },
  {
   "cell_type": "code",
   "execution_count": 51,
   "metadata": {},
   "outputs": [
    {
     "name": "stdout",
     "output_type": "stream",
     "text": [
      "data type before: <class 'str'>, value of A: False\n",
      "data type before: <class 'bool'>,value of A: True\n"
     ]
    }
   ],
   "source": [
    "# integer to boolean\n",
    "a = \"False\"\n",
    "print(f\"data type before: {type(a)}, value of A: {a}\")\n",
    "a = bool(a)\n",
    "print(f\"data type before: {type(a)},value of A: {a}\")"
   ]
  },
  {
   "cell_type": "code",
   "execution_count": 53,
   "metadata": {},
   "outputs": [
    {
     "name": "stdout",
     "output_type": "stream",
     "text": [
      "data type before: <class 'str'>, value of A: \n",
      "data type before: <class 'bool'>,value of A: False\n"
     ]
    }
   ],
   "source": [
    "# empty string  to boolean\n",
    "a = \"\"\n",
    "print(f\"data type before: {type(a)}, value of A: {a}\") \n",
    "a = bool(a)\n",
    "print(f\"data type before: {type(a)},value of A: {a}\")"
   ]
  },
  {
   "cell_type": "code",
   "execution_count": 54,
   "metadata": {},
   "outputs": [
    {
     "name": "stdout",
     "output_type": "stream",
     "text": [
      "data type before: <class 'str'>, value of A: \n"
     ]
    },
    {
     "ename": "ValueError",
     "evalue": "invalid literal for int() with base 10: ''",
     "output_type": "error",
     "traceback": [
      "\u001b[1;31m---------------------------------------------------------------------------\u001b[0m",
      "\u001b[1;31mValueError\u001b[0m                                Traceback (most recent call last)",
      "Cell \u001b[1;32mIn[54], line 4\u001b[0m\n\u001b[0;32m      2\u001b[0m a \u001b[38;5;241m=\u001b[39m \u001b[38;5;124m\"\u001b[39m\u001b[38;5;124m\"\u001b[39m\n\u001b[0;32m      3\u001b[0m \u001b[38;5;28mprint\u001b[39m(\u001b[38;5;124mf\u001b[39m\u001b[38;5;124m\"\u001b[39m\u001b[38;5;124mdata type before: \u001b[39m\u001b[38;5;132;01m{\u001b[39;00m\u001b[38;5;28mtype\u001b[39m(a)\u001b[38;5;132;01m}\u001b[39;00m\u001b[38;5;124m, value of A: \u001b[39m\u001b[38;5;132;01m{\u001b[39;00ma\u001b[38;5;132;01m}\u001b[39;00m\u001b[38;5;124m\"\u001b[39m)\n\u001b[1;32m----> 4\u001b[0m a \u001b[38;5;241m=\u001b[39m \u001b[38;5;28;43mint\u001b[39;49m\u001b[43m(\u001b[49m\u001b[43ma\u001b[49m\u001b[43m)\u001b[49m\n\u001b[0;32m      5\u001b[0m \u001b[38;5;28mprint\u001b[39m(\u001b[38;5;124mf\u001b[39m\u001b[38;5;124m\"\u001b[39m\u001b[38;5;124mdata type before: \u001b[39m\u001b[38;5;132;01m{\u001b[39;00m\u001b[38;5;28mtype\u001b[39m(a)\u001b[38;5;132;01m}\u001b[39;00m\u001b[38;5;124m,value of A: \u001b[39m\u001b[38;5;132;01m{\u001b[39;00ma\u001b[38;5;132;01m}\u001b[39;00m\u001b[38;5;124m\"\u001b[39m)\n",
      "\u001b[1;31mValueError\u001b[0m: invalid literal for int() with base 10: ''"
     ]
    }
   ],
   "source": [
    "# empty string  to int\n",
    "a = \"\"\n",
    "print(f\"data type before: {type(a)}, value of A: {a}\")\n",
    "a = int(a)\n",
    "print(f\"data type before: {type(a)},value of A: {a}\")"
   ]
  },
  {
   "cell_type": "markdown",
   "metadata": {},
   "source": [
    "# Memory Blocks\n",
    "Memory blocks are the smallest units of memory in a computer. Each memory block has a unique address. The size of a memory block is determined by the computer architecture. The memory blocks are used to store data and instructions. The data stored in a memory block can be of different types, such as integers, floating-point numbers, characters, etc. The instructions stored in a memory block are the machine instructions that are executed by the computer processor. \n",
    "\n"
   ]
  },
  {
   "cell_type": "code",
   "execution_count": 21,
   "metadata": {},
   "outputs": [],
   "source": [
    " a = 10\n",
    " b = 20\n",
    " c = 30"
   ]
  },
  {
   "cell_type": "code",
   "execution_count": 22,
   "metadata": {},
   "outputs": [
    {
     "data": {
      "text/plain": [
       "140723657231064"
      ]
     },
     "execution_count": 22,
     "metadata": {},
     "output_type": "execute_result"
    }
   ],
   "source": [
    "id(a)   # id memory address"
   ]
  },
  {
   "cell_type": "code",
   "execution_count": 23,
   "metadata": {},
   "outputs": [
    {
     "data": {
      "text/plain": [
       "140723657231384"
      ]
     },
     "execution_count": 23,
     "metadata": {},
     "output_type": "execute_result"
    }
   ],
   "source": [
    "id(b)    # id is memory address"
   ]
  },
  {
   "cell_type": "code",
   "execution_count": 24,
   "metadata": {},
   "outputs": [
    {
     "data": {
      "text/plain": [
       "140723657231704"
      ]
     },
     "execution_count": 24,
     "metadata": {},
     "output_type": "execute_result"
    }
   ],
   "source": [
    "id(c)"
   ]
  },
  {
   "cell_type": "code",
   "execution_count": 32,
   "metadata": {},
   "outputs": [],
   "source": [
    "c = 22 + b \n",
    "\n"
   ]
  },
  {
   "cell_type": "code",
   "execution_count": 33,
   "metadata": {},
   "outputs": [
    {
     "data": {
      "text/plain": [
       "140723657232088"
      ]
     },
     "execution_count": 33,
     "metadata": {},
     "output_type": "execute_result"
    }
   ],
   "source": [
    "id(c)"
   ]
  },
  {
   "cell_type": "code",
   "execution_count": 35,
   "metadata": {},
   "outputs": [],
   "source": [
    "a = 100 + c"
   ]
  },
  {
   "cell_type": "code",
   "execution_count": 36,
   "metadata": {},
   "outputs": [
    {
     "data": {
      "text/plain": [
       "140723657235288"
      ]
     },
     "execution_count": 36,
     "metadata": {},
     "output_type": "execute_result"
    }
   ],
   "source": [
    "id(a)"
   ]
  },
  {
   "cell_type": "markdown",
   "metadata": {},
   "source": [
    "`Memory is assigned to the value of variables in Python. The memory is allocated to the variables based on the type of the value assigned to the variable. The memory is allocated to the variables in the following way:`"
   ]
  },
  {
   "cell_type": "code",
   "execution_count": 45,
   "metadata": {},
   "outputs": [
    {
     "name": "stdout",
     "output_type": "stream",
     "text": [
      "140723657231448 140723657231832 140723657231448 1342799954608\n",
      "140723657230744 140723656435136 1342797991440 1342799954864\n",
      "1342800056368\n"
     ]
    }
   ],
   "source": [
    "a = 22 \n",
    "b = 34 \n",
    "c = 22\n",
    "d = 100000\n",
    "e = 0\n",
    "f = True\n",
    "g = 334.90\n",
    "h = 2 + 3j \n",
    "i = \"MalikZeeshan\"\n",
    "\n",
    "print(id(a), id(b), id(c), id(d))\n",
    "print(id(e), id(f), id(g), id(h))\n",
    "print(id(i))"
   ]
  },
  {
   "cell_type": "code",
   "execution_count": 1,
   "metadata": {},
   "outputs": [
    {
     "data": {
      "text/plain": [
       "True"
      ]
     },
     "execution_count": 1,
     "metadata": {},
     "output_type": "execute_result"
    }
   ],
   "source": [
    "x = 22.2\n",
    "bool(x)"
   ]
  },
  {
   "cell_type": "code",
   "execution_count": 4,
   "metadata": {},
   "outputs": [
    {
     "data": {
      "text/plain": [
       "True"
      ]
     },
     "execution_count": 4,
     "metadata": {},
     "output_type": "execute_result"
    }
   ],
   "source": [
    "x = 22\n",
    "bool(x)"
   ]
  },
  {
   "cell_type": "code",
   "execution_count": 2,
   "metadata": {},
   "outputs": [
    {
     "data": {
      "text/plain": [
       "False"
      ]
     },
     "execution_count": 2,
     "metadata": {},
     "output_type": "execute_result"
    }
   ],
   "source": [
    "x = 0.0\n",
    "bool(x)"
   ]
  },
  {
   "cell_type": "code",
   "execution_count": 5,
   "metadata": {},
   "outputs": [
    {
     "data": {
      "text/plain": [
       "False"
      ]
     },
     "execution_count": 5,
     "metadata": {},
     "output_type": "execute_result"
    }
   ],
   "source": [
    "x = 0 \n",
    "bool(x)"
   ]
  },
  {
   "cell_type": "code",
   "execution_count": 3,
   "metadata": {},
   "outputs": [
    {
     "data": {
      "text/plain": [
       "True"
      ]
     },
     "execution_count": 3,
     "metadata": {},
     "output_type": "execute_result"
    }
   ],
   "source": [
    "x = -22.2\n",
    "bool(x)"
   ]
  },
  {
   "cell_type": "code",
   "execution_count": 15,
   "metadata": {},
   "outputs": [
    {
     "data": {
      "text/plain": [
       "False"
      ]
     },
     "execution_count": 15,
     "metadata": {},
     "output_type": "execute_result"
    }
   ],
   "source": [
    "i_have_a_doubt = input(\"yes/no: \")\n",
    "bool(i_have_a_doubt)"
   ]
  },
  {
   "cell_type": "code",
   "execution_count": 14,
   "metadata": {},
   "outputs": [
    {
     "data": {
      "text/plain": [
       "False"
      ]
     },
     "execution_count": 14,
     "metadata": {},
     "output_type": "execute_result"
    }
   ],
   "source": [
    "i_have_a_doubt = input(\"yes? \")\n",
    "bool(i_have_a_doubt)"
   ]
  },
  {
   "cell_type": "code",
   "execution_count": 16,
   "metadata": {},
   "outputs": [
    {
     "data": {
      "text/plain": [
       "36.989999999999995"
      ]
     },
     "execution_count": 16,
     "metadata": {},
     "output_type": "execute_result"
    }
   ],
   "source": [
    "24.99 + 12\n"
   ]
  },
  {
   "cell_type": "code",
   "execution_count": 18,
   "metadata": {},
   "outputs": [
    {
     "data": {
      "text/plain": [
       "128"
      ]
     },
     "execution_count": 18,
     "metadata": {},
     "output_type": "execute_result"
    }
   ],
   "source": [
    "round(25.88 + 102)"
   ]
  },
  {
   "cell_type": "code",
   "execution_count": 19,
   "metadata": {},
   "outputs": [
    {
     "name": "stdout",
     "output_type": "stream",
     "text": [
      "300\n"
     ]
    }
   ],
   "source": [
    "def function(x, y):\n",
    "    print(x+y)\n",
    "    \n",
    "function(100, 200)"
   ]
  },
  {
   "cell_type": "code",
   "execution_count": 32,
   "metadata": {},
   "outputs": [
    {
     "name": "stdout",
     "output_type": "stream",
     "text": [
      "60\n"
     ]
    }
   ],
   "source": [
    "def sum_of_values(a,b,c):\n",
    "    print(a+b+c) \n",
    "    \n",
    "sum_of_values(10,20,30)"
   ]
  },
  {
   "cell_type": "code",
   "execution_count": 26,
   "metadata": {},
   "outputs": [
    {
     "name": "stdout",
     "output_type": "stream",
     "text": [
      "4100\n"
     ]
    }
   ],
   "source": [
    "def sum_of_values(x,y):\n",
    "    print(x+y)\n",
    "\n",
    "sum_of_values(100, 4000)"
   ]
  },
  {
   "cell_type": "code",
   "execution_count": 27,
   "metadata": {},
   "outputs": [
    {
     "name": "stdout",
     "output_type": "stream",
     "text": [
      "1700\n"
     ]
    }
   ],
   "source": [
    "def sub_of_values(x,y):\n",
    "    print(x-y)\n",
    "    \n",
    "sub_of_values(2000 , 300)"
   ]
  },
  {
   "cell_type": "code",
   "execution_count": 28,
   "metadata": {},
   "outputs": [
    {
     "name": "stdout",
     "output_type": "stream",
     "text": [
      "110\n"
     ]
    }
   ],
   "source": [
    "def multiple_of_values(x,y):\n",
    "    print(x*y)\n",
    "    \n",
    "multiple_of_values(11 , 10)"
   ]
  },
  {
   "cell_type": "code",
   "execution_count": 31,
   "metadata": {},
   "outputs": [
    {
     "name": "stdout",
     "output_type": "stream",
     "text": [
      "20.0\n"
     ]
    }
   ],
   "source": [
    "def divid_of_values(x,y):\n",
    "    print(x/y)\n",
    "    \n",
    "divid_of_values(100,5)\n"
   ]
  },
  {
   "cell_type": "code",
   "execution_count": 33,
   "metadata": {},
   "outputs": [
    {
     "name": "stdout",
     "output_type": "stream",
     "text": [
      "Type of a: <class 'str'>\n",
      "Value of a: 22.0\n",
      "\n",
      "Type of a: <class 'float'>\n",
      "Value of a: 22.0\n"
     ]
    }
   ],
   "source": [
    "a = \"22.0\"\n",
    "print(f\"Type of a: {type(a)}\\nValue of a: {a}\")\n",
    "a = float(a)\n",
    "print(f\"\\nType of a: {type(a)}\\nValue of a: {a}\")\n"
   ]
  },
  {
   "cell_type": "code",
   "execution_count": 38,
   "metadata": {},
   "outputs": [
    {
     "name": "stdout",
     "output_type": "stream",
     "text": [
      "\n",
      "Type of a: <class 'int'>\n",
      "Value of a: 22\n"
     ]
    }
   ],
   "source": [
    "a = int(a)\n",
    "print(f\"\\nType of a: {type(a)}\\nValue of a: {a}\")"
   ]
  },
  {
   "cell_type": "code",
   "execution_count": 39,
   "metadata": {},
   "outputs": [
    {
     "name": "stdout",
     "output_type": "stream",
     "text": [
      "\n",
      "Type of a: <class 'bool'>\n",
      "Value of a: True\n"
     ]
    }
   ],
   "source": [
    "a = bool(a)\n",
    "print(f\"\\nType of a: {type(a)}\\nValue of a: {a}\")"
   ]
  },
  {
   "cell_type": "code",
   "execution_count": 40,
   "metadata": {},
   "outputs": [
    {
     "name": "stdout",
     "output_type": "stream",
     "text": [
      "\n",
      "Type of a: <class 'complex'>\n",
      "Value of a: (1+0j)\n"
     ]
    }
   ],
   "source": [
    "a = complex(a)\n",
    "print(f\"\\nType of a: {type(a)}\\nValue of a: {a}\")"
   ]
  },
  {
   "cell_type": "code",
   "execution_count": 41,
   "metadata": {},
   "outputs": [
    {
     "data": {
      "text/plain": [
       "1.0"
      ]
     },
     "execution_count": 41,
     "metadata": {},
     "output_type": "execute_result"
    }
   ],
   "source": [
    "a.real"
   ]
  },
  {
   "cell_type": "code",
   "execution_count": 44,
   "metadata": {},
   "outputs": [
    {
     "data": {
      "text/plain": [
       "0.0"
      ]
     },
     "execution_count": 44,
     "metadata": {},
     "output_type": "execute_result"
    }
   ],
   "source": [
    "a.imag"
   ]
  },
  {
   "cell_type": "code",
   "execution_count": 46,
   "metadata": {},
   "outputs": [
    {
     "name": "stdout",
     "output_type": "stream",
     "text": [
      "You have entered: Malik \n"
     ]
    }
   ],
   "source": [
    "name = input(\"Enter your Name: \")\n",
    "print(f\"You have entered: {name}\")"
   ]
  },
  {
   "cell_type": "code",
   "execution_count": null,
   "metadata": {},
   "outputs": [],
   "source": []
  }
 ],
 "metadata": {
  "kernelspec": {
   "display_name": "Python 3",
   "language": "python",
   "name": "python3"
  },
  "language_info": {
   "codemirror_mode": {
    "name": "ipython",
    "version": 3
   },
   "file_extension": ".py",
   "mimetype": "text/x-python",
   "name": "python",
   "nbconvert_exporter": "python",
   "pygments_lexer": "ipython3",
   "version": "3.12.0"
  }
 },
 "nbformat": 4,
 "nbformat_minor": 2
}
