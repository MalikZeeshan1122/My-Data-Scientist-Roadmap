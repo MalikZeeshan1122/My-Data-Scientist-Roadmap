{
 "cells": [
  {
   "cell_type": "markdown",
   "metadata": {},
   "source": [
    "# AGENDA  Most Important\n",
    "1. Control flow statements\n",
    "2. Conditional statements\n",
    "3. Looping statements\n",
    "4. Jump statements\n",
    "5. Loop control statements\n",
    "6. Pass statement\n",
    "7. Break statement\n",
    "8. Continue statement\n",
    "9. Return statement\n",
    "10. Exception handling\n",
    "11. Try statement\n",
    "12. Except statement\n",
    "13. Finally statement\n"
   ]
  },
  {
   "cell_type": "markdown",
   "metadata": {},
   "source": [
    "```\n",
    "1. Control flow statements\n",
    "- Control flow statements are used to control the flow of execution in a program.\n",
    "- It is used to execute the code based on the condition.\n",
    "- The control flow statements are if, if-else, elif, nested if, and switch case.\n",
    "- The control flow statements are used to make decisions based on the conditions.\n",
    "\n",
    "2. Conditional statements\n",
    "- Conditional statements are used to execute the code based on the condition.\n",
    "- The conditional statements are if, if-else, elif, nested if, and switch case.\n",
    "- The conditional statements are used to make decisions based on the conditions.\n",
    "\n",
    "3. Looping statements\n",
    "- Looping statements are used to execute the code repeatedly based on the condition.\n",
    "- The looping statements are for loop, while loop, do-while loop, and nested loop.\n",
    "\n",
    "4. Jump statements\n",
    "- Jump statements are used to transfer the control from one part of the program to another part of the program.\n",
    "- The jump statements are break, continue, pass, and return.\n",
    "\n",
    "5. Loop control statements\n",
    "- Loop control statements are used to control the flow of the loop.\n",
    "- The loop control statements are break, continue, and pass.\n",
    "\n",
    "6. Pass statement\n",
    "- The pass statement is used to do nothing.\n",
    "- The pass statement is used when a statement is required syntactically but you do not want to execute any code.\n",
    "\n",
    "7. Break statement\n",
    "- The break statement is used to terminate the loop.\n",
    "- The break statement is used to exit the loop when the condition is met.\n",
    "\n",
    "8. Continue statement\n",
    "- The continue statement is used to skip the current iteration of the loop.\n",
    "- The continue statement is used to skip the current iteration of the loop and continue with the next iteration.\n",
    "\n",
    "9. Return statement\n",
    "- The return statement is used to return a value from a function.\n",
    "\n",
    "10. Exception handling\n",
    "- Exception handling is used to handle the exceptions that occur during the execution of the program.\n",
    "- The exception handling is used to handle the errors that occur during the execution of the program.\n",
    "\n",
    "11. Try statement\n",
    "- The try statement is used to handle the exceptions that occur during the execution of the program.\n",
    "- The try statement is used to handle the errors that occur during the execution of the program.\n",
    "\n",
    "12. Except statement\n",
    "- The except statement is used to handle the exceptions that occur during the execution of the program.\n",
    "- The except statement is used to handle the errors that occur during the execution of the program.\n",
    "\n",
    "13. Finally statement\n",
    "- The finally statement is used to execute the code whether the exception is raised or not.```\n",
    "\n"
   ]
  },
  {
   "cell_type": "markdown",
   "metadata": {},
   "source": [
    "# Single line if else \n",
    "```python\n",
    "a = 10\n",
    "b = 20\n",
    "\n",
    "print(\"a is greater than b\") if a > b else print(\"b is greater than a\")\n",
    "```\n",
    "\n",
    "# Nested if else\n",
    "```python\n",
    "a = 10\n",
    "b = 20\n",
    "\n",
    "if a > b:\n",
    "    print(\"a is greater than b\")\n",
    "elif a < b:\n",
    "    print(\"b is greater than a\")\n",
    "else:\n",
    "    print(\"a is equal to b\")\n",
    "```\n",
    "\n"
   ]
  },
  {
   "cell_type": "markdown",
   "metadata": {},
   "source": [
    "# if else\n",
    "\n",
    "```python\n",
    "a = 10\n",
    "b = 20\n",
    "\n",
    "if a > b:\n",
    "    print(\"a is greater than b\")\n",
    "else:\n",
    "    print(\"b is greater than a\")\n",
    "```"
   ]
  },
  {
   "cell_type": "markdown",
   "metadata": {},
   "source": [
    "# if elif"
   ]
  },
  {
   "cell_type": "code",
   "execution_count": 1,
   "metadata": {},
   "outputs": [],
   "source": [
    " # Online food orders - foodpanda app, swiggy, Uber Eats\n",
    " \n",
    " # if you order more than Rs. 500  \n",
    " # discount = 20% \n",
    " # if you order more than Rs. 1000\n",
    " # discount = 30%\n",
    " \n",
    " "
   ]
  },
  {
   "cell_type": "code",
   "execution_count": 1,
   "metadata": {},
   "outputs": [
    {
     "name": "stdout",
     "output_type": "stream",
     "text": [
      "You got 30% discount\n",
      "You have to pay:  840.0\n"
     ]
    }
   ],
   "source": [
    "# if elif programs example\n",
    "\n",
    "bill = 1200\n",
    "\n",
    "if bill > 1000:\n",
    "    discount = bill * 0.3\n",
    "    print(\"You got 30% discount\")\n",
    "    \n",
    "elif bill > 500:\n",
    "    discount = bill * 0.2\n",
    "    print(\"You got 20% discount\")\n",
    "    \n",
    "else:\n",
    "    discount = 0\n",
    "    print(\"You got no discount\")\n",
    "    \n",
    "print(\"You have to pay: \", bill - discount)"
   ]
  },
  {
   "cell_type": "code",
   "execution_count": null,
   "metadata": {},
   "outputs": [],
   "source": []
  },
  {
   "cell_type": "code",
   "execution_count": 141,
   "metadata": {},
   "outputs": [
    {
     "name": "stdout",
     "output_type": "stream",
     "text": [
      "the no is even\n"
     ]
    }
   ],
   "source": [
    "num = 100 \n",
    "\n",
    "if num%2 == 0:\n",
    "    print(\"the no is even\")\n",
    "else:\n",
    "    print(\"the no is odd\")"
   ]
  },
  {
   "cell_type": "code",
   "execution_count": 144,
   "metadata": {},
   "outputs": [
    {
     "name": "stdout",
     "output_type": "stream",
     "text": [
      "The no. is greater then 100\n"
     ]
    }
   ],
   "source": [
    "num = 101\n",
    "\n",
    "\n",
    "if num > 100:\n",
    "    print(\"The no. is greater then 100\")\n",
    "elif 80 < num <= 100:\n",
    "    print(\"the no. is in range 80 to 100\")\n",
    "elif 60 < num <= 100:\n",
    "    print(\"the no. is in range 80 to 100\")\n",
    "elif 40 < num <= 100:\n",
    "    print(\"the no. is in range 80 to 100\")\n",
    "else:\n",
    "    print(\"The no is less than 40\") "
   ]
  },
  {
   "cell_type": "code",
   "execution_count": 10,
   "metadata": {},
   "outputs": [
    {
     "name": "stdout",
     "output_type": "stream",
     "text": [
      "Cart total: 1290\n",
      "Pay amount: 903.0\n"
     ]
    }
   ],
   "source": [
    "Total_amount = 90 + 100 + 100 + 1000\n",
    "\n",
    "print(f\"Cart total: {Total_amount}\")\n",
    "\n",
    "if Total_amount > 999:\n",
    "    price_after_discount = Total_amount * 70/100\n",
    "    print(f\"Pay amount: {price_after_discount}\")\n",
    "elif Total_amount <= 999 and Total_amount > 499:  # 999 <= Price < 499\n",
    "    price_after_discount = Total_amount * 80/100\n",
    "    print(f\"Pay amount: {price_after_discount}\")\n",
    "else:\n",
    "    print(f\"Pay amount: {Total_amount}\")"
   ]
  },
  {
   "cell_type": "code",
   "execution_count": 11,
   "metadata": {},
   "outputs": [
    {
     "name": "stdout",
     "output_type": "stream",
     "text": [
      "cart total: 190\n",
      "Pay amount: 190\n"
     ]
    }
   ],
   "source": [
    "Total_amount = 90 + 100 # + 100 + 1000\n",
    "\n",
    "print(f\"cart total: {Total_amount}\")\n",
    "\n",
    "if Total_amount > 999:\n",
    "    price_after_discount = Total_amount * 70/100\n",
    "    print(f\"Pay amount: {price_after_discount}\")\n",
    "elif Total_amount <= 999 and Total_amount > 499: \n",
    "    price_after_discount = Total_amount * 80/100\n",
    "    print(f\"Pay amount: {price_after_discount}\")\n",
    "else:\n",
    "    print(f\"Pay amount: {Total_amount}\")"
   ]
  },
  {
   "cell_type": "code",
   "execution_count": 12,
   "metadata": {},
   "outputs": [
    {
     "name": "stdout",
     "output_type": "stream",
     "text": [
      "cart total: 690\n",
      "Pay amount: 552.0\n"
     ]
    }
   ],
   "source": [
    "Total_amount = 90 + 100 + 500 # + 100 + 1000\n",
    "\n",
    "print(f\"cart total: {Total_amount}\")\n",
    "\n",
    "if Total_amount > 999:\n",
    "    price_after_discount = Total_amount * 70/100\n",
    "    print(f\"Pay amount: {price_after_discount}\")\n",
    "elif Total_amount <= 999 and Total_amount > 499: \n",
    "    price_after_discount = Total_amount * 80/100\n",
    "    print(f\"Pay amount: {price_after_discount}\")\n",
    "else:\n",
    "    print(f\"Pay amount: {Total_amount}\")"
   ]
  },
  {
   "cell_type": "markdown",
   "metadata": {},
   "source": [
    "# Nested if else"
   ]
  },
  {
   "cell_type": "code",
   "execution_count": 2,
   "metadata": {},
   "outputs": [
    {
     "name": "stdout",
     "output_type": "stream",
     "text": [
      "The no. is greater than 75\n"
     ]
    }
   ],
   "source": [
    "# Nested if else\n",
    "\n",
    "num = 100\n",
    "\n",
    "if num > 50:\n",
    "    if num > 75:\n",
    "        print(\"The no. is greater than 75\")\n",
    "    else:\n",
    "        print(\"The no. is greater than 50 but less than 75\")\n",
    "        \n",
    "else:\n",
    "    print(\"The no. is less than 50\")"
   ]
  },
  {
   "cell_type": "code",
   "execution_count": 19,
   "metadata": {},
   "outputs": [
    {
     "name": "stdout",
     "output_type": "stream",
     "text": [
      "Enter a Number: 23434.0\n",
      "Its a positive number\n"
     ]
    }
   ],
   "source": [
    "# print if the number is negative or positive\n",
    "\n",
    "val = float(input(\"Enter a number: \"))\n",
    "print(f\"Enter a Number: {val}\")\n",
    "\n",
    "if val >=0:\n",
    "    if val == 0:\n",
    "        print(\"Its is Zero\")\n",
    "    else:\n",
    "        print(\"Its a positive number\")\n",
    "else:\n",
    "    print(\"Negative number\")\n",
    "    \n",
    "    \n",
    "    "
   ]
  },
  {
   "cell_type": "markdown",
   "metadata": {},
   "source": [
    "# Single line if else"
   ]
  },
  {
   "cell_type": "code",
   "execution_count": 3,
   "metadata": {},
   "outputs": [
    {
     "name": "stdout",
     "output_type": "stream",
     "text": [
      "b is greater than a\n"
     ]
    }
   ],
   "source": [
    "# Single line if else code\n",
    "\n",
    "a = 10\n",
    "b = 20\n",
    "\n",
    "print(\"a is greater than b\") if a > b else print(\"b is greater than a\")\n"
   ]
  },
  {
   "cell_type": "code",
   "execution_count": 28,
   "metadata": {},
   "outputs": [
    {
     "name": "stdout",
     "output_type": "stream",
     "text": [
      "NO\n"
     ]
    }
   ],
   "source": [
    "#print yes of the no is greater than 99\n",
    "val = float(input(\"Enter a number: \"))\n",
    "\n",
    "print(\"Yes\") if val > 1000 else print(\"NO\")"
   ]
  },
  {
   "cell_type": "code",
   "execution_count": 30,
   "metadata": {},
   "outputs": [
    {
     "name": "stdout",
     "output_type": "stream",
     "text": [
      "Greater than\n"
     ]
    }
   ],
   "source": [
    "number = float(input(\"Enter a number\"))\n",
    "\n",
    "if number > 100: print(\"Greater than\")\n",
    "else: print(\"Less than\")"
   ]
  },
  {
   "cell_type": "code",
   "execution_count": 31,
   "metadata": {},
   "outputs": [
    {
     "name": "stdout",
     "output_type": "stream",
     "text": [
      "NO\n"
     ]
    }
   ],
   "source": [
    "val = float(input(\"Enter a number: \"))\n",
    "\n",
    "print(\"YES\" if val > 99 else \"NO\")"
   ]
  },
  {
   "cell_type": "code",
   "execution_count": null,
   "metadata": {},
   "outputs": [],
   "source": []
  },
  {
   "cell_type": "markdown",
   "metadata": {},
   "source": [
    "# Loops \n",
    "1.  for loop\n",
    "2.  while loop\n",
    "3.  loop control  \n",
    "    - break\n",
    "    - continue\n",
    "    - pass\n",
    "4. Nested loop  \n",
    "\n",
    "# for loop\n",
    "```python\n",
    "for i in range(5):\n",
    "    print(i)\n",
    "```\n",
    "\n",
    "# while loop\n",
    "```python\n",
    "i = 0\n",
    "while i < 5:\n",
    "    print(i)\n",
    "    i += 1\n",
    "```\n",
    "\n",
    "# loop control\n",
    "```python\n",
    "for i in range(5):\n",
    "    if i == 3:\n",
    "        break\n",
    "    print(i)\n",
    "```\n",
    "\n",
    "# continue\n",
    "```python\n",
    "for i in range(5):\n",
    "    if i == 3:\n",
    "        continue\n",
    "    print(i)\n",
    "```\n",
    "\n",
    "# pass\n",
    "```python\n",
    "for i in range(5):\n",
    "    if i == 3:\n",
    "        pass\n",
    "    print(i)\n",
    "```\n",
    "\n",
    "# Nested loop\n",
    "```python\n",
    "for i in range(5):\n",
    "    for j in range(5):\n",
    "        print(i, j)\n",
    "```\n",
    "\n",
    "# Jump statements\n",
    "1. break\n",
    "2. continue\n",
    "3. pass\n",
    "4. return\n"
   ]
  },
  {
   "cell_type": "markdown",
   "metadata": {},
   "source": [
    "# while \n",
    "- while loop is used to execute a block of code repeatedly as long as the condition is true.\n",
    "- The while loop is used to execute the code repeatedly based on the condition.\n",
    "- The while loop is used to execute the code repeatedly until the condition is true.\n",
    "\n",
    "```python\n",
    "i = 1\n",
    "while i <= 5:\n",
    "    print(i)\n",
    "    i += 1\n",
    "```\n"
   ]
  },
  {
   "cell_type": "code",
   "execution_count": 35,
   "metadata": {},
   "outputs": [
    {
     "name": "stdout",
     "output_type": "stream",
     "text": [
      "Your score is: 100\n",
      "I will attempt next year\n",
      "Your score is: 200\n",
      "I will attempt next year\n",
      "Your score is: 300\n",
      "I will attempt next year\n",
      "Your score is: 399\n",
      "I will attempt next year\n"
     ]
    }
   ],
   "source": [
    "total_marks = 1000\n",
    "cutoff   = 400\n",
    "scores = [100, 200, 300,399,500]\n",
    "\n",
    "# I Will keep on attempting until I succeed \n",
    "year  =  0\n",
    "\n",
    "while scores[year] <= cutoff:\n",
    "    print(f\"Your score is: {scores[year]}\")\n",
    "    print(\"I will attempt next year\")\n",
    "    year = year + 1 # I am adding 1 to current year \n",
    "    \n"
   ]
  },
  {
   "cell_type": "code",
   "execution_count": null,
   "metadata": {},
   "outputs": [],
   "source": [
    "\n"
   ]
  },
  {
   "cell_type": "code",
   "execution_count": 36,
   "metadata": {},
   "outputs": [
    {
     "name": "stdout",
     "output_type": "stream",
     "text": [
      "Your score is: 100, cutoff: 400\n",
      "I will attempt next year\n",
      "Your score is: 200, cutoff: 400\n",
      "I will attempt next year\n",
      "Your score is: 300, cutoff: 400\n",
      "I will attempt next year\n",
      "Your score is: 399, cutoff: 400\n",
      "I will attempt next year\n"
     ]
    }
   ],
   "source": [
    "total_marks = 1000\n",
    "cutoff   = 400\n",
    "scores = [100, 200, 300,399,500]\n",
    "\n",
    "# I Will keep on attempting until I succeed \n",
    "year  =  0\n",
    "\n",
    "while scores[year] <= cutoff:\n",
    "    print(f\"Your score is: {scores[year]}, cutoff: {cutoff}\")\n",
    "    print(\"I will attempt next year\")\n",
    "    year = year + 1 # I am adding 1 to current year \n",
    "    \n"
   ]
  },
  {
   "cell_type": "markdown",
   "metadata": {},
   "source": [
    "# Infinite loop \n",
    "`if the condition is always True then you loop will keep on running`"
   ]
  },
  {
   "cell_type": "code",
   "execution_count": null,
   "metadata": {},
   "outputs": [],
   "source": [
    "# while True:\n",
    "#     print(\"YES\")"
   ]
  },
  {
   "cell_type": "code",
   "execution_count": 38,
   "metadata": {},
   "outputs": [
    {
     "data": {
      "text/plain": [
       "500"
      ]
     },
     "execution_count": 38,
     "metadata": {},
     "output_type": "execute_result"
    }
   ],
   "source": [
    "year =4 \n",
    "scores[year]"
   ]
  },
  {
   "cell_type": "code",
   "execution_count": 43,
   "metadata": {},
   "outputs": [
    {
     "name": "stdout",
     "output_type": "stream",
     "text": [
      "current sum: 10\n",
      "current sum: 20\n",
      "current sum: 30\n",
      "current sum: 40\n",
      "current sum: 50\n",
      "current sum: 60\n",
      "current sum: 70\n",
      "current sum: 80\n",
      "current sum: 90\n",
      "current sum: 100\n"
     ]
    }
   ],
   "source": [
    "\"\"\"  \n",
    "Child is learning to counting 10 rupees of note\n",
    "\"\"\"\n",
    "\n",
    "notes = 10\n",
    "i = 1 # 1st note\n",
    "\n",
    "while i <= notes:\n",
    "    print(f\"current sum: {i*10}\")\n",
    "    i = i + 1\n"
   ]
  },
  {
   "cell_type": "code",
   "execution_count": 51,
   "metadata": {},
   "outputs": [
    {
     "name": "stdout",
     "output_type": "stream",
     "text": [
      "current sum: 10\n",
      "current sum: 20\n",
      "current sum: 30\n",
      "current sum: 40\n",
      "current sum: 50\n",
      "No more 10 rupees notes left\n"
     ]
    }
   ],
   "source": [
    "\"\"\"  \n",
    "Child is learning to counting 10 rupees of note\n",
    "\"\"\"\n",
    "\n",
    "notes = 5\n",
    "\n",
    "i = 1 # 1st note start \n",
    "\n",
    "while i <= notes:\n",
    "    print(f\"current sum: {i*10}\")\n",
    "    i = i + 1\n",
    "else:\n",
    "    print(\"No more 10 rupees notes left\")\n"
   ]
  },
  {
   "cell_type": "code",
   "execution_count": 46,
   "metadata": {},
   "outputs": [
    {
     "name": "stdout",
     "output_type": "stream",
     "text": [
      "current station is: Station 01\n",
      "my destination is: Station 03\n",
      "Continue the journey I have not reached the destinaton\n",
      "current station is: Station 02\n",
      "my destination is: Station 03\n",
      "Continue the journey I have not reached the destinaton\n"
     ]
    }
   ],
   "source": [
    "# train journey \n",
    "stations = [\"Station 01\", \"Station 02\", \"Station 03\", \"Station 04\"]\n",
    "\n",
    "current_station = 0\n",
    "destination_station = \"Station 03\"\n",
    "\n",
    "while stations[current_station] != destination_station:\n",
    "    print(f\"current station is: {stations[current_station]}\")\n",
    "    print(f\"my destination is: {destination_station}\")\n",
    "    print(\"Continue the journey I have not reached the destinaton\")\n",
    "    current_station = current_station + 1"
   ]
  },
  {
   "cell_type": "code",
   "execution_count": 49,
   "metadata": {},
   "outputs": [
    {
     "name": "stdout",
     "output_type": "stream",
     "text": [
      "current station is: Station 01\n",
      "my destination is: Station 03\n",
      "Continue the journey I have not reached the destinaton\n",
      "Next station is : Station 02\n",
      "current station is: Station 02\n",
      "my destination is: Station 03\n",
      "Continue the journey I have not reached the destinaton\n",
      "Next station is : Station 03\n",
      "I have arrived at: Station 03\n"
     ]
    }
   ],
   "source": [
    "# train journey \n",
    "stations = [\"Station 01\", \"Station 02\", \"Station 03\", \"Station 04\"]\n",
    "\n",
    "current_station = 0\n",
    "destination_station = \"Station 03\"\n",
    "\n",
    "while stations[current_station] != destination_station:\n",
    "    print(f\"current station is: {stations[current_station]}\")\n",
    "    print(f\"my destination is: {destination_station}\")\n",
    "    print(\"Continue the journey I have not reached the destinaton\")\n",
    "    current_station = current_station + 1\n",
    "    print(f\"Next station is : {stations[current_station]}\")\n",
    "else:\n",
    "    print(f\"I have arrived at: {stations[current_station]}\")"
   ]
  },
  {
   "cell_type": "markdown",
   "metadata": {},
   "source": [
    "while condition is True:\n",
    "  statement\n",
    "else:\n",
    "    statement\n",
    "     "
   ]
  },
  {
   "cell_type": "code",
   "execution_count": 55,
   "metadata": {},
   "outputs": [
    {
     "name": "stdout",
     "output_type": "stream",
     "text": [
      "CONDITION: True\n",
      "current sum: 10\n",
      "CONDITION: True\n",
      "current sum: 20\n",
      "CONDITION: True\n",
      "current sum: 30\n",
      "CONDITION: True\n",
      "current sum: 40\n",
      "CONDITION: True\n",
      "current sum: 50\n",
      "CONDITION: False\n",
      "No more 10 rupees notes left\n"
     ]
    }
   ],
   "source": [
    "\"\"\"  \n",
    "Child is learning to counting 10 rupees of note\n",
    "\"\"\"\n",
    "\n",
    "notes = 5\n",
    "\n",
    "i = 1 # 1st note start \n",
    "\n",
    "while i <= notes:\n",
    "    print(f\"CONDITION: {i <= notes}\")\n",
    "    print(f\"current sum: {i*10}\")\n",
    "    i = i + 1\n",
    "else:\n",
    "    print(f\"CONDITION: {i <= notes}\")\n",
    "    print(\"No more 10 rupees notes left\")\n"
   ]
  },
  {
   "cell_type": "markdown",
   "metadata": {},
   "source": [
    "# for loop \n"
   ]
  },
  {
   "cell_type": "code",
   "execution_count": 56,
   "metadata": {},
   "outputs": [
    {
     "name": "stdout",
     "output_type": "stream",
     "text": [
      "0\n",
      "1\n",
      "2\n",
      "3\n",
      "4\n",
      "5\n",
      "6\n",
      "7\n",
      "8\n",
      "9\n"
     ]
    }
   ],
   "source": [
    "for i in range(0,10):\n",
    "    print(i)"
   ]
  },
  {
   "cell_type": "code",
   "execution_count": 57,
   "metadata": {},
   "outputs": [
    {
     "name": "stdout",
     "output_type": "stream",
     "text": [
      "10 X 0 = 0\n",
      "10 X 1 = 10\n",
      "10 X 2 = 20\n",
      "10 X 3 = 30\n",
      "10 X 4 = 40\n",
      "10 X 5 = 50\n",
      "10 X 6 = 60\n",
      "10 X 7 = 70\n",
      "10 X 8 = 80\n",
      "10 X 9 = 90\n"
     ]
    }
   ],
   "source": [
    "for i in range(0, 10):\n",
    "    print(f\"10 X {i} = {10*i}\") "
   ]
  },
  {
   "cell_type": "code",
   "execution_count": 59,
   "metadata": {},
   "outputs": [
    {
     "name": "stdout",
     "output_type": "stream",
     "text": [
      "10 X 0 = 0\n",
      "10 X 1 = 18\n",
      "10 X 2 = 36\n",
      "10 X 3 = 54\n",
      "10 X 4 = 72\n",
      "10 X 5 = 90\n",
      "10 X 6 = 108\n",
      "10 X 7 = 126\n",
      "10 X 8 = 144\n",
      "10 X 9 = 162\n"
     ]
    }
   ],
   "source": [
    "for j in range(0,10): # (10 here is out of bound)\n",
    "    print(f\"10 X {j} = {18*j}\")"
   ]
  },
  {
   "cell_type": "code",
   "execution_count": 60,
   "metadata": {},
   "outputs": [
    {
     "name": "stdout",
     "output_type": "stream",
     "text": [
      "10 X 1 = 10\n",
      "10 X 2 = 20\n",
      "10 X 3 = 30\n",
      "10 X 4 = 40\n",
      "10 X 5 = 50\n",
      "10 X 6 = 60\n",
      "10 X 7 = 70\n",
      "10 X 8 = 80\n",
      "10 X 9 = 90\n",
      "10 X 10 = 100\n"
     ]
    }
   ],
   "source": [
    "for i in range(0,10):\n",
    "    print(f\"10 X {i + 1} = {10*(i+1)}\")"
   ]
  },
  {
   "cell_type": "code",
   "execution_count": 61,
   "metadata": {},
   "outputs": [
    {
     "name": "stdout",
     "output_type": "stream",
     "text": [
      "*\n",
      "**\n",
      "***\n",
      "****\n",
      "*****\n",
      "******\n",
      "*******\n",
      "********\n",
      "*********\n",
      "**********\n"
     ]
    }
   ],
   "source": [
    "for i in range(1, 11):\n",
    "    print(\"*\"*i)"
   ]
  },
  {
   "cell_type": "code",
   "execution_count": 66,
   "metadata": {},
   "outputs": [
    {
     "name": "stdout",
     "output_type": "stream",
     "text": [
      "\n",
      "\n",
      "*\n",
      "**\n",
      "***\n",
      "****\n",
      "*****\n",
      "******\n",
      "*******\n",
      "********\n",
      "*********\n",
      "**********\n"
     ]
    }
   ],
   "source": [
    "for i in range(-1,11):\n",
    "    print(\"*\"*i)"
   ]
  },
  {
   "cell_type": "code",
   "execution_count": 68,
   "metadata": {},
   "outputs": [
    {
     "data": {
      "text/plain": [
       "'Malik Malik Malik Malik Malik Malik Malik Malik Malik Malik '"
      ]
     },
     "execution_count": 68,
     "metadata": {},
     "output_type": "execute_result"
    }
   ],
   "source": [
    "\"Malik \"*10"
   ]
  },
  {
   "cell_type": "code",
   "execution_count": 70,
   "metadata": {},
   "outputs": [
    {
     "data": {
      "text/plain": [
       "'i i i i i i i i i i '"
      ]
     },
     "execution_count": 70,
     "metadata": {},
     "output_type": "execute_result"
    }
   ],
   "source": [
    "\"i \"*10"
   ]
  },
  {
   "cell_type": "code",
   "execution_count": 73,
   "metadata": {},
   "outputs": [
    {
     "name": "stdout",
     "output_type": "stream",
     "text": [
      "*\n",
      "**\n",
      "***\n",
      "****\n",
      "*****\n",
      "******\n",
      "*******\n",
      "********\n",
      "*********\n",
      "**********\n"
     ]
    }
   ],
   "source": [
    "# i is not neccessary to use\n",
    "\n",
    "for malik in range(1,11):  # for has no condition and while has also condition\n",
    "    print(\"*\"*malik)"
   ]
  },
  {
   "cell_type": "code",
   "execution_count": 78,
   "metadata": {},
   "outputs": [
    {
     "name": "stdout",
     "output_type": "stream",
     "text": [
      "0 = 0 + 100\n",
      "after adding total_sum=100\n",
      "-------\n",
      "100 = 100 + 200\n",
      "after adding total_sum=300\n",
      "-------\n",
      "300 = 300 + 123\n",
      "after adding total_sum=423\n",
      "-------\n",
      "423 = 423 + 334\n",
      "after adding total_sum=757\n",
      "-------\n",
      "Total amount to be paid: 757\n"
     ]
    }
   ],
   "source": [
    "Cost_of_items = [100,200,123,334]\n",
    "# index            0  1   2   3\n",
    "total_sum = 0\n",
    "\n",
    "for i in range(0, 4): # 0,1,2,3,4\n",
    "    print(f\"{total_sum} = {total_sum} + {Cost_of_items[i]}\")\n",
    "    total_sum = total_sum + Cost_of_items[i]\n",
    "    print(f\"after adding total_sum={total_sum}\")\n",
    "    print(\"-------\")\n",
    "    \n",
    "    \n",
    "print(f\"Total amount to be paid: {total_sum }\")"
   ]
  },
  {
   "cell_type": "code",
   "execution_count": 86,
   "metadata": {},
   "outputs": [
    {
     "name": "stdout",
     "output_type": "stream",
     "text": [
      "0 = 0 + 100\n",
      "after adding total_sum=100\n",
      "-------\n",
      "100 = 100 + 200\n",
      "after adding total_sum=300\n",
      "-------\n",
      "300 = 300 + 123\n",
      "after adding total_sum=423\n",
      "-------\n",
      "Total amount to be paid: 423\n"
     ]
    }
   ],
   "source": [
    "Cost_of_items = [100,200,123,334]\n",
    "# index            0  1   2   3\n",
    "total_sum = 0\n",
    "\n",
    "\n",
    "for i in range(0, 3): # 0,1,2,3,4\n",
    "    print(f\"{total_sum} = {total_sum} + {Cost_of_items[i]}\")\n",
    "    total_sum = total_sum + Cost_of_items[i]\n",
    "    print(f\"after adding total_sum={total_sum}\")\n",
    "    print(\"-------\")\n",
    "    \n",
    "    \n",
    "print(f\"Total amount to be paid: {total_sum }\")"
   ]
  },
  {
   "cell_type": "code",
   "execution_count": 87,
   "metadata": {},
   "outputs": [
    {
     "name": "stdout",
     "output_type": "stream",
     "text": [
      "0 = 0 + 100\n",
      "after adding total_sum=100\n",
      "-------\n",
      "100 = 100 + 200\n",
      "after adding total_sum=300\n",
      "-------\n",
      "300 = 300 + 123\n",
      "after adding total_sum=423\n",
      "-------\n",
      "423 = 423 + 334\n",
      "after adding total_sum=757\n",
      "-------\n",
      "Total amount to be paid: 757\n"
     ]
    }
   ],
   "source": [
    "Cost_of_items = [100,200,123,334]\n",
    "# index            0  1   2   3\n",
    "total_sum = 0\n",
    "\n",
    "N = len(Cost_of_items) \n",
    "\n",
    "for i in range(0, N): # 0,1,2,3,4\n",
    "    print(f\"{total_sum} = {total_sum} + {Cost_of_items[i]}\")\n",
    "    total_sum = total_sum + Cost_of_items[i]\n",
    "    print(f\"after adding total_sum={total_sum}\")\n",
    "    print(\"-------\")\n",
    "    \n",
    "    \n",
    "print(f\"Total amount to be paid: {total_sum }\")"
   ]
  },
  {
   "cell_type": "code",
   "execution_count": 90,
   "metadata": {},
   "outputs": [
    {
     "name": "stdout",
     "output_type": "stream",
     "text": [
      "0 = 0 + 100\n",
      "after adding total_sum=100\n",
      "-------\n",
      "100 = 100 + 200\n",
      "after adding total_sum=300\n",
      "-------\n",
      "300 = 300 + 123\n",
      "after adding total_sum=423\n",
      "-------\n",
      "423 = 423 + 334\n",
      "after adding total_sum=757\n",
      "-------\n",
      "Total amount to be paid: 757\n"
     ]
    }
   ],
   "source": [
    "Cost_of_items = [100,200,123,334]\n",
    "# index            0  1   2   3\n",
    "total_sum = 0\n",
    "\n",
    "\n",
    "for cost in Cost_of_items:   \n",
    "    print(f\"{total_sum} = {total_sum} + {cost}\")\n",
    "    total_sum = total_sum + cost\n",
    "    print(f\"after adding total_sum={total_sum}\")\n",
    "    print(\"-------\")\n",
    "    \n",
    "    \n",
    "print(f\"Total amount to be paid: {total_sum }\")"
   ]
  },
  {
   "cell_type": "code",
   "execution_count": 91,
   "metadata": {},
   "outputs": [
    {
     "data": {
      "text/plain": [
       "4"
      ]
     },
     "execution_count": 91,
     "metadata": {},
     "output_type": "execute_result"
    }
   ],
   "source": [
    "len(Cost_of_items)"
   ]
  },
  {
   "cell_type": "code",
   "execution_count": 95,
   "metadata": {},
   "outputs": [
    {
     "name": "stdout",
     "output_type": "stream",
     "text": [
      "100\n",
      "200\n",
      "123\n",
      "334\n",
      "100\n"
     ]
    }
   ],
   "source": [
    "Cost_of_items = [100,200,123,334,100]\n",
    "# index            0  1   2   3\n",
    "total_sum = 0\n",
    "\n",
    "\n",
    "for cost in Cost_of_items:\n",
    "    print(cost)"
   ]
  },
  {
   "cell_type": "code",
   "execution_count": 94,
   "metadata": {},
   "outputs": [
    {
     "name": "stdout",
     "output_type": "stream",
     "text": [
      "100\n",
      "200\n",
      "123\n",
      "334\n",
      "100\n"
     ]
    }
   ],
   "source": [
    "Cost_of_items = [100,200,123,334,100]\n",
    "# index            0  1   2   3\n",
    "total_sum = 0\n",
    "\n",
    "N = len(Cost_of_items)\n",
    "\n",
    "for i in range(0, N):\n",
    "    print(Cost_of_items[i])"
   ]
  },
  {
   "cell_type": "code",
   "execution_count": 96,
   "metadata": {},
   "outputs": [
    {
     "name": "stdout",
     "output_type": "stream",
     "text": [
      "Current station is : Station 01\n",
      "Current station is : Station 02\n",
      "Current station is : Station 03\n",
      "Current station is : Station 04\n"
     ]
    }
   ],
   "source": [
    "# Train journey \n",
    "stations = [\"Station 01\", \"Station 02\", \"Station 03\", \"Station 04\"]\n",
    "\n",
    "for current_station in stations:\n",
    "    print(f\"Current station is : {current_station}\") "
   ]
  },
  {
   "cell_type": "code",
   "execution_count": 99,
   "metadata": {},
   "outputs": [
    {
     "name": "stdout",
     "output_type": "stream",
     "text": [
      "Current station is : Station 01\n",
      "Current station is : Station 02\n",
      "Current station is : Station 03\n",
      "Current station is : Station 04\n"
     ]
    }
   ],
   "source": [
    "# Train journey \n",
    "stations = [\"Station 01\", \"Station 02\", \"Station 03\", \"Station 04\"]\n",
    "\n",
    "for Malik in stations:\n",
    "    print(f\"Current station is : {Malik}\") "
   ]
  },
  {
   "cell_type": "markdown",
   "metadata": {},
   "source": [
    "# break and continue"
   ]
  },
  {
   "cell_type": "code",
   "execution_count": 106,
   "metadata": {},
   "outputs": [
    {
     "name": "stdout",
     "output_type": "stream",
     "text": [
      "current total: 100\n",
      "current total: 300\n",
      "current total: 600\n",
      "current total: 1000\n",
      "current total: 1500\n",
      "current total: 2100\n",
      "since current total is more than my budget: 2000\n",
      "please remove the last item\n",
      "total amount to be paid: 1500\n"
     ]
    }
   ],
   "source": [
    "Cost_of_items = [100,200,300,400,500,600,700,1000]\n",
    "# index            0  1   2   3\n",
    "total_sum = 0\n",
    "budget = 2000\n",
    "\n",
    "\n",
    "for cost in Cost_of_items:\n",
    "    total_sum = total_sum + cost\n",
    "    print(f\"current total: {total_sum}\")\n",
    "    if total_sum > budget:\n",
    "        print(f\"since current total is more than my budget: {budget}\")\n",
    "        print(\"please remove the last item\")\n",
    "        total_sum = total_sum - cost\n",
    "        break\n",
    "        \n",
    "print(f\"total amount to be paid: {total_sum}\") \n"
   ]
  },
  {
   "cell_type": "code",
   "execution_count": 110,
   "metadata": {},
   "outputs": [
    {
     "name": "stdout",
     "output_type": "stream",
     "text": [
      "1\n",
      "2\n",
      "3\n",
      "4\n",
      "5\n",
      "6\n",
      "7\n",
      "8\n",
      "9\n",
      "10\n",
      "11\n"
     ]
    }
   ],
   "source": [
    "for i in range(1,200):\n",
    "    print(i)\n",
    "    if i > 10:\n",
    "        break  # Stop "
   ]
  },
  {
   "cell_type": "code",
   "execution_count": 111,
   "metadata": {},
   "outputs": [
    {
     "name": "stdout",
     "output_type": "stream",
     "text": [
      "1\n",
      "2\n",
      "3\n",
      "4\n",
      "5\n",
      "6\n",
      "7\n",
      "8\n",
      "9\n",
      "10\n",
      "11\n",
      "12\n",
      "13\n",
      "14\n",
      "15\n",
      "16\n",
      "17\n",
      "18\n",
      "19\n",
      "20\n",
      "21\n",
      "22\n",
      "23\n",
      "24\n",
      "25\n",
      "26\n",
      "27\n",
      "28\n",
      "29\n",
      "30\n",
      "31\n",
      "32\n",
      "33\n",
      "34\n",
      "35\n",
      "36\n",
      "37\n",
      "38\n",
      "39\n",
      "40\n",
      "41\n",
      "42\n",
      "43\n",
      "44\n",
      "45\n",
      "46\n",
      "47\n",
      "48\n",
      "49\n",
      "50\n"
     ]
    }
   ],
   "source": [
    "for i in range(1,100):\n",
    "     if i > 50:\n",
    "         break\n",
    "     print(i)"
   ]
  },
  {
   "cell_type": "code",
   "execution_count": 116,
   "metadata": {},
   "outputs": [
    {
     "name": "stdout",
     "output_type": "stream",
     "text": [
      "2\n",
      "4\n",
      "6\n",
      "8\n",
      "10\n",
      "12\n",
      "14\n",
      "16\n",
      "18\n"
     ]
    }
   ],
   "source": [
    "for i in range(1,20):\n",
    "    if i%2 == 1:  # if no is odd then start the loop again \n",
    "        continue\n",
    "    print(i)"
   ]
  },
  {
   "cell_type": "code",
   "execution_count": 115,
   "metadata": {},
   "outputs": [
    {
     "name": "stdout",
     "output_type": "stream",
     "text": [
      "1\n",
      "3\n",
      "5\n",
      "7\n",
      "9\n",
      "11\n",
      "13\n",
      "15\n",
      "17\n",
      "19\n"
     ]
    }
   ],
   "source": [
    "for i in range(1,20):\n",
    "    if i%2 == 0: # if no is even start the loop again \n",
    "        continue\n",
    "    print(i)"
   ]
  },
  {
   "cell_type": "code",
   "execution_count": 118,
   "metadata": {},
   "outputs": [
    {
     "name": "stdout",
     "output_type": "stream",
     "text": [
      "2\n",
      "4\n",
      "6\n",
      "8\n",
      "10\n",
      "12\n",
      "14\n",
      "16\n",
      "18\n"
     ]
    }
   ],
   "source": [
    "for i in range(1,20):\n",
    "    if i%2 != 0: # if no is odd start the loop again \n",
    "        continue  # Start the loop again  \n",
    "    print(i)"
   ]
  },
  {
   "cell_type": "code",
   "execution_count": 140,
   "metadata": {},
   "outputs": [
    {
     "name": "stdout",
     "output_type": "stream",
     "text": [
      "1\n"
     ]
    }
   ],
   "source": [
    "for i in range(1,20):\n",
    "     if i%2 == 0: # if no is even start the loop again \n",
    "        break # STOP THE LOOP DON't proceed at all  \n",
    "     print(i)"
   ]
  },
  {
   "cell_type": "code",
   "execution_count": 121,
   "metadata": {},
   "outputs": [
    {
     "name": "stdout",
     "output_type": "stream",
     "text": [
      "Current station is: Station 01\n",
      "Current station is: Station 02\n",
      "Current station is: Station 03\n"
     ]
    }
   ],
   "source": [
    "stations = [\"Station 01\", \"Station 02\", \"Station 03\", \"Station 04\"]  \n",
    "\n",
    "for current_station in stations:\n",
    "    print(f\"Current station is: {current_station}\")\n",
    "    if current_station == \"Station 03\":\n",
    "        break"
   ]
  },
  {
   "cell_type": "code",
   "execution_count": 136,
   "metadata": {},
   "outputs": [
    {
     "name": "stdout",
     "output_type": "stream",
     "text": [
      "Current station is: Station 01\n",
      "Current station is: Station 02\n"
     ]
    }
   ],
   "source": [
    "stations = [\"Station 01\", \"Station 02\", \"Station 03\", \"Station 04\"]  \n",
    "\n",
    "for current_station in stations:\n",
    "    print(f\"Current station is: {current_station}\")\n",
    "    if current_station == \"Station 02\":\n",
    "        break"
   ]
  },
  {
   "cell_type": "code",
   "execution_count": 137,
   "metadata": {},
   "outputs": [
    {
     "name": "stdout",
     "output_type": "stream",
     "text": [
      "Current station is: Station 01\n",
      "Current station is: Station 02\n",
      "Current station is: Station 03\n",
      "Current station is: Station 04\n"
     ]
    }
   ],
   "source": [
    "stations = [\"Station 01\", \"Station 02\", \"Station 03\", \"Station 04\"]  \n",
    "\n",
    "for current_station in stations:\n",
    "    if current_station == \"Station 02 \":\n",
    "       continue \n",
    "    print(f\"Current station is: {current_station}\")"
   ]
  },
  {
   "cell_type": "markdown",
   "metadata": {},
   "source": [
    "```\n",
    "break it completely stops the loops \n",
    "continue it skips the current loop it skips the\n",
    "statements after `continue` keyword ```"
   ]
  },
  {
   "cell_type": "markdown",
   "metadata": {},
   "source": [
    "# Pass"
   ]
  },
  {
   "cell_type": "code",
   "execution_count": 138,
   "metadata": {},
   "outputs": [
    {
     "name": "stdout",
     "output_type": "stream",
     "text": [
      "1\n",
      "2\n",
      "3\n",
      "4\n",
      "5\n",
      "6\n",
      "7\n",
      "8\n",
      "9\n"
     ]
    }
   ],
   "source": [
    "for i in range(1,10):\n",
    "    pass # I want to right code later  \n",
    "    print(i)"
   ]
  },
  {
   "cell_type": "code",
   "execution_count": 139,
   "metadata": {},
   "outputs": [
    {
     "name": "stdout",
     "output_type": "stream",
     "text": [
      "Current station is: Station 01\n",
      "Current station is: Station 02\n",
      "Current station is: Station 03\n",
      "Current station is: Station 04\n"
     ]
    }
   ],
   "source": [
    "stations = [\"Station 01\", \"Station 02\", \"Station 03\", \"Station 04\"]  \n",
    "\n",
    "for current_station in stations:\n",
    "    if current_station == \"Station 02 \":\n",
    "       pass\n",
    "    print(f\"Current station is: {current_station}\")"
   ]
  },
  {
   "cell_type": "code",
   "execution_count": 5,
   "metadata": {},
   "outputs": [
    {
     "name": "stdout",
     "output_type": "stream",
     "text": [
      "i: 1, j: 1\n",
      "i: 1, j: 2\n",
      "i: 1, j: 3\n",
      "i: 1, j: 4\n",
      "i: 2, j: 1\n",
      "i: 2, j: 2\n",
      "i: 2, j: 3\n",
      "i: 2, j: 4\n",
      "i: 3, j: 1\n",
      "i: 3, j: 2\n",
      "i: 3, j: 3\n",
      "i: 3, j: 4\n",
      "i: 4, j: 1\n",
      "i: 4, j: 2\n",
      "i: 4, j: 3\n",
      "i: 4, j: 4\n"
     ]
    }
   ],
   "source": [
    "# Nested for loop\n",
    "\n",
    "for i in range(1,5):\n",
    "    for j in range(1,5):\n",
    "        print(f\"i: {i}, j: {j}\")\n",
    "        \n",
    "    "
   ]
  },
  {
   "cell_type": "code",
   "execution_count": 6,
   "metadata": {},
   "outputs": [
    {
     "name": "stdout",
     "output_type": "stream",
     "text": [
      "0 0\n",
      "0 1\n",
      "0 2\n",
      "0 3\n",
      "0 4\n",
      "1 0\n",
      "1 1\n",
      "1 2\n",
      "1 3\n",
      "1 4\n",
      "2 0\n",
      "2 1\n",
      "2 2\n",
      "2 3\n",
      "2 4\n",
      "3 0\n",
      "3 1\n",
      "3 2\n",
      "3 3\n",
      "3 4\n",
      "4 0\n",
      "4 1\n",
      "4 2\n",
      "4 3\n",
      "4 4\n"
     ]
    }
   ],
   "source": [
    "# Nested loop\n",
    "for i in range(5):\n",
    "    for j in range(5):\n",
    "        print(i, j)\n",
    "\n"
   ]
  },
  {
   "cell_type": "code",
   "execution_count": 10,
   "metadata": {},
   "outputs": [],
   "source": [
    "# return control flow \n",
    "def my_function():\n",
    "    return 10\n"
   ]
  },
  {
   "cell_type": "code",
   "execution_count": null,
   "metadata": {},
   "outputs": [],
   "source": []
  }
 ],
 "metadata": {
  "kernelspec": {
   "display_name": "Python 3",
   "language": "python",
   "name": "python3"
  },
  "language_info": {
   "codemirror_mode": {
    "name": "ipython",
    "version": 3
   },
   "file_extension": ".py",
   "mimetype": "text/x-python",
   "name": "python",
   "nbconvert_exporter": "python",
   "pygments_lexer": "ipython3",
   "version": "3.12.0"
  }
 },
 "nbformat": 4,
 "nbformat_minor": 2
}
