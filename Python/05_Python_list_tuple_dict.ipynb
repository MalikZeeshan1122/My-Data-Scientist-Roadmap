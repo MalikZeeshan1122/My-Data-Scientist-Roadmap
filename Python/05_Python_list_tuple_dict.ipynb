{
 "cells": [
  {
   "cell_type": "markdown",
   "metadata": {},
   "source": [
    "  # Inbulit data types\n",
    "- In Python, the data types are divided into two categories:\n",
    "    - Primitive Data Types\n",
    "    - Non-Primitive Data Types\n",
    "- Primitive Data Types are further divided into four categories:\n",
    "    - Integer\n",
    "    - Float\n",
    "    - String\n",
    "    - Boolean\n",
    "- Non-Primitive Data Types are further divided into two categories:\n",
    "    - List\n",
    "    - Tuple\n",
    "    - Set\n",
    "    - Dictionary\n",
    "- In this notebook, we will discuss the primitive data types in Python.\n",
    "- The primitive data types are the basic data types that are provided by the programming language.\n",
    "- The primitive data types are the building blocks of the non-primitive data types.\n",
    "- The primitive data types are used to store the simple values.\n",
    "- The primitive data types are used to store the values that are used in the program.\n",
    "\n"
   ]
  },
  {
   "cell_type": "markdown",
   "metadata": {},
   "source": [
    "# List"
   ]
  },
  {
   "cell_type": "code",
   "execution_count": 2,
   "metadata": {},
   "outputs": [
    {
     "name": "stdout",
     "output_type": "stream",
     "text": [
      "['apple', 'banana', 'cherry']\n"
     ]
    }
   ],
   "source": [
    "# List \n",
    "\n",
    "# List is a collection which is ordered and changeable. Allows duplicate members.\n",
    "\n",
    "# Create a List:\n",
    "thislist = [\"apple\", \"banana\", \"cherry\"]\n",
    "print(thislist)\n",
    "\n"
   ]
  },
  {
   "cell_type": "code",
   "execution_count": 10,
   "metadata": {},
   "outputs": [
    {
     "data": {
      "text/plain": [
       "int"
      ]
     },
     "execution_count": 10,
     "metadata": {},
     "output_type": "execute_result"
    }
   ],
   "source": [
    "A = [1,2,3,4,5,6,\"Malik\", 2 +4j]\n",
    "A[0]\n",
    "type(A[0]) \n"
   ]
  },
  {
   "cell_type": "code",
   "execution_count": 13,
   "metadata": {},
   "outputs": [
    {
     "data": {
      "text/plain": [
       "int"
      ]
     },
     "execution_count": 13,
     "metadata": {},
     "output_type": "execute_result"
    }
   ],
   "source": [
    "type(7)"
   ]
  },
  {
   "cell_type": "code",
   "execution_count": 11,
   "metadata": {},
   "outputs": [
    {
     "data": {
      "text/plain": [
       "list"
      ]
     },
     "execution_count": 11,
     "metadata": {},
     "output_type": "execute_result"
    }
   ],
   "source": [
    "type(A)"
   ]
  },
  {
   "cell_type": "code",
   "execution_count": 12,
   "metadata": {},
   "outputs": [
    {
     "data": {
      "text/plain": [
       "(2+4j)"
      ]
     },
     "execution_count": 12,
     "metadata": {},
     "output_type": "execute_result"
    }
   ],
   "source": [
    "A[7]"
   ]
  },
  {
   "cell_type": "code",
   "execution_count": 1,
   "metadata": {},
   "outputs": [
    {
     "data": {
      "text/plain": [
       "list"
      ]
     },
     "execution_count": 1,
     "metadata": {},
     "output_type": "execute_result"
    }
   ],
   "source": [
    "B = [22,33,44,55,66,\"MalIK\",34 + 12j, True, False, 23.0]\n",
    "type(B)"
   ]
  },
  {
   "cell_type": "code",
   "execution_count": 3,
   "metadata": {},
   "outputs": [
    {
     "name": "stdout",
     "output_type": "stream",
     "text": [
      "22\n",
      "33\n",
      "44\n",
      "55\n",
      "66\n",
      "MalIK\n",
      "(34+12j)\n",
      "True\n",
      "False\n",
      "23.0\n"
     ]
    }
   ],
   "source": [
    "for element in B:\n",
    "    print(element)"
   ]
  },
  {
   "cell_type": "code",
   "execution_count": 4,
   "metadata": {},
   "outputs": [
    {
     "data": {
      "text/plain": [
       "list"
      ]
     },
     "execution_count": 4,
     "metadata": {},
     "output_type": "execute_result"
    }
   ],
   "source": [
    "name = [\"Zeeshan\",\"Ahmed\", \"MALiK\",\"Ahsan\",\"EID\"]\n",
    "type(name)"
   ]
  },
  {
   "cell_type": "code",
   "execution_count": 5,
   "metadata": {},
   "outputs": [
    {
     "name": "stdout",
     "output_type": "stream",
     "text": [
      "Zeeshan\n",
      "Ahmed\n",
      "MALiK\n",
      "Ahsan\n",
      "EID\n"
     ]
    }
   ],
   "source": [
    "for word in name:\n",
    "    print(word)"
   ]
  },
  {
   "cell_type": "code",
   "execution_count": 8,
   "metadata": {},
   "outputs": [
    {
     "data": {
      "text/plain": [
       "10"
      ]
     },
     "execution_count": 8,
     "metadata": {},
     "output_type": "execute_result"
    }
   ],
   "source": [
    "len(B)"
   ]
  },
  {
   "cell_type": "code",
   "execution_count": 10,
   "metadata": {},
   "outputs": [
    {
     "name": "stdout",
     "output_type": "stream",
     "text": [
      "22\n",
      "33\n",
      "44\n",
      "55\n",
      "66\n",
      "MalIK\n",
      "(34+12j)\n",
      "True\n",
      "False\n",
      "23.0\n"
     ]
    }
   ],
   "source": [
    "for i in range(len(B)):\n",
    "    print(B[i])"
   ]
  },
  {
   "cell_type": "code",
   "execution_count": 13,
   "metadata": {},
   "outputs": [
    {
     "data": {
      "text/plain": [
       "list"
      ]
     },
     "execution_count": 13,
     "metadata": {},
     "output_type": "execute_result"
    }
   ],
   "source": [
    "B = [22,33,44,55,66,\"MalIK\",34 + 12j, True, False, 23.0]\n",
    "type(B)"
   ]
  },
  {
   "cell_type": "code",
   "execution_count": 14,
   "metadata": {},
   "outputs": [
    {
     "name": "stdout",
     "output_type": "stream",
     "text": [
      "value=22, dtype = <class 'int'>\n",
      "value=33, dtype = <class 'int'>\n",
      "value=44, dtype = <class 'int'>\n",
      "value=55, dtype = <class 'int'>\n",
      "value=66, dtype = <class 'int'>\n",
      "value=MalIK, dtype = <class 'str'>\n",
      "value=(34+12j), dtype = <class 'complex'>\n",
      "value=True, dtype = <class 'bool'>\n",
      "value=False, dtype = <class 'bool'>\n",
      "value=23.0, dtype = <class 'float'>\n"
     ]
    }
   ],
   "source": [
    "for i in range(len(B)):\n",
    "    print(f\"value={B[i]}, dtype = {type(B[i])}\")"
   ]
  },
  {
   "cell_type": "code",
   "execution_count": 15,
   "metadata": {},
   "outputs": [
    {
     "name": "stdout",
     "output_type": "stream",
     "text": [
      "i = 0, value=22, dtype = <class 'int'>\n",
      "i = 1, value=33, dtype = <class 'int'>\n",
      "i = 2, value=44, dtype = <class 'int'>\n",
      "i = 3, value=55, dtype = <class 'int'>\n",
      "i = 4, value=66, dtype = <class 'int'>\n",
      "i = 5, value=MalIK, dtype = <class 'str'>\n",
      "i = 6, value=(34+12j), dtype = <class 'complex'>\n",
      "i = 7, value=True, dtype = <class 'bool'>\n",
      "i = 8, value=False, dtype = <class 'bool'>\n",
      "i = 9, value=23.0, dtype = <class 'float'>\n"
     ]
    }
   ],
   "source": [
    "for i in range(len(B)):\n",
    "    print(f\"i = {i}, value={B[i]}, dtype = {type(B[i])}\")"
   ]
  },
  {
   "cell_type": "markdown",
   "metadata": {},
   "source": [
    "# indexing and slicing\n",
    "- Indexing and slicing are two of the most important concepts in Python.\n",
    "- Indexing is used to access the elements of a list.\n",
    "- Slicing is used to access a subset of elements from a list.\n",
    "- In Python, the indexing of a list starts from 0.\n",
    "- The index of the first element of a list is 0, the index of the second element is 1, and so on.\n",
    "- The index of the last element of a list is -1, the index of the second last element is -2, and so on.\n",
    "- The index of an element of a list is used to access that element."
   ]
  },
  {
   "cell_type": "code",
   "execution_count": 16,
   "metadata": {},
   "outputs": [
    {
     "data": {
      "text/plain": [
       "33"
      ]
     },
     "execution_count": 16,
     "metadata": {},
     "output_type": "execute_result"
    }
   ],
   "source": [
    "B[1]"
   ]
  },
  {
   "cell_type": "code",
   "execution_count": 18,
   "metadata": {},
   "outputs": [
    {
     "data": {
      "text/plain": [
       "(34+12j)"
      ]
     },
     "execution_count": 18,
     "metadata": {},
     "output_type": "execute_result"
    }
   ],
   "source": [
    "B[6]"
   ]
  },
  {
   "cell_type": "code",
   "execution_count": 19,
   "metadata": {},
   "outputs": [
    {
     "data": {
      "text/plain": [
       "list"
      ]
     },
     "execution_count": 19,
     "metadata": {},
     "output_type": "execute_result"
    }
   ],
   "source": [
    "B = [22,33,44,55,66,\"MalIK\",34 + 12j, True, False, 23.0]\n",
    "type(B)"
   ]
  },
  {
   "cell_type": "code",
   "execution_count": 20,
   "metadata": {},
   "outputs": [
    {
     "data": {
      "text/plain": [
       "[22, 33, 44, 55, 66, 'MalIK', (34+12j), True, False, 23.0]"
      ]
     },
     "execution_count": 20,
     "metadata": {},
     "output_type": "execute_result"
    }
   ],
   "source": [
    "B[:]"
   ]
  },
  {
   "cell_type": "code",
   "execution_count": 21,
   "metadata": {},
   "outputs": [
    {
     "data": {
      "text/plain": [
       "[22, 33, 44]"
      ]
     },
     "execution_count": 21,
     "metadata": {},
     "output_type": "execute_result"
    }
   ],
   "source": [
    "B[:3]"
   ]
  },
  {
   "cell_type": "code",
   "execution_count": 23,
   "metadata": {},
   "outputs": [
    {
     "data": {
      "text/plain": [
       "[22, 33, 44, 55, 66, 'MalIK', (34+12j), True, False, 23.0]"
      ]
     },
     "execution_count": 23,
     "metadata": {},
     "output_type": "execute_result"
    }
   ],
   "source": [
    "B"
   ]
  },
  {
   "cell_type": "code",
   "execution_count": 24,
   "metadata": {},
   "outputs": [
    {
     "data": {
      "text/plain": [
       "[55, 66, 'MalIK', (34+12j), True, False, 23.0]"
      ]
     },
     "execution_count": 24,
     "metadata": {},
     "output_type": "execute_result"
    }
   ],
   "source": [
    "B[3:]"
   ]
  },
  {
   "cell_type": "code",
   "execution_count": 26,
   "metadata": {},
   "outputs": [
    {
     "data": {
      "text/plain": [
       "[22, 44, 66, (34+12j), False]"
      ]
     },
     "execution_count": 26,
     "metadata": {},
     "output_type": "execute_result"
    }
   ],
   "source": [
    "B[0::2] # [start index: ]"
   ]
  },
  {
   "cell_type": "code",
   "execution_count": 29,
   "metadata": {},
   "outputs": [
    {
     "data": {
      "text/plain": [
       "[33, 55, 'MalIK', True]"
      ]
     },
     "execution_count": 29,
     "metadata": {},
     "output_type": "execute_result"
    }
   ],
   "source": [
    "B[1:8:2]"
   ]
  },
  {
   "cell_type": "code",
   "execution_count": 35,
   "metadata": {},
   "outputs": [
    {
     "name": "stdout",
     "output_type": "stream",
     "text": [
      "0 22\n",
      "2 44\n",
      "4 66\n",
      "6 (34+12j)\n",
      "8 False\n"
     ]
    }
   ],
   "source": [
    "for i in range(0,10,2): # starting # ending # Steps \n",
    "    print(i, B[i])\n"
   ]
  },
  {
   "cell_type": "code",
   "execution_count": 34,
   "metadata": {},
   "outputs": [
    {
     "name": "stdout",
     "output_type": "stream",
     "text": [
      "False\n"
     ]
    }
   ],
   "source": [
    "print(B[i])"
   ]
  },
  {
   "cell_type": "code",
   "execution_count": 37,
   "metadata": {},
   "outputs": [
    {
     "data": {
      "text/plain": [
       "[23.0, False, True, (34+12j), 'MalIK', 66, 55, 44, 33, 22]"
      ]
     },
     "execution_count": 37,
     "metadata": {},
     "output_type": "execute_result"
    }
   ],
   "source": [
    "B[::-1]"
   ]
  },
  {
   "cell_type": "code",
   "execution_count": 38,
   "metadata": {},
   "outputs": [
    {
     "data": {
      "text/plain": [
       "[22, 44, 66, (34+12j), False]"
      ]
     },
     "execution_count": 38,
     "metadata": {},
     "output_type": "execute_result"
    }
   ],
   "source": [
    "B[::2]"
   ]
  },
  {
   "cell_type": "code",
   "execution_count": 40,
   "metadata": {},
   "outputs": [
    {
     "name": "stdout",
     "output_type": "stream",
     "text": [
      "0 22\n",
      "2 44\n",
      "4 66\n",
      "6 (34+12j)\n",
      "8 False\n"
     ]
    }
   ],
   "source": [
    "for i in range(0, len(B), 2):\n",
    "    print(i, B[i])\n",
    "    "
   ]
  },
  {
   "cell_type": "code",
   "execution_count": 43,
   "metadata": {},
   "outputs": [
    {
     "name": "stdout",
     "output_type": "stream",
     "text": [
      "0 22\n",
      "1 33\n",
      "2 44\n",
      "3 55\n",
      "4 66\n",
      "5 MalIK\n",
      "6 (34+12j)\n",
      "7 True\n",
      "8 False\n",
      "9 23.0\n"
     ]
    }
   ],
   "source": [
    "for i in range(0, len(B)):\n",
    "    print(i,B[i]) "
   ]
  },
  {
   "cell_type": "code",
   "execution_count": 48,
   "metadata": {},
   "outputs": [
    {
     "name": "stdout",
     "output_type": "stream",
     "text": [
      "-1 23.0\n",
      "-2 False\n",
      "-3 True\n",
      "-4 (34+12j)\n",
      "-5 MalIK\n",
      "-6 66\n",
      "-7 55\n",
      "-8 44\n",
      "-9 33\n"
     ]
    }
   ],
   "source": [
    "for i in range(-1,-len(B),-1):\n",
    "    print(i, B[i])"
   ]
  },
  {
   "cell_type": "code",
   "execution_count": 49,
   "metadata": {},
   "outputs": [
    {
     "name": "stdout",
     "output_type": "stream",
     "text": [
      "-1 23.0\n",
      "-2 False\n",
      "-3 True\n",
      "-4 (34+12j)\n",
      "-5 MalIK\n",
      "-6 66\n",
      "-7 55\n",
      "-8 44\n",
      "-9 33\n",
      "-10 22\n"
     ]
    }
   ],
   "source": [
    "for i in range(-1,-len(B) -1,-1):\n",
    "    print(i, B[i])"
   ]
  },
  {
   "cell_type": "code",
   "execution_count": 62,
   "metadata": {},
   "outputs": [],
   "source": [
    "B[True] = 100"
   ]
  },
  {
   "cell_type": "code",
   "execution_count": 63,
   "metadata": {},
   "outputs": [
    {
     "data": {
      "text/plain": [
       "[22, 100, 44, 55, 66, 'MalIK', (34+12j), True, False, 23.0]"
      ]
     },
     "execution_count": 63,
     "metadata": {},
     "output_type": "execute_result"
    }
   ],
   "source": [
    "B"
   ]
  },
  {
   "cell_type": "code",
   "execution_count": 66,
   "metadata": {},
   "outputs": [],
   "source": [
    "B[4] = 1000"
   ]
  },
  {
   "cell_type": "code",
   "execution_count": 67,
   "metadata": {},
   "outputs": [
    {
     "data": {
      "text/plain": [
       "[22, 100, 44, 55, 1000, 'MalIK', (34+12j), True, False, 23.0]"
      ]
     },
     "execution_count": 67,
     "metadata": {},
     "output_type": "execute_result"
    }
   ],
   "source": [
    "B"
   ]
  },
  {
   "cell_type": "code",
   "execution_count": 68,
   "metadata": {},
   "outputs": [],
   "source": [
    "B[5] = 2000"
   ]
  },
  {
   "cell_type": "code",
   "execution_count": 69,
   "metadata": {},
   "outputs": [
    {
     "data": {
      "text/plain": [
       "[22, 100, 44, 55, 1000, 2000, (34+12j), True, False, 23.0]"
      ]
     },
     "execution_count": 69,
     "metadata": {},
     "output_type": "execute_result"
    }
   ],
   "source": [
    "B"
   ]
  },
  {
   "cell_type": "code",
   "execution_count": 70,
   "metadata": {},
   "outputs": [
    {
     "data": {
      "text/plain": [
       "[22, 100, 44, 55, 1000, 2000, (34+12j), True, False, 'ARTIFICIAL INTELLIGENCE']"
      ]
     },
     "execution_count": 70,
     "metadata": {},
     "output_type": "execute_result"
    }
   ],
   "source": [
    "B[-1] = \"ARTIFICIAL INTELLIGENCE\"\n",
    "B"
   ]
  },
  {
   "cell_type": "code",
   "execution_count": 71,
   "metadata": {},
   "outputs": [],
   "source": [
    "C = [\"A\",\"B\",\"C\"]"
   ]
  },
  {
   "cell_type": "code",
   "execution_count": 75,
   "metadata": {},
   "outputs": [
    {
     "data": {
      "text/plain": [
       "[22,\n",
       " 100,\n",
       " 44,\n",
       " 55,\n",
       " 1000,\n",
       " 2000,\n",
       " (34+12j),\n",
       " True,\n",
       " False,\n",
       " 'ARTIFICIAL INTELLIGENCE',\n",
       " 'A',\n",
       " 'B',\n",
       " 'C']"
      ]
     },
     "execution_count": 75,
     "metadata": {},
     "output_type": "execute_result"
    }
   ],
   "source": [
    "list = B + C\n",
    "list"
   ]
  },
  {
   "cell_type": "code",
   "execution_count": 78,
   "metadata": {},
   "outputs": [
    {
     "ename": "TypeError",
     "evalue": "unsupported operand type(s) for -: 'list' and 'list'",
     "output_type": "error",
     "traceback": [
      "\u001b[1;31m---------------------------------------------------------------------------\u001b[0m",
      "\u001b[1;31mTypeError\u001b[0m                                 Traceback (most recent call last)",
      "Cell \u001b[1;32mIn[78], line 1\u001b[0m\n\u001b[1;32m----> 1\u001b[0m \u001b[38;5;28mlist\u001b[39m \u001b[38;5;241m=\u001b[39m \u001b[43mB\u001b[49m\u001b[43m \u001b[49m\u001b[38;5;241;43m-\u001b[39;49m\u001b[43m \u001b[49m\u001b[43mC\u001b[49m\n\u001b[0;32m      2\u001b[0m \u001b[38;5;28mlist\u001b[39m\n",
      "\u001b[1;31mTypeError\u001b[0m: unsupported operand type(s) for -: 'list' and 'list'"
     ]
    }
   ],
   "source": [
    "list = B - C\n",
    "list"
   ]
  },
  {
   "cell_type": "code",
   "execution_count": 76,
   "metadata": {},
   "outputs": [
    {
     "data": {
      "text/plain": [
       "[22,\n",
       " 100,\n",
       " 44,\n",
       " 55,\n",
       " 1000,\n",
       " 2000,\n",
       " (34+12j),\n",
       " True,\n",
       " False,\n",
       " 'ARTIFICIAL INTELLIGENCE',\n",
       " 'A',\n",
       " 'B',\n",
       " 'C']"
      ]
     },
     "execution_count": 76,
     "metadata": {},
     "output_type": "execute_result"
    }
   ],
   "source": []
  },
  {
   "cell_type": "code",
   "execution_count": 77,
   "metadata": {},
   "outputs": [
    {
     "data": {
      "text/plain": [
       "[22, 100, 44, 55, 1000, 2000, (34+12j), True, False, 'ARTIFICIAL INTELLIGENCE']"
      ]
     },
     "execution_count": 77,
     "metadata": {},
     "output_type": "execute_result"
    }
   ],
   "source": [
    "B"
   ]
  },
  {
   "cell_type": "code",
   "execution_count": 79,
   "metadata": {},
   "outputs": [
    {
     "data": {
      "text/plain": [
       "[22,\n",
       " 100,\n",
       " 44,\n",
       " 55,\n",
       " 1000,\n",
       " 2000,\n",
       " (34+12j),\n",
       " True,\n",
       " False,\n",
       " 'ARTIFICIAL INTELLIGENCE',\n",
       " 22,\n",
       " 100,\n",
       " 44,\n",
       " 55,\n",
       " 1000,\n",
       " 2000,\n",
       " (34+12j),\n",
       " True,\n",
       " False,\n",
       " 'ARTIFICIAL INTELLIGENCE']"
      ]
     },
     "execution_count": 79,
     "metadata": {},
     "output_type": "execute_result"
    }
   ],
   "source": [
    "B * 2"
   ]
  },
  {
   "cell_type": "code",
   "execution_count": 80,
   "metadata": {},
   "outputs": [
    {
     "data": {
      "text/plain": [
       "[22,\n",
       " 100,\n",
       " 44,\n",
       " 55,\n",
       " 1000,\n",
       " 2000,\n",
       " (34+12j),\n",
       " True,\n",
       " False,\n",
       " 'ARTIFICIAL INTELLIGENCE',\n",
       " 'A',\n",
       " 'B',\n",
       " 'C',\n",
       " 22,\n",
       " 100,\n",
       " 44,\n",
       " 55,\n",
       " 1000,\n",
       " 2000,\n",
       " (34+12j),\n",
       " True,\n",
       " False,\n",
       " 'ARTIFICIAL INTELLIGENCE',\n",
       " 'A',\n",
       " 'B',\n",
       " 'C']"
      ]
     },
     "execution_count": 80,
     "metadata": {},
     "output_type": "execute_result"
    }
   ],
   "source": [
    "list * 2"
   ]
  },
  {
   "cell_type": "code",
   "execution_count": 83,
   "metadata": {},
   "outputs": [
    {
     "ename": "TypeError",
     "evalue": "can't multiply sequence by non-int of type 'list'",
     "output_type": "error",
     "traceback": [
      "\u001b[1;31m---------------------------------------------------------------------------\u001b[0m",
      "\u001b[1;31mTypeError\u001b[0m                                 Traceback (most recent call last)",
      "Cell \u001b[1;32mIn[83], line 1\u001b[0m\n\u001b[1;32m----> 1\u001b[0m \u001b[43mB\u001b[49m\u001b[43m \u001b[49m\u001b[38;5;241;43m*\u001b[39;49m\u001b[43m \u001b[49m\u001b[43mB\u001b[49m \u001b[38;5;66;03m# cannot multiply that is not allow \u001b[39;00m\n",
      "\u001b[1;31mTypeError\u001b[0m: can't multiply sequence by non-int of type 'list'"
     ]
    }
   ],
   "source": [
    "B * B # cannot multiply that is not allow "
   ]
  },
  {
   "cell_type": "code",
   "execution_count": 84,
   "metadata": {},
   "outputs": [
    {
     "data": {
      "text/plain": [
       "[22,\n",
       " 100,\n",
       " 44,\n",
       " 55,\n",
       " 1000,\n",
       " 2000,\n",
       " (34+12j),\n",
       " True,\n",
       " False,\n",
       " 'ARTIFICIAL INTELLIGENCE',\n",
       " 22,\n",
       " 100,\n",
       " 44,\n",
       " 55,\n",
       " 1000,\n",
       " 2000,\n",
       " (34+12j),\n",
       " True,\n",
       " False,\n",
       " 'ARTIFICIAL INTELLIGENCE']"
      ]
     },
     "execution_count": 84,
     "metadata": {},
     "output_type": "execute_result"
    }
   ],
   "source": [
    "B + B"
   ]
  },
  {
   "cell_type": "code",
   "execution_count": 85,
   "metadata": {},
   "outputs": [
    {
     "data": {
      "text/plain": [
       "[22,\n",
       " 100,\n",
       " 44,\n",
       " 55,\n",
       " 1000,\n",
       " 2000,\n",
       " (34+12j),\n",
       " True,\n",
       " False,\n",
       " 'ARTIFICIAL INTELLIGENCE',\n",
       " 'A',\n",
       " 'B',\n",
       " 'C',\n",
       " 22,\n",
       " 100,\n",
       " 44,\n",
       " 55,\n",
       " 1000,\n",
       " 2000,\n",
       " (34+12j),\n",
       " True,\n",
       " False,\n",
       " 'ARTIFICIAL INTELLIGENCE',\n",
       " 'A',\n",
       " 'B',\n",
       " 'C']"
      ]
     },
     "execution_count": 85,
     "metadata": {},
     "output_type": "execute_result"
    }
   ],
   "source": [
    "list + list"
   ]
  },
  {
   "cell_type": "code",
   "execution_count": 86,
   "metadata": {},
   "outputs": [
    {
     "data": {
      "text/plain": [
       "[22,\n",
       " 100,\n",
       " 44,\n",
       " 55,\n",
       " 1000,\n",
       " 2000,\n",
       " (34+12j),\n",
       " True,\n",
       " False,\n",
       " 'ARTIFICIAL INTELLIGENCE',\n",
       " 22,\n",
       " 100,\n",
       " 44,\n",
       " 55,\n",
       " 1000,\n",
       " 2000,\n",
       " (34+12j),\n",
       " True,\n",
       " False,\n",
       " 'ARTIFICIAL INTELLIGENCE',\n",
       " 22,\n",
       " 100,\n",
       " 44,\n",
       " 55,\n",
       " 1000,\n",
       " 2000,\n",
       " (34+12j),\n",
       " True,\n",
       " False,\n",
       " 'ARTIFICIAL INTELLIGENCE']"
      ]
     },
     "execution_count": 86,
     "metadata": {},
     "output_type": "execute_result"
    }
   ],
   "source": [
    "B + B + B "
   ]
  },
  {
   "cell_type": "code",
   "execution_count": 88,
   "metadata": {},
   "outputs": [
    {
     "data": {
      "text/plain": [
       "[]"
      ]
     },
     "execution_count": 88,
     "metadata": {},
     "output_type": "execute_result"
    }
   ],
   "source": [
    "B * (-1)"
   ]
  },
  {
   "cell_type": "code",
   "execution_count": 89,
   "metadata": {},
   "outputs": [
    {
     "data": {
      "text/plain": [
       "[]"
      ]
     },
     "execution_count": 89,
     "metadata": {},
     "output_type": "execute_result"
    }
   ],
   "source": [
    "B * (-2)"
   ]
  },
  {
   "cell_type": "code",
   "execution_count": 90,
   "metadata": {},
   "outputs": [
    {
     "ename": "NameError",
     "evalue": "name 'A' is not defined",
     "output_type": "error",
     "traceback": [
      "\u001b[1;31m---------------------------------------------------------------------------\u001b[0m",
      "\u001b[1;31mNameError\u001b[0m                                 Traceback (most recent call last)",
      "Cell \u001b[1;32mIn[90], line 1\u001b[0m\n\u001b[1;32m----> 1\u001b[0m \u001b[43mA\u001b[49m \u001b[38;5;241m*\u001b[39m \u001b[38;5;241m0\u001b[39m\n",
      "\u001b[1;31mNameError\u001b[0m: name 'A' is not defined"
     ]
    }
   ],
   "source": [
    "A * 0"
   ]
  },
  {
   "cell_type": "markdown",
   "metadata": {},
   "source": [
    "# Basic list operations\n",
    "- In Python, a list is a collection of elements that are ordered and changeable.\n",
    "- A list is a mutable data type, which means that the elements of a list can be changed after the list is created.\n",
    "- A list can contain elements of different data types.\n"
   ]
  },
  {
   "cell_type": "markdown",
   "metadata": {},
   "source": [
    "# Length of a list\n",
    "- The length of a list is the number of elements in the list.\n",
    "- The length of a list can be calculated using the len() function.\n",
    "\n",
    "\n"
   ]
  },
  {
   "cell_type": "code",
   "execution_count": 92,
   "metadata": {},
   "outputs": [
    {
     "data": {
      "text/plain": [
       "30"
      ]
     },
     "execution_count": 92,
     "metadata": {},
     "output_type": "execute_result"
    }
   ],
   "source": [
    "length = [22,\n",
    " 100,\n",
    " 44,\n",
    " 55,\n",
    " 1000,\n",
    " 2000,\n",
    " (34+12j),\n",
    " True,\n",
    " False,\n",
    " 'ARTIFICIAL INTELLIGENCE',\n",
    " 22,\n",
    " 100,\n",
    " 44,\n",
    " 55,\n",
    " 1000,\n",
    " 2000,\n",
    " (34+12j),\n",
    " True,\n",
    " False,\n",
    " 'ARTIFICIAL INTELLIGENCE',\n",
    " 22,\n",
    " 100,\n",
    " 44,\n",
    " 55,\n",
    " 1000,\n",
    " 2000,\n",
    " (34+12j),\n",
    " True,\n",
    " False,\n",
    " 'ARTIFICIAL INTELLIGENCE']\n",
    "\n",
    "len(length)\n",
    "\n"
   ]
  },
  {
   "cell_type": "code",
   "execution_count": 93,
   "metadata": {},
   "outputs": [
    {
     "data": {
      "text/plain": [
       "False"
      ]
     },
     "execution_count": 93,
     "metadata": {},
     "output_type": "execute_result"
    }
   ],
   "source": [
    "5 in length"
   ]
  },
  {
   "cell_type": "code",
   "execution_count": 94,
   "metadata": {},
   "outputs": [
    {
     "data": {
      "text/plain": [
       "True"
      ]
     },
     "execution_count": 94,
     "metadata": {},
     "output_type": "execute_result"
    }
   ],
   "source": [
    "True in length"
   ]
  },
  {
   "cell_type": "code",
   "execution_count": 96,
   "metadata": {},
   "outputs": [
    {
     "data": {
      "text/plain": [
       "True"
      ]
     },
     "execution_count": 96,
     "metadata": {},
     "output_type": "execute_result"
    }
   ],
   "source": [
    "'ARTIFICIAL INTELLIGENCE' in length"
   ]
  },
  {
   "cell_type": "code",
   "execution_count": 2,
   "metadata": {},
   "outputs": [
    {
     "data": {
      "text/plain": [
       "0"
      ]
     },
     "execution_count": 2,
     "metadata": {},
     "output_type": "execute_result"
    }
   ],
   "source": [
    "my_list = [] # not recommended \n",
    "len(my_list)"
   ]
  },
  {
   "cell_type": "code",
   "execution_count": 3,
   "metadata": {},
   "outputs": [
    {
     "data": {
      "text/plain": [
       "0"
      ]
     },
     "execution_count": 3,
     "metadata": {},
     "output_type": "execute_result"
    }
   ],
   "source": [
    "my_list = list() # recommended\n",
    "len(my_list)"
   ]
  },
  {
   "cell_type": "code",
   "execution_count": 10,
   "metadata": {},
   "outputs": [
    {
     "name": "stdout",
     "output_type": "stream",
     "text": [
      "['33', '33', '333', '333', '33', '3', '3', '333', '3', '33']\n",
      "33\n"
     ]
    }
   ],
   "source": [
    "list_of_items_to_purchase = list() # empty list \n",
    "\n",
    "for i in range(10):\n",
    "    user_input = input(\"Enter the item that you want to purchase: \")\n",
    "    list_of_items_to_purchase = list_of_items_to_purchase + [user_input] # increment\n",
    "    \n",
    "print(list_of_items_to_purchase)\n",
    "print(user_input)"
   ]
  },
  {
   "cell_type": "code",
   "execution_count": 8,
   "metadata": {},
   "outputs": [
    {
     "name": "stdout",
     "output_type": "stream",
     "text": [
      "['laptop', 'mobile', 'iphone']\n",
      "iphone\n"
     ]
    }
   ],
   "source": [
    "list_of_items_to_purchase = list() # empty list \n",
    "\n",
    "Num = int(input(\"no of item want to purchase\"))\n",
    "\n",
    "for i in range(Num):\n",
    "    user_input = input(\"Enter the item that you want to purchase: \")\n",
    "    list_of_items_to_purchase = list_of_items_to_purchase + [user_input]\n",
    "    \n",
    "print(list_of_items_to_purchase)\n"
   ]
  },
  {
   "cell_type": "code",
   "execution_count": 9,
   "metadata": {},
   "outputs": [
    {
     "data": {
      "text/plain": [
       "3"
      ]
     },
     "execution_count": 9,
     "metadata": {},
     "output_type": "execute_result"
    }
   ],
   "source": [
    "len(list_of_items_to_purchase)"
   ]
  },
  {
   "cell_type": "code",
   "execution_count": 2,
   "metadata": {},
   "outputs": [
    {
     "name": "stdout",
     "output_type": "stream",
     "text": [
      "['Ram', 'Moblie']\n",
      "Moblie\n"
     ]
    }
   ],
   "source": [
    "list_of_items_to_purchase = list() # empty list \n",
    "\n",
    "N = int(input(\"no of item want to purchase: \"))\n",
    "\n",
    "i = 0 # counter\n",
    "while i < N:\n",
    "    \n",
    "    user_input = input(\"Enter the item that you want to purchase: \")\n",
    "    list_of_items_to_purchase = list_of_items_to_purchase + [user_input]\n",
    "    i = i + 1 # increment\n",
    "    \n",
    "print(list_of_items_to_purchase)\n"
   ]
  },
  {
   "cell_type": "code",
   "execution_count": 4,
   "metadata": {},
   "outputs": [
    {
     "data": {
      "text/plain": [
       "[1, 2, 23]"
      ]
     },
     "execution_count": 4,
     "metadata": {},
     "output_type": "execute_result"
    }
   ],
   "source": [
    "[1,2] + [23]"
   ]
  },
  {
   "cell_type": "code",
   "execution_count": 5,
   "metadata": {},
   "outputs": [
    {
     "name": "stdout",
     "output_type": "stream",
     "text": [
      "Current list: ['Laoptop']\n",
      "Current list: ['Laoptop', 'pen']\n",
      "['Laoptop', 'pen']\n",
      "pen\n"
     ]
    }
   ],
   "source": [
    "list_of_items_to_purchase = list() # empty list \n",
    "\n",
    "N = int(input(\"no of item want to purchase: \"))\n",
    "\n",
    "i = 0 # counter\n",
    "while i < N:\n",
    "    \n",
    "    user_input = input(\"Enter the item that you want to purchase: \")\n",
    "    list_of_items_to_purchase = list_of_items_to_purchase + [user_input]\n",
    "    print(f\"Current list: {list_of_items_to_purchase}\")\n",
    "    i = i + 1 # increment\n",
    "    \n",
    "print(list_of_items_to_purchase)\n"
   ]
  },
  {
   "cell_type": "code",
   "execution_count": 6,
   "metadata": {},
   "outputs": [
    {
     "name": "stdout",
     "output_type": "stream",
     "text": [
      "current i : 1 =>Current list: ['pen']\n",
      "current i : 2 =>Current list: ['pen', 'Glass']\n",
      "current i : 3 =>Current list: ['pen', 'Glass', 'mobile']\n",
      "['pen', 'Glass', 'mobile']\n"
     ]
    }
   ],
   "source": [
    "list_of_items_to_purchase = list() # empty list \n",
    "\n",
    "N = int(input(\"no of item want to purchase: \"))\n",
    "\n",
    "i = 0 # counter\n",
    "while i < N:\n",
    "    \n",
    "    user_input = input(\"Enter the item that you want to purchase: \")\n",
    "    list_of_items_to_purchase = list_of_items_to_purchase + [user_input]\n",
    "    i = i + 1 # increment\n",
    "        \n",
    "    print(f\"current i : {i} =>Current list: {list_of_items_to_purchase}\")\n",
    "\n",
    "print(list_of_items_to_purchase)\n"
   ]
  },
  {
   "cell_type": "markdown",
   "metadata": {},
   "source": [
    "# Check memberships in a list\n"
   ]
  },
  {
   "cell_type": "code",
   "execution_count": 8,
   "metadata": {},
   "outputs": [
    {
     "data": {
      "text/plain": [
       "True"
      ]
     },
     "execution_count": 8,
     "metadata": {},
     "output_type": "execute_result"
    }
   ],
   "source": [
    "'pen' in  list_of_items_to_purchase"
   ]
  },
  {
   "cell_type": "code",
   "execution_count": 10,
   "metadata": {},
   "outputs": [
    {
     "data": {
      "text/plain": [
       "False"
      ]
     },
     "execution_count": 10,
     "metadata": {},
     "output_type": "execute_result"
    }
   ],
   "source": [
    "\"Phone Cover\" in list_of_items_to_purchase # case sensitive"
   ]
  },
  {
   "cell_type": "code",
   "execution_count": 12,
   "metadata": {},
   "outputs": [
    {
     "name": "stdout",
     "output_type": "stream",
     "text": [
      "No, adding into the list\n"
     ]
    }
   ],
   "source": [
    "if \"Phone cover\" in list_of_items_to_purchase:\n",
    "    print(\"YES\")\n",
    "else:\n",
    "    print(\"No, adding into the list\")\n",
    "    \n",
    "    list_of_items_to_purchase = list_of_items_to_purchase + [\"Phone Cover\"]"
   ]
  },
  {
   "cell_type": "code",
   "execution_count": 13,
   "metadata": {},
   "outputs": [
    {
     "data": {
      "text/plain": [
       "['pen', 'Glass', 'mobile', 'Phone Cover']"
      ]
     },
     "execution_count": 13,
     "metadata": {},
     "output_type": "execute_result"
    }
   ],
   "source": [
    "list_of_items_to_purchase"
   ]
  },
  {
   "cell_type": "code",
   "execution_count": 14,
   "metadata": {},
   "outputs": [],
   "source": [
    "list_of_items_to_purchase = list_of_items_to_purchase + [\"Car\"]"
   ]
  },
  {
   "cell_type": "code",
   "execution_count": 15,
   "metadata": {},
   "outputs": [
    {
     "data": {
      "text/plain": [
       "['pen', 'Glass', 'mobile', 'Phone Cover', 'Car']"
      ]
     },
     "execution_count": 15,
     "metadata": {},
     "output_type": "execute_result"
    }
   ],
   "source": [
    "list_of_items_to_purchase"
   ]
  },
  {
   "cell_type": "code",
   "execution_count": 16,
   "metadata": {},
   "outputs": [],
   "source": [
    "list_of_items_to_purchase = list_of_items_to_purchase + [\"Bike\",\"lenov laptop\",\"Ai\",\"Malik\",\"Zeeshan\",\"Google\"]"
   ]
  },
  {
   "cell_type": "code",
   "execution_count": 17,
   "metadata": {},
   "outputs": [
    {
     "data": {
      "text/plain": [
       "['pen',\n",
       " 'Glass',\n",
       " 'mobile',\n",
       " 'Phone Cover',\n",
       " 'Car',\n",
       " 'Bike',\n",
       " 'lenov laptop',\n",
       " 'Ai',\n",
       " 'Malik',\n",
       " 'Zeeshan',\n",
       " 'Google']"
      ]
     },
     "execution_count": 17,
     "metadata": {},
     "output_type": "execute_result"
    }
   ],
   "source": [
    "list_of_items_to_purchase"
   ]
  },
  {
   "cell_type": "code",
   "execution_count": 18,
   "metadata": {},
   "outputs": [
    {
     "data": {
      "text/plain": [
       "11"
      ]
     },
     "execution_count": 18,
     "metadata": {},
     "output_type": "execute_result"
    }
   ],
   "source": [
    "len(list_of_items_to_purchase)"
   ]
  },
  {
   "cell_type": "code",
   "execution_count": 24,
   "metadata": {},
   "outputs": [
    {
     "name": "stdout",
     "output_type": "stream",
     "text": [
      "YES\n",
      "No, adding into the list\n"
     ]
    },
    {
     "data": {
      "text/plain": [
       "['pen',\n",
       " 'Glass',\n",
       " 'mobile',\n",
       " 'Phone Cover',\n",
       " 'Car',\n",
       " 'Bike',\n",
       " 'lenov laptop',\n",
       " 'Ai',\n",
       " 'Malik',\n",
       " 'Zeeshan',\n",
       " 'Google',\n",
       " 'CS']"
      ]
     },
     "execution_count": 24,
     "metadata": {},
     "output_type": "execute_result"
    }
   ],
   "source": [
    "if \"CS\" not in list_of_items_to_purchase:\n",
    "    print(\"YES\")\n",
    "\n",
    "    print(\"No, adding into the list\")\n",
    "    list_of_items_to_purchase = list_of_items_to_purchase + [\"CS\"]\n",
    "list_of_items_to_purchase"
   ]
  },
  {
   "cell_type": "code",
   "execution_count": 25,
   "metadata": {},
   "outputs": [
    {
     "name": "stdout",
     "output_type": "stream",
     "text": [
      "No, adding into the list\n"
     ]
    },
    {
     "data": {
      "text/plain": [
       "['pen',\n",
       " 'Glass',\n",
       " 'mobile',\n",
       " 'Phone Cover',\n",
       " 'Car',\n",
       " 'Bike',\n",
       " 'lenov laptop',\n",
       " 'Ai',\n",
       " 'Malik',\n",
       " 'Zeeshan',\n",
       " 'Google',\n",
       " 'CS',\n",
       " 'Market']"
      ]
     },
     "execution_count": 25,
     "metadata": {},
     "output_type": "execute_result"
    }
   ],
   "source": [
    "new_list = input(\"Any thing else to add: \")\n",
    "\n",
    "if new_list not in list_of_items_to_purchase:\n",
    "    print(\"No, adding into the list\")\n",
    "    list_of_items_to_purchase = list_of_items_to_purchase + [new_list]\n",
    "    \n",
    "list_of_items_to_purchase"
   ]
  },
  {
   "cell_type": "code",
   "execution_count": 26,
   "metadata": {},
   "outputs": [
    {
     "data": {
      "text/plain": [
       "13"
      ]
     },
     "execution_count": 26,
     "metadata": {},
     "output_type": "execute_result"
    }
   ],
   "source": [
    "len(list_of_items_to_purchase)"
   ]
  },
  {
   "cell_type": "markdown",
   "metadata": {},
   "source": [
    "# max()\n",
    "we can find max value from a given list"
   ]
  },
  {
   "cell_type": "code",
   "execution_count": 27,
   "metadata": {},
   "outputs": [
    {
     "name": "stdout",
     "output_type": "stream",
     "text": [
      "big-data\n",
      "7\n"
     ]
    }
   ],
   "source": [
    "list1  = [\"MALIK\",\"DataScience\",\"big-data\",\"Analytics \"]\n",
    "list2 = [2,3,4,5,6,7]\n",
    "\n",
    "print(max(list1))\n",
    "print(max(list2))"
   ]
  },
  {
   "cell_type": "code",
   "execution_count": 28,
   "metadata": {},
   "outputs": [
    {
     "data": {
      "text/plain": [
       "444"
      ]
     },
     "execution_count": 28,
     "metadata": {},
     "output_type": "execute_result"
    }
   ],
   "source": [
    "example = [2,33,444,100]\n",
    "\n",
    "max(example)"
   ]
  },
  {
   "cell_type": "code",
   "execution_count": 30,
   "metadata": {},
   "outputs": [
    {
     "data": {
      "text/plain": [
       "'z'"
      ]
     },
     "execution_count": 30,
     "metadata": {},
     "output_type": "execute_result"
    }
   ],
   "source": [
    "string_example = [\"a\",\"b\",\"c\",\"d\",\"z\"]\n",
    "max(string_example)"
   ]
  },
  {
   "cell_type": "code",
   "execution_count": 34,
   "metadata": {},
   "outputs": [
    {
     "data": {
      "text/plain": [
       "'z'"
      ]
     },
     "execution_count": 34,
     "metadata": {},
     "output_type": "execute_result"
    }
   ],
   "source": [
    "string_example = [\"a\",\"b\",\"C\",\"d\",\"z\",\"c\",\"Z\"]\n",
    "max(string_example)"
   ]
  },
  {
   "cell_type": "code",
   "execution_count": 48,
   "metadata": {},
   "outputs": [
    {
     "data": {
      "text/plain": [
       "'zeeshan'"
      ]
     },
     "execution_count": 48,
     "metadata": {},
     "output_type": "execute_result"
    }
   ],
   "source": [
    "string_example = [\"Malik\",\"Zeeshan\",\"zeeshan\",\"ahmed\",\"harron\",\"adnan\",\"Dilawar\",\"Bilwal\"]   # ascii letters search in google\n",
    "max(string_example)"
   ]
  },
  {
   "cell_type": "code",
   "execution_count": 49,
   "metadata": {},
   "outputs": [
    {
     "data": {
      "text/plain": [
       "'Bilwal'"
      ]
     },
     "execution_count": 49,
     "metadata": {},
     "output_type": "execute_result"
    }
   ],
   "source": [
    "string_example = [\"Malik\",\"Zeeshan\",\"zeeshan\",\"ahmed\",\"harron\",\"adnan\",\"Dilawar\",\"Bilwal\"]   # ascii letters search in google\n",
    "min(string_example)"
   ]
  },
  {
   "cell_type": "code",
   "execution_count": 53,
   "metadata": {},
   "outputs": [
    {
     "name": "stdout",
     "output_type": "stream",
     "text": [
      "Malik 5\n",
      "Zeeshan 7\n",
      "zeeshan 7\n",
      "ahmed 5\n",
      "harron 6\n",
      "adnan 5\n",
      "Dilawar 7\n",
      "Bilwal 6\n"
     ]
    }
   ],
   "source": [
    "# print the name with highest number of character\n",
    "for example in string_example:\n",
    "    print(example, len(example)) \n",
    "    \n"
   ]
  },
  {
   "cell_type": "code",
   "execution_count": 35,
   "metadata": {},
   "outputs": [
    {
     "ename": "TypeError",
     "evalue": "'>' not supported between instances of 'float' and 'str'",
     "output_type": "error",
     "traceback": [
      "\u001b[1;31m---------------------------------------------------------------------------\u001b[0m",
      "\u001b[1;31mTypeError\u001b[0m                                 Traceback (most recent call last)",
      "Cell \u001b[1;32mIn[35], line 2\u001b[0m\n\u001b[0;32m      1\u001b[0m string_example \u001b[38;5;241m=\u001b[39m [\u001b[38;5;124m\"\u001b[39m\u001b[38;5;124ma\u001b[39m\u001b[38;5;124m\"\u001b[39m,\u001b[38;5;124m\"\u001b[39m\u001b[38;5;124mb\u001b[39m\u001b[38;5;124m\"\u001b[39m,\u001b[38;5;124m\"\u001b[39m\u001b[38;5;124mC\u001b[39m\u001b[38;5;124m\"\u001b[39m,\u001b[38;5;124m\"\u001b[39m\u001b[38;5;124md\u001b[39m\u001b[38;5;124m\"\u001b[39m,\u001b[38;5;124m\"\u001b[39m\u001b[38;5;124mz\u001b[39m\u001b[38;5;124m\"\u001b[39m,\u001b[38;5;124m\"\u001b[39m\u001b[38;5;124mc\u001b[39m\u001b[38;5;124m\"\u001b[39m,\u001b[38;5;124m\"\u001b[39m\u001b[38;5;124mZ\u001b[39m\u001b[38;5;124m\"\u001b[39m,\u001b[38;5;241m1.23\u001b[39m,\u001b[38;5;241m34\u001b[39m,\u001b[38;5;241m43\u001b[39m]\n\u001b[1;32m----> 2\u001b[0m \u001b[38;5;28;43mmax\u001b[39;49m\u001b[43m(\u001b[49m\u001b[43mstring_example\u001b[49m\u001b[43m)\u001b[49m\n",
      "\u001b[1;31mTypeError\u001b[0m: '>' not supported between instances of 'float' and 'str'"
     ]
    }
   ],
   "source": [
    "string_example = [\"a\",\"b\",\"C\",\"d\",\"z\",\"c\",\"Z\",1.23,34,43]\n",
    "max(string_example)"
   ]
  },
  {
   "cell_type": "code",
   "execution_count": 38,
   "metadata": {},
   "outputs": [
    {
     "data": {
      "text/plain": [
       "3004"
      ]
     },
     "execution_count": 38,
     "metadata": {},
     "output_type": "execute_result"
    }
   ],
   "source": [
    "integer_example = [1,34,5,7,100,200,3004,]\n",
    "max(integer_example)"
   ]
  },
  {
   "cell_type": "code",
   "execution_count": 43,
   "metadata": {},
   "outputs": [
    {
     "data": {
      "text/plain": [
       "34"
      ]
     },
     "execution_count": 43,
     "metadata": {},
     "output_type": "execute_result"
    }
   ],
   "source": [
    "integer_example = [1,34,5,7,3.3,-233]\n",
    "max(integer_example)"
   ]
  },
  {
   "cell_type": "code",
   "execution_count": 45,
   "metadata": {},
   "outputs": [
    {
     "data": {
      "text/plain": [
       "10000"
      ]
     },
     "execution_count": 45,
     "metadata": {},
     "output_type": "execute_result"
    }
   ],
   "source": [
    "integer_example = [1,34,5,7,3.3,-233, 100*100]\n",
    "max(integer_example)"
   ]
  },
  {
   "cell_type": "code",
   "execution_count": 44,
   "metadata": {},
   "outputs": [
    {
     "data": {
      "text/plain": [
       "-233"
      ]
     },
     "execution_count": 44,
     "metadata": {},
     "output_type": "execute_result"
    }
   ],
   "source": [
    "integer_example = [1,34,5,7,3.3,-233]\n",
    "min(integer_example)"
   ]
  },
  {
   "cell_type": "code",
   "execution_count": 42,
   "metadata": {},
   "outputs": [
    {
     "ename": "TypeError",
     "evalue": "'>' not supported between instances of 'complex' and 'int'",
     "output_type": "error",
     "traceback": [
      "\u001b[1;31m---------------------------------------------------------------------------\u001b[0m",
      "\u001b[1;31mTypeError\u001b[0m                                 Traceback (most recent call last)",
      "Cell \u001b[1;32mIn[42], line 2\u001b[0m\n\u001b[0;32m      1\u001b[0m integer_example \u001b[38;5;241m=\u001b[39m [\u001b[38;5;241m1\u001b[39m,\u001b[38;5;241m34\u001b[39m,\u001b[38;5;241m5\u001b[39m,\u001b[38;5;241m7\u001b[39m,\u001b[38;5;241m2\u001b[39m\u001b[38;5;241m+\u001b[39m\u001b[38;5;241m3\u001b[39mj]\n\u001b[1;32m----> 2\u001b[0m \u001b[38;5;28;43mmax\u001b[39;49m\u001b[43m(\u001b[49m\u001b[43minteger_example\u001b[49m\u001b[43m)\u001b[49m\n",
      "\u001b[1;31mTypeError\u001b[0m: '>' not supported between instances of 'complex' and 'int'"
     ]
    }
   ],
   "source": [
    "integer_example = [1,34,5,7,2+3j]\n",
    "max(integer_example)"
   ]
  },
  {
   "cell_type": "code",
   "execution_count": null,
   "metadata": {},
   "outputs": [],
   "source": []
  }
 ],
 "metadata": {
  "kernelspec": {
   "display_name": "Python 3",
   "language": "python",
   "name": "python3"
  },
  "language_info": {
   "codemirror_mode": {
    "name": "ipython",
    "version": 3
   },
   "file_extension": ".py",
   "mimetype": "text/x-python",
   "name": "python",
   "nbconvert_exporter": "python",
   "pygments_lexer": "ipython3",
   "version": "3.12.0"
  }
 },
 "nbformat": 4,
 "nbformat_minor": 2
}
